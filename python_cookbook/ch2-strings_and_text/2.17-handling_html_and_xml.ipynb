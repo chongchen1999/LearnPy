{
 "cells": [
  {
   "cell_type": "code",
   "execution_count": 1,
   "metadata": {},
   "outputs": [
    {
     "name": "stdout",
     "output_type": "stream",
     "text": [
      "Elements are written as &quot;&lt;tag&gt;text&lt;/tag&gt;&quot;.\n",
      "Elements are written as \"&lt;tag&gt;text&lt;/tag&gt;\".\n"
     ]
    }
   ],
   "source": [
    "# Escaping Special Characters\n",
    "import html\n",
    "\n",
    "s = 'Elements are written as \"<tag>text</tag>\".'\n",
    "print(html.escape(s))\n",
    "# Output: Elements are written as &quot;&lt;tag&gt;text&lt;/tag&gt;&quot;.\n",
    "\n",
    "# Disable escaping of quotes\n",
    "print(html.escape(s, quote=False))\n",
    "# Output: Elements are written as \"&lt;tag&gt;text&lt;/tag&gt;\"."
   ]
  },
  {
   "cell_type": "code",
   "execution_count": 2,
   "metadata": {},
   "outputs": [
    {
     "name": "stdout",
     "output_type": "stream",
     "text": [
      "b'Spicy Jalape&#241;o'\n"
     ]
    }
   ],
   "source": [
    "# Encoding Non-ASCII Characters\n",
    "s = 'Spicy Jalapeño'\n",
    "encoded_s = s.encode('ascii', errors='xmlcharrefreplace')\n",
    "print(encoded_s)\n",
    "# Output: b'Spicy Jalape&#241;o'"
   ]
  },
  {
   "cell_type": "code",
   "execution_count": 5,
   "metadata": {},
   "outputs": [
    {
     "name": "stdout",
     "output_type": "stream",
     "text": [
      "Spicy \"Jalapeño\".\n",
      "The prompt is >>>\n"
     ]
    }
   ],
   "source": [
    "# Unescaping HTML/XML Entities\n",
    "import html\n",
    "\n",
    "# Example text with HTML entities\n",
    "s = 'Spicy &quot;Jalape&#241;o&quot.'\n",
    "\n",
    "# Unescape the HTML entities\n",
    "unescaped_s = html.unescape(s)\n",
    "print(unescaped_s)\n",
    "# Output: Spicy \"Jalapeño\".\n",
    "\n",
    "from xml.sax.saxutils import unescape\n",
    "\n",
    "t = 'The prompt is &gt;&gt;&gt;'\n",
    "print(unescape(t))\n",
    "# Output: The prompt is >>>"
   ]
  },
  {
   "cell_type": "code",
   "execution_count": 6,
   "metadata": {},
   "outputs": [
    {
     "name": "stdout",
     "output_type": "stream",
     "text": [
      "The prompt is >>>\n"
     ]
    }
   ],
   "source": [
    "# Using Proper Parsers\n",
    "from html.parser import HTMLParser\n",
    "from xml.etree import ElementTree as ET\n",
    "\n",
    "# Example with HTMLParser\n",
    "html_content = '<p>Spicy &quot;Jalape&#241;o&quot;</p>'\n",
    "parser = HTMLParser()\n",
    "parser.feed(html_content)\n",
    "# The parser will automatically handle entity replacement.\n",
    "\n",
    "# Example with ElementTree\n",
    "xml_content = '<root>The prompt is &gt;&gt;&gt;</root>'\n",
    "root = ET.fromstring(xml_content)\n",
    "print(root.text)\n",
    "# Output: The prompt is >>>"
   ]
  }
 ],
 "metadata": {
  "kernelspec": {
   "display_name": "py-env",
   "language": "python",
   "name": "python3"
  },
  "language_info": {
   "codemirror_mode": {
    "name": "ipython",
    "version": 3
   },
   "file_extension": ".py",
   "mimetype": "text/x-python",
   "name": "python",
   "nbconvert_exporter": "python",
   "pygments_lexer": "ipython3",
   "version": "3.11.11"
  }
 },
 "nbformat": 4,
 "nbformat_minor": 2
}
