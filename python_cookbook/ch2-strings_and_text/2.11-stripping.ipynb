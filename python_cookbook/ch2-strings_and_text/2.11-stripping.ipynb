{
 "cells": [
  {
   "cell_type": "code",
   "execution_count": 1,
   "metadata": {},
   "outputs": [
    {
     "name": "stdout",
     "output_type": "stream",
     "text": [
      "hello world\n",
      "hello world \n",
      "\n",
      " hello world\n"
     ]
    }
   ],
   "source": [
    "# Whitespace Stripping:\n",
    "s = ' hello world \\n'\n",
    "print(s.strip())   # 'hello world'\n",
    "print(s.lstrip())  # 'hello world \\n'\n",
    "print(s.rstrip())  # ' hello world'"
   ]
  },
  {
   "cell_type": "code",
   "execution_count": 2,
   "metadata": {},
   "outputs": [
    {
     "name": "stdout",
     "output_type": "stream",
     "text": [
      "hello=====\n",
      "hello\n"
     ]
    }
   ],
   "source": [
    "t = '-----hello====='\n",
    "print(t.lstrip('-'))  # 'hello====='\n",
    "print(t.strip('-='))  # 'hello'"
   ]
  },
  {
   "cell_type": "code",
   "execution_count": 3,
   "metadata": {},
   "outputs": [
    {
     "name": "stdout",
     "output_type": "stream",
     "text": [
      "helloworld\n"
     ]
    }
   ],
   "source": [
    "# replace() Method:\n",
    "s = ' hello world \\n'\n",
    "s = s.strip()\n",
    "print(s.replace(' ', ''))  # 'helloworld'"
   ]
  },
  {
   "cell_type": "code",
   "execution_count": 4,
   "metadata": {},
   "outputs": [
    {
     "name": "stdout",
     "output_type": "stream",
     "text": [
      "hello world\n"
     ]
    }
   ],
   "source": [
    "# Regular Expressions (re.sub):\n",
    "import re\n",
    "s = ' hello   world \\n'\n",
    "print(re.sub('\\s+', ' ', s.strip()))  # 'hello world'"
   ]
  },
  {
   "cell_type": "code",
   "execution_count": 13,
   "metadata": {},
   "outputs": [
    {
     "name": "stdout",
     "output_type": "stream",
     "text": [
      "<_io.TextIOWrapper name='/home/tourist/diy/LearnPy/data/somefile.txt' mode='r' encoding='UTF-8'>\n",
      "This is line 1\n",
      "This is line 2\n",
      "This is line 3\n",
      "This is line 4\n",
      "This is line 5\n",
      "This is line 6\n",
      "This is line 7\n",
      "This is line 8\n",
      "This is line 9\n",
      "This is line 10\n"
     ]
    }
   ],
   "source": [
    "with open(\"/home/tourist/diy/LearnPy/data/somefile.txt\", \"r\") as f:\n",
    "    print(f)\n",
    "    lines = (line.strip() for line in f)  # Generator expression\n",
    "    for line in lines:\n",
    "        print(line)"
   ]
  }
 ],
 "metadata": {
  "kernelspec": {
   "display_name": "py-env",
   "language": "python",
   "name": "python3"
  },
  "language_info": {
   "codemirror_mode": {
    "name": "ipython",
    "version": 3
   },
   "file_extension": ".py",
   "mimetype": "text/x-python",
   "name": "python",
   "nbconvert_exporter": "python",
   "pygments_lexer": "ipython3",
   "version": "3.11.11"
  }
 },
 "nbformat": 4,
 "nbformat_minor": 2
}
