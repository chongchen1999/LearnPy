{
 "cells": [
  {
   "cell_type": "code",
   "execution_count": 1,
   "metadata": {},
   "outputs": [
    {
     "name": "stdout",
     "output_type": "stream",
     "text": [
      "<re.Match object; span=(0, 3), match='123'>\n",
      "<re.Match object; span=(0, 3), match='١٢٣'>\n"
     ]
    }
   ],
   "source": [
    "import re\n",
    "\n",
    "# Compile a regex pattern to match one or more digits\n",
    "num = re.compile(r'\\d+')\n",
    "\n",
    "# Match ASCII digits\n",
    "print(num.match('123'))  # Output: <_sre.SRE_Match object at 0x1007d9ed0>\n",
    "\n",
    "# Match Arabic digits\n",
    "print(num.match('\\u0661\\u0662\\u0663'))  # Output: <_sre.SRE_Match object at 0x101234030>"
   ]
  },
  {
   "cell_type": "code",
   "execution_count": 2,
   "metadata": {},
   "outputs": [],
   "source": [
    "arabic = re.compile(r'[\\u0600-\\u06ff\\u0750-\\u077f\\u08a0-\\u08ff]+')"
   ]
  },
  {
   "cell_type": "code",
   "execution_count": 3,
   "metadata": {},
   "outputs": [
    {
     "name": "stdout",
     "output_type": "stream",
     "text": [
      "<re.Match object; span=(0, 6), match='straße'>\n",
      "None\n",
      "STRASSE\n"
     ]
    }
   ],
   "source": [
    "# Compile a regex pattern for the German word \"straße\" with case-insensitive matching\n",
    "pat = re.compile(r'stra\\u00dfe', re.IGNORECASE)\n",
    "\n",
    "s = 'straße'\n",
    "\n",
    "# Match the lowercase version\n",
    "print(pat.match(s))  # Output: <_sre.SRE_Match object at 0x10069d370>\n",
    "\n",
    "# Attempt to match the uppercase version (fails)\n",
    "print(pat.match(s.upper()))  # Output: None\n",
    "\n",
    "# Case folding example\n",
    "print(s.upper())  # Output: 'STRASSE'"
   ]
  }
 ],
 "metadata": {
  "kernelspec": {
   "display_name": "py-env",
   "language": "python",
   "name": "python3"
  },
  "language_info": {
   "codemirror_mode": {
    "name": "ipython",
    "version": 3
   },
   "file_extension": ".py",
   "mimetype": "text/x-python",
   "name": "python",
   "nbconvert_exporter": "python",
   "pygments_lexer": "ipython3",
   "version": "3.11.11"
  }
 },
 "nbformat": 4,
 "nbformat_minor": 2
}
