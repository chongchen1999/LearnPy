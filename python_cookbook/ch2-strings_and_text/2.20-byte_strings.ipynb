{
 "cells": [
  {
   "cell_type": "code",
   "execution_count": 1,
   "metadata": {},
   "outputs": [
    {
     "name": "stdout",
     "output_type": "stream",
     "text": [
      "b'Hello'\n",
      "True\n",
      "[b'Hello', b'World']\n",
      "b'Hello Cruel World'\n"
     ]
    }
   ],
   "source": [
    "data = b'Hello World'\n",
    "print(data[0:5])  # b'Hello'\n",
    "print(data.startswith(b'Hello'))  # True\n",
    "print(data.split())  # [b'Hello', b'World']\n",
    "print(data.replace(b'Hello', b'Hello Cruel'))  # b'Hello Cruel World'"
   ]
  },
  {
   "cell_type": "code",
   "execution_count": 2,
   "metadata": {},
   "outputs": [
    {
     "name": "stdout",
     "output_type": "stream",
     "text": [
      "bytearray(b'Hello')\n",
      "True\n",
      "[bytearray(b'Hello'), bytearray(b'World')]\n",
      "bytearray(b'Hello Cruel World')\n"
     ]
    }
   ],
   "source": [
    "data = bytearray(b'Hello World')\n",
    "print(data[0:5])  # bytearray(b'Hello')\n",
    "print(data.startswith(b'Hello'))  # True\n",
    "print(data.split())  # [bytearray(b'Hello'), bytearray(b'World')]\n",
    "print(data.replace(b'Hello', b'Hello Cruel'))  # bytearray(b'Hello Cruel World')"
   ]
  },
  {
   "cell_type": "code",
   "execution_count": 3,
   "metadata": {},
   "outputs": [
    {
     "name": "stdout",
     "output_type": "stream",
     "text": [
      "[b'FOO', b'BAR', b'SPAM']\n"
     ]
    }
   ],
   "source": [
    "import re\n",
    "data = b'FOO:BAR,SPAM'\n",
    "# re.split('[:,]', data)  # This will raise a TypeError\n",
    "print(re.split(b'[:,]', data))  # [b'FOO', b'BAR', b'SPAM']"
   ]
  },
  {
   "cell_type": "code",
   "execution_count": 5,
   "metadata": {},
   "outputs": [
    {
     "name": "stdout",
     "output_type": "stream",
     "text": [
      "H\n",
      "e\n",
      "11\n",
      "72\n",
      "101\n",
      "11\n"
     ]
    }
   ],
   "source": [
    "a = 'Hello World'  # Text string\n",
    "print(a[0])  # 'H'\n",
    "print(a[1])  # 'e'\n",
    "print(len(a))\n",
    "\n",
    "b = b'Hello World'  # Byte string\n",
    "print(b[0])  # 72\n",
    "print(b[1])  # 101\n",
    "print(len(b))"
   ]
  },
  {
   "cell_type": "code",
   "execution_count": 7,
   "metadata": {},
   "outputs": [
    {
     "name": "stdout",
     "output_type": "stream",
     "text": [
      "b'Hello World'\n",
      "Hello World\n"
     ]
    }
   ],
   "source": [
    "s = b'Hello World'\n",
    "print(s)  # b'Hello World'\n",
    "print(s.decode('ascii'))  # Hello World"
   ]
  },
  {
   "cell_type": "code",
   "execution_count": 9,
   "metadata": {},
   "outputs": [
    {
     "name": "stdout",
     "output_type": "stream",
     "text": [
      "b'ACME              100     490.10'\n"
     ]
    }
   ],
   "source": [
    "# This will raise a TypeError\n",
    "# b'%10s %10d %10.2f' % (b'ACME', 100, 490.1)\n",
    "\n",
    "# Correct way: use text strings and encode\n",
    "formatted = '{:10s} {:10d} {:10.2f}'.format('ACME', 100, 490.1).encode('ascii')\n",
    "print(formatted)  # b'ACME      100     490.10'"
   ]
  },
  {
   "cell_type": "code",
   "execution_count": 15,
   "metadata": {},
   "outputs": [
    {
     "name": "stdout",
     "output_type": "stream",
     "text": [
      "['2.06-case_insensive.ipynb', '2.07-shortest_match.ipynb', '2.11-stripping.ipynb', '2.12-sanitizing_text.ipynb', '2.19-parser.ipynb', '2.08-multiple_pattern.ipynb', '2.02-match_at_start_or_end.ipynb', 'jalapeño.txt', '2.20-byte_strings.ipynb', '2.15-inserting_variables_to_strings.ipynb', '2.14-concatenating_string.ipynb', '2.05-search_and_replace.ipynb', '2.09-normalizing_unicode.ipynb', '2.16-reformating_text.ipynb', '2.01-splitting_strings.ipynb', '2.03-shell_wildcard.ipynb', '2.10-unicode_in_re.ipynb', '2.17-handling_html_and_xml.ipynb', '2.04-text_pattern.ipynb', '2.13-aligning_text.ipynb', '2.18-tokenizing_text.ipynb']\n",
      "[b'2.06-case_insensive.ipynb', b'2.07-shortest_match.ipynb', b'2.11-stripping.ipynb', b'2.12-sanitizing_text.ipynb', b'2.19-parser.ipynb', b'2.08-multiple_pattern.ipynb', b'2.02-match_at_start_or_end.ipynb', b'jalape\\xc3\\xb1o.txt', b'2.20-byte_strings.ipynb', b'2.15-inserting_variables_to_strings.ipynb', b'2.14-concatenating_string.ipynb', b'2.05-search_and_replace.ipynb', b'2.09-normalizing_unicode.ipynb', b'2.16-reformating_text.ipynb', b'2.01-splitting_strings.ipynb', b'2.03-shell_wildcard.ipynb', b'2.10-unicode_in_re.ipynb', b'2.17-handling_html_and_xml.ipynb', b'2.04-text_pattern.ipynb', b'2.13-aligning_text.ipynb', b'2.18-tokenizing_text.ipynb']\n"
     ]
    }
   ],
   "source": [
    "# Write a UTF-8 filename\n",
    "with open('jalape\\xf1o.txt', 'w') as f:\n",
    "    f.write('spicy')\n",
    "\n",
    "# Get a directory listing\n",
    "import os\n",
    "print(os.listdir('.'))  # ['jalapeño.txt']\n",
    "print(os.listdir(b'.'))  # [b'jalapen\\xcc\\x83o.txt']"
   ]
  }
 ],
 "metadata": {
  "kernelspec": {
   "display_name": "py-env",
   "language": "python",
   "name": "python3"
  },
  "language_info": {
   "codemirror_mode": {
    "name": "ipython",
    "version": 3
   },
   "file_extension": ".py",
   "mimetype": "text/x-python",
   "name": "python",
   "nbconvert_exporter": "python",
   "pygments_lexer": "ipython3",
   "version": "3.11.11"
  }
 },
 "nbformat": 4,
 "nbformat_minor": 2
}
