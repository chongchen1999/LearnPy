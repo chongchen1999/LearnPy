{
 "cells": [
  {
   "cell_type": "code",
   "execution_count": 1,
   "metadata": {},
   "outputs": [
    {
     "name": "stdout",
     "output_type": "stream",
     "text": [
      "Setting x = 42\n",
      "Getting x\n",
      "42\n",
      "Deleting x\n"
     ]
    }
   ],
   "source": [
    "class LoggedMappingMixin:\n",
    "    __slots__ = ()\n",
    "    \n",
    "    def __getitem__(self, key):\n",
    "        print(f\"Getting {key}\")\n",
    "        return super().__getitem__(key)\n",
    "    \n",
    "    def __setitem__(self, key, value):\n",
    "        print(f\"Setting {key} = {value}\")\n",
    "        return super().__setitem__(key, value)\n",
    "    \n",
    "    def __delitem__(self, key):\n",
    "        print(f\"Deleting {key}\")\n",
    "        return super().__delitem__(key)\n",
    "\n",
    "class LoggedDict(LoggedMappingMixin, dict):\n",
    "    pass\n",
    "\n",
    "# Usage\n",
    "d = LoggedDict()\n",
    "d['x'] = 42  # Output: Setting x = 42\n",
    "print(d['x'])  # Output: Getting x -> 42\n",
    "del d['x']  # Output: Deleting x\n"
   ]
  },
  {
   "cell_type": "code",
   "execution_count": 2,
   "metadata": {},
   "outputs": [
    {
     "name": "stdout",
     "output_type": "stream",
     "text": [
      "Setting x = 42\n",
      "Getting x\n",
      "42\n",
      "Deleting x\n"
     ]
    }
   ],
   "source": [
    "def LoggedMapping(cls):\n",
    "    cls_getitem = cls.__getitem__\n",
    "    cls_setitem = cls.__setitem__\n",
    "    cls_delitem = cls.__delitem__\n",
    "\n",
    "    def __getitem__(self, key):\n",
    "        print(f\"Getting {key}\")\n",
    "        return cls_getitem(self, key)\n",
    "\n",
    "    def __setitem__(self, key, value):\n",
    "        print(f\"Setting {key} = {value}\")\n",
    "        return cls_setitem(self, key, value)\n",
    "\n",
    "    def __delitem__(self, key):\n",
    "        print(f\"Deleting {key}\")\n",
    "        return cls_delitem(self, key)\n",
    "\n",
    "    cls.__getitem__ = __getitem__\n",
    "    cls.__setitem__ = __setitem__\n",
    "    cls.__delitem__ = __delitem__\n",
    "    return cls\n",
    "\n",
    "@LoggedMapping\n",
    "class LoggedDict(dict):\n",
    "    pass\n",
    "\n",
    "# Usage\n",
    "d = LoggedDict()\n",
    "d['x'] = 42  # Output: Setting x = 42\n",
    "print(d['x'])  # Output: Getting x -> 42\n",
    "del d['x']  # Output: Deleting x\n"
   ]
  }
 ],
 "metadata": {
  "kernelspec": {
   "display_name": "py-env",
   "language": "python",
   "name": "python3"
  },
  "language_info": {
   "codemirror_mode": {
    "name": "ipython",
    "version": 3
   },
   "file_extension": ".py",
   "mimetype": "text/x-python",
   "name": "python",
   "nbconvert_exporter": "python",
   "pygments_lexer": "ipython3",
   "version": "3.11.11"
  }
 },
 "nbformat": 4,
 "nbformat_minor": 2
}
