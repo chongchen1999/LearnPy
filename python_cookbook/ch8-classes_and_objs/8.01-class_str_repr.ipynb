{
 "cells": [
  {
   "cell_type": "code",
   "execution_count": 1,
   "metadata": {},
   "outputs": [],
   "source": [
    "class Pair:\n",
    "    def __init__(self, x, y):\n",
    "        self.x = x\n",
    "        self.y = y\n",
    "\n",
    "    def __repr__(self):\n",
    "        return 'Pair({0.x!r}, {0.y!r})'.format(self)\n",
    "\n",
    "    def __str__(self):\n",
    "        return '({0.x!s}, {0.y!s})'.format(self)"
   ]
  },
  {
   "cell_type": "code",
   "execution_count": 2,
   "metadata": {},
   "outputs": [
    {
     "name": "stdout",
     "output_type": "stream",
     "text": [
      "Pair(3, 4)\n",
      "(3, 4)\n",
      "p is Pair(3, 4)\n",
      "p is (3, 4)\n"
     ]
    }
   ],
   "source": [
    "p = Pair(3, 4)\n",
    "\n",
    "# Using repr() or just evaluating the object in the interpreter\n",
    "print(repr(p))  # Output: Pair(3, 4)\n",
    "\n",
    "# Using str() or print()\n",
    "print(p)        # Output: (3, 4)\n",
    "\n",
    "# Using format() with !r to force repr()\n",
    "print('p is {0!r}'.format(p))  # Output: p is Pair(3, 4)\n",
    "\n",
    "# Using format() without !r (defaults to str())\n",
    "print('p is {0}'.format(p))    # Output: p is (3, 4)"
   ]
  },
  {
   "cell_type": "code",
   "execution_count": 3,
   "metadata": {},
   "outputs": [],
   "source": [
    "class Pair:\n",
    "    def __init__(self, x, y):\n",
    "        self.x = x\n",
    "        self.y = y\n",
    "\n",
    "    def __repr__(self):\n",
    "        return 'Pair(%r, %r)' % (self.x, self.y)\n",
    "\n",
    "    def __str__(self):\n",
    "        return '(%s, %s)' % (self.x, self.y)"
   ]
  }
 ],
 "metadata": {
  "kernelspec": {
   "display_name": "py-env",
   "language": "python",
   "name": "python3"
  },
  "language_info": {
   "codemirror_mode": {
    "name": "ipython",
    "version": 3
   },
   "file_extension": ".py",
   "mimetype": "text/x-python",
   "name": "python",
   "nbconvert_exporter": "python",
   "pygments_lexer": "ipython3",
   "version": "3.11.11"
  }
 },
 "nbformat": 4,
 "nbformat_minor": 2
}
