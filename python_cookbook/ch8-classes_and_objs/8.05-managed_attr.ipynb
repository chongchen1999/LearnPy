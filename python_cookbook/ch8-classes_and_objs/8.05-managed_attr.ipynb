{
 "cells": [
  {
   "cell_type": "code",
   "execution_count": 1,
   "metadata": {},
   "outputs": [],
   "source": [
    "class Person:\n",
    "    def __init__(self, first_name):\n",
    "        self.first_name = first_name  # This uses the setter method\n",
    "\n",
    "    # Getter function\n",
    "    @property\n",
    "    def first_name(self):\n",
    "        return self._first_name\n",
    "\n",
    "    # Setter function\n",
    "    @first_name.setter\n",
    "    def first_name(self, value):\n",
    "        if not isinstance(value, str):\n",
    "            raise TypeError('Expected a string')\n",
    "        self._first_name = value\n",
    "\n",
    "    # Deleter function (optional)\n",
    "    @first_name.deleter\n",
    "    def first_name(self):\n",
    "        raise AttributeError(\"Can't delete attribute\")"
   ]
  },
  {
   "cell_type": "code",
   "execution_count": 2,
   "metadata": {},
   "outputs": [
    {
     "name": "stdout",
     "output_type": "stream",
     "text": [
      "Guido\n",
      "Larry\n",
      "Expected a string\n",
      "Can't delete attribute\n"
     ]
    }
   ],
   "source": [
    "# Creating an instance of Person\n",
    "a = Person('Guido')\n",
    "\n",
    "# Accessing the property (calls the getter)\n",
    "print(a.first_name)  # Output: Guido\n",
    "\n",
    "# Setting the property (calls the setter)\n",
    "a.first_name = 'Larry'\n",
    "print(a.first_name)  # Output: Larry\n",
    "\n",
    "# Trying to set an invalid type (calls the setter)\n",
    "try:\n",
    "    a.first_name = 42  # Raises TypeError\n",
    "except TypeError as e:\n",
    "    print(e)  # Output: Expected a string\n",
    "\n",
    "# Trying to delete the property (calls the deleter)\n",
    "try:\n",
    "    del a.first_name  # Raises AttributeError\n",
    "except AttributeError as e:\n",
    "    print(e)  # Output: Can't delete attribute"
   ]
  },
  {
   "cell_type": "code",
   "execution_count": 3,
   "metadata": {},
   "outputs": [],
   "source": [
    "import math\n",
    "\n",
    "class Circle:\n",
    "    def __init__(self, radius):\n",
    "        self.radius = radius\n",
    "\n",
    "    @property\n",
    "    def area(self):\n",
    "        return math.pi * self.radius ** 2\n",
    "\n",
    "    @property\n",
    "    def perimeter(self):\n",
    "        return 2 * math.pi * self.radius"
   ]
  },
  {
   "cell_type": "code",
   "execution_count": 4,
   "metadata": {},
   "outputs": [
    {
     "name": "stdout",
     "output_type": "stream",
     "text": [
      "4.0\n",
      "50.26548245743669\n",
      "25.132741228718345\n"
     ]
    }
   ],
   "source": [
    "c = Circle(4.0)\n",
    "print(c.radius)    # Output: 4.0\n",
    "print(c.area)      # Output: 50.26548245743669\n",
    "print(c.perimeter) # Output: 25.132741228718345"
   ]
  },
  {
   "cell_type": "code",
   "execution_count": 5,
   "metadata": {},
   "outputs": [],
   "source": [
    "class Person:\n",
    "    def __init__(self, first_name):\n",
    "        self.set_first_name(first_name)\n",
    "\n",
    "    def get_first_name(self):\n",
    "        return self._first_name\n",
    "\n",
    "    def set_first_name(self, value):\n",
    "        if not isinstance(value, str):\n",
    "            raise TypeError('Expected a string')\n",
    "        self._first_name = value\n",
    "\n",
    "    def del_first_name(self):\n",
    "        raise AttributeError(\"Can't delete attribute\")\n",
    "\n",
    "    name = property(get_first_name, set_first_name, del_first_name)"
   ]
  },
  {
   "cell_type": "code",
   "execution_count": 6,
   "metadata": {},
   "outputs": [
    {
     "name": "stdout",
     "output_type": "stream",
     "text": [
      "Guido\n",
      "Larry\n"
     ]
    }
   ],
   "source": [
    "p = Person('Guido')\n",
    "print(p.get_first_name())  # Output: Guido\n",
    "p.set_first_name('Larry')\n",
    "print(p.get_first_name())  # Output: Larry"
   ]
  }
 ],
 "metadata": {
  "kernelspec": {
   "display_name": "py-env",
   "language": "python",
   "name": "python3"
  },
  "language_info": {
   "codemirror_mode": {
    "name": "ipython",
    "version": 3
   },
   "file_extension": ".py",
   "mimetype": "text/x-python",
   "name": "python",
   "nbconvert_exporter": "python",
   "pygments_lexer": "ipython3",
   "version": "3.11.11"
  }
 },
 "nbformat": 4,
 "nbformat_minor": 2
}
