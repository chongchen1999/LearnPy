{
 "cells": [
  {
   "cell_type": "code",
   "execution_count": 1,
   "metadata": {},
   "outputs": [],
   "source": [
    "import time\n",
    "\n",
    "class Date:\n",
    "    # Primary constructor\n",
    "    def __init__(self, year, month, day):\n",
    "        self.year = year\n",
    "        self.month = month\n",
    "        self.day = day\n",
    "\n",
    "    # Alternate constructor\n",
    "    @classmethod\n",
    "    def today(cls):\n",
    "        t = time.localtime()\n",
    "        return cls(t.tm_year, t.tm_mon, t.tm_mday)"
   ]
  },
  {
   "cell_type": "code",
   "execution_count": 3,
   "metadata": {},
   "outputs": [
    {
     "name": "stdout",
     "output_type": "stream",
     "text": [
      "<__main__.Date object at 0x7fadb4e47910>\n",
      "<__main__.Date object at 0x7fadb4e4ca10>\n"
     ]
    }
   ],
   "source": [
    "a = Date(2012, 12, 21)  # Primary constructor\n",
    "b = Date.today()        # Alternate constructor\n",
    "\n",
    "print(a)\n",
    "print(b)"
   ]
  },
  {
   "cell_type": "code",
   "execution_count": 4,
   "metadata": {},
   "outputs": [],
   "source": [
    "class NewDate(Date):\n",
    "    pass\n",
    "\n",
    "c = Date.today()      # Creates an instance of Date\n",
    "d = NewDate.today()   # Creates an instance of NewDate"
   ]
  },
  {
   "cell_type": "code",
   "execution_count": 5,
   "metadata": {},
   "outputs": [
    {
     "name": "stdout",
     "output_type": "stream",
     "text": [
      "2025 1 27\n",
      "2019 12 25\n"
     ]
    }
   ],
   "source": [
    "class Date:\n",
    "    def __init__(self, *args):\n",
    "        if len(args) == 0:\n",
    "            t = time.localtime()\n",
    "            args = (t.tm_year, t.tm_mon, t.tm_mday)\n",
    "        self.year, self.month, self.day = args\n",
    "\n",
    "x = Date()\n",
    "y = Date(2019, 12, 25)\n",
    "\n",
    "print(x.year, x.month, x.day)\n",
    "print(y.year, y.month, y.day)"
   ]
  }
 ],
 "metadata": {
  "kernelspec": {
   "display_name": "py-env",
   "language": "python",
   "name": "python3"
  },
  "language_info": {
   "codemirror_mode": {
    "name": "ipython",
    "version": 3
   },
   "file_extension": ".py",
   "mimetype": "text/x-python",
   "name": "python",
   "nbconvert_exporter": "python",
   "pygments_lexer": "ipython3",
   "version": "3.11.11"
  }
 },
 "nbformat": 4,
 "nbformat_minor": 2
}
