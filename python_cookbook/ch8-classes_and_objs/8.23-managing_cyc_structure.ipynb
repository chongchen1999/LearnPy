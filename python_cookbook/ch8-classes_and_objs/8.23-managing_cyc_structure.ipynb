{
 "cells": [
  {
   "cell_type": "code",
   "execution_count": 1,
   "metadata": {},
   "outputs": [],
   "source": [
    "import weakref\n",
    "\n",
    "class Node:\n",
    "    def __init__(self, value):\n",
    "        self.value = value\n",
    "        self._parent = None  # Weak reference to parent\n",
    "        self.children = []\n",
    "\n",
    "    def __repr__(self):\n",
    "        return f\"Node({self.value!r})\"\n",
    "\n",
    "    # Manage parent as a weak reference\n",
    "    @property\n",
    "    def parent(self):\n",
    "        return self._parent() if self._parent is not None else None\n",
    "\n",
    "    @parent.setter\n",
    "    def parent(self, node):\n",
    "        self._parent = weakref.ref(node)\n",
    "\n",
    "    def add_child(self, child):\n",
    "        self.children.append(child)\n",
    "        child.parent = self\n"
   ]
  },
  {
   "cell_type": "code",
   "execution_count": 2,
   "metadata": {},
   "outputs": [],
   "source": [
    "class Node:\n",
    "    def __init__(self):\n",
    "        self.parent = None\n",
    "        self.children = []\n",
    "\n",
    "    def add_child(self, child):\n",
    "        self.children.append(child)\n",
    "        child.parent = self\n",
    "\n",
    "a = Node()\n",
    "a.add_child(Node())  # Creates a cycle between parent and child\n",
    "del a                # Memory is not immediately freed\n"
   ]
  },
  {
   "cell_type": "code",
   "execution_count": 3,
   "metadata": {},
   "outputs": [
    {
     "data": {
      "text/plain": [
       "19"
      ]
     },
     "execution_count": 3,
     "metadata": {},
     "output_type": "execute_result"
    }
   ],
   "source": [
    "import gc\n",
    "gc.collect()\n"
   ]
  },
  {
   "cell_type": "code",
   "execution_count": 4,
   "metadata": {},
   "outputs": [],
   "source": [
    "class Node:\n",
    "    def __init__(self):\n",
    "        self.children = []\n",
    "\n",
    "    def __del__(self):\n",
    "        del self.children  # Prevents garbage collection in cycles\n"
   ]
  },
  {
   "cell_type": "code",
   "execution_count": 5,
   "metadata": {},
   "outputs": [
    {
     "name": "stdout",
     "output_type": "stream",
     "text": [
      "<__main__.Node object at 0x7f59741776d0>\n",
      "None\n"
     ]
    }
   ],
   "source": [
    "import weakref\n",
    "\n",
    "a = Node()\n",
    "a_ref = weakref.ref(a)\n",
    "print(a_ref())  # Access the object\n",
    "del a\n",
    "print(a_ref())  # None, since the object is deleted\n"
   ]
  }
 ],
 "metadata": {
  "kernelspec": {
   "display_name": "py-env",
   "language": "python",
   "name": "python3"
  },
  "language_info": {
   "codemirror_mode": {
    "name": "ipython",
    "version": 3
   },
   "file_extension": ".py",
   "mimetype": "text/x-python",
   "name": "python",
   "nbconvert_exporter": "python",
   "pygments_lexer": "ipython3",
   "version": "3.11.11"
  }
 },
 "nbformat": 4,
 "nbformat_minor": 2
}
