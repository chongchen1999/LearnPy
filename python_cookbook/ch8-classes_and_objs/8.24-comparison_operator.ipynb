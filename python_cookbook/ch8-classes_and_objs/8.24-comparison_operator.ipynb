{
 "cells": [
  {
   "cell_type": "code",
   "execution_count": 1,
   "metadata": {},
   "outputs": [],
   "source": [
    "from functools import total_ordering\n",
    "\n",
    "class Room:\n",
    "    def __init__(self, name, length, width):\n",
    "        self.name = name\n",
    "        self.length = length\n",
    "        self.width = width\n",
    "        self.square_feet = self.length * self.width\n",
    "\n",
    "@total_ordering\n",
    "class House:\n",
    "    def __init__(self, name, style):\n",
    "        self.name = name\n",
    "        self.style = style\n",
    "        self.rooms = []\n",
    "\n",
    "    @property\n",
    "    def living_space_footage(self):\n",
    "        return sum(room.square_feet for room in self.rooms)\n",
    "\n",
    "    def add_room(self, room):\n",
    "        self.rooms.append(room)\n",
    "\n",
    "    def __str__(self):\n",
    "        return f\"{self.name}: {self.living_space_footage} square foot {self.style}\"\n",
    "\n",
    "    # Required methods for @total_ordering\n",
    "    def __eq__(self, other):\n",
    "        return self.living_space_footage == other.living_space_footage\n",
    "\n",
    "    def __lt__(self, other):\n",
    "        return self.living_space_footage < other.living_space_footage\n"
   ]
  },
  {
   "cell_type": "code",
   "execution_count": 2,
   "metadata": {},
   "outputs": [
    {
     "name": "stdout",
     "output_type": "stream",
     "text": [
      "Is h1 bigger than h2? False\n",
      "Is h2 smaller than h3? True\n",
      "Is h2 greater than or equal to h1? True\n",
      "Which one is biggest? h3: 1101 square foot Split\n",
      "Which is smallest? h1: 846 square foot Cape\n"
     ]
    }
   ],
   "source": [
    "# Create houses and add rooms\n",
    "h1 = House('h1', 'Cape')\n",
    "h1.add_room(Room('Master Bedroom', 14, 21))\n",
    "h1.add_room(Room('Living Room', 18, 20))\n",
    "h1.add_room(Room('Kitchen', 12, 16))\n",
    "\n",
    "h2 = House('h2', 'Ranch')\n",
    "h2.add_room(Room('Master Bedroom', 14, 21))\n",
    "h2.add_room(Room('Living Room', 18, 20))\n",
    "h2.add_room(Room('Kitchen', 12, 16))\n",
    "\n",
    "h3 = House('h3', 'Split')\n",
    "h3.add_room(Room('Master Bedroom', 14, 21))\n",
    "h3.add_room(Room('Living Room', 18, 20))\n",
    "h3.add_room(Room('Office', 12, 16))\n",
    "h3.add_room(Room('Kitchen', 15, 17))\n",
    "\n",
    "houses = [h1, h2, h3]\n",
    "\n",
    "# Comparisons\n",
    "print('Is h1 bigger than h2?', h1 > h2)  # True\n",
    "print('Is h2 smaller than h3?', h2 < h3)  # True\n",
    "print('Is h2 greater than or equal to h1?', h2 >= h1)  # False\n",
    "print('Which one is biggest?', max(houses))  # h3: largest house\n",
    "print('Which is smallest?', min(houses))    # h2: smallest house\n"
   ]
  },
  {
   "cell_type": "code",
   "execution_count": 3,
   "metadata": {},
   "outputs": [],
   "source": [
    "__le__ = lambda self, other: self < other or self == other\n",
    "__gt__ = lambda self, other: not (self < other or self == other)\n",
    "__ge__ = lambda self, other: not (self < other)\n",
    "__ne__ = lambda self, other: not self == other\n"
   ]
  }
 ],
 "metadata": {
  "kernelspec": {
   "display_name": "py-env",
   "language": "python",
   "name": "python3"
  },
  "language_info": {
   "codemirror_mode": {
    "name": "ipython",
    "version": 3
   },
   "file_extension": ".py",
   "mimetype": "text/x-python",
   "name": "python",
   "nbconvert_exporter": "python",
   "pygments_lexer": "ipython3",
   "version": "3.11.11"
  }
 },
 "nbformat": 4,
 "nbformat_minor": 2
}
