{
 "cells": [
  {
   "cell_type": "code",
   "execution_count": 1,
   "metadata": {},
   "outputs": [
    {
     "name": "stdout",
     "output_type": "stream",
     "text": [
      "2023\n",
      "10\n",
      "5\n",
      "Date(year=2023, month=10, day=5)\n",
      "Error: 'Date' object has no attribute 'weekday'\n"
     ]
    }
   ],
   "source": [
    "# Define the Date class with __slots__\n",
    "class Date:\n",
    "    __slots__ = ['year', 'month', 'day']\n",
    "    \n",
    "    def __init__(self, year, month, day):\n",
    "        self.year = year\n",
    "        self.month = month\n",
    "        self.day = day\n",
    "\n",
    "    def __repr__(self):\n",
    "        return f\"Date(year={self.year}, month={self.month}, day={self.day})\"\n",
    "\n",
    "# Create an instance of the Date class\n",
    "date = Date(2023, 10, 5)\n",
    "\n",
    "# Access attributes\n",
    "print(date.year)   # Output: 2023\n",
    "print(date.month)  # Output: 10\n",
    "print(date.day)    # Output: 5\n",
    "\n",
    "# Print the instance (uses __repr__)\n",
    "print(date)        # Output: Date(year=2023, month=10, day=5)\n",
    "\n",
    "# Attempt to add a new attribute (will raise an AttributeError)\n",
    "try:\n",
    "    date.weekday = \"Thursday\"\n",
    "except AttributeError as e:\n",
    "    print(f\"Error: {e}\")  # Output: Error: 'Date' object has no attribute 'weekday'"
   ]
  }
 ],
 "metadata": {
  "kernelspec": {
   "display_name": "py-env",
   "language": "python",
   "name": "python3"
  },
  "language_info": {
   "codemirror_mode": {
    "name": "ipython",
    "version": 3
   },
   "file_extension": ".py",
   "mimetype": "text/x-python",
   "name": "python",
   "nbconvert_exporter": "python",
   "pygments_lexer": "ipython3",
   "version": "3.11.11"
  }
 },
 "nbformat": 4,
 "nbformat_minor": 2
}
