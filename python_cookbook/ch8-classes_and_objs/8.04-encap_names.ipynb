{
 "cells": [
  {
   "cell_type": "code",
   "execution_count": null,
   "metadata": {},
   "outputs": [],
   "source": [
    "class A:\n",
    "    def __init__(self):\n",
    "        self._internal = 0  # Internal attribute\n",
    "        self.public = 1     # Public attribute\n",
    "\n",
    "    def public_method(self):\n",
    "        '''A public method'''\n",
    "        pass\n",
    "\n",
    "    def _internal_method(self):\n",
    "        '''An internal method'''\n",
    "        pass"
   ]
  },
  {
   "cell_type": "code",
   "execution_count": 1,
   "metadata": {},
   "outputs": [],
   "source": [
    "class B:\n",
    "    def __init__(self):\n",
    "        self.__private = 0  # Private attribute\n",
    "\n",
    "    def __private_method(self):\n",
    "        '''A private method'''\n",
    "        pass\n",
    "\n",
    "    def public_method(self):\n",
    "        '''A public method'''\n",
    "        self.__private_method()"
   ]
  },
  {
   "cell_type": "code",
   "execution_count": 2,
   "metadata": {},
   "outputs": [],
   "source": [
    "class C(B):\n",
    "    def __init__(self):\n",
    "        super().__init__()\n",
    "        self.__private = 1  # Does not override B.__private\n",
    "\n",
    "    def __private_method(self):\n",
    "        '''Does not override B.__private_method'''\n",
    "        pass"
   ]
  }
 ],
 "metadata": {
  "kernelspec": {
   "display_name": "py-env",
   "language": "python",
   "name": "python3"
  },
  "language_info": {
   "codemirror_mode": {
    "name": "ipython",
    "version": 3
   },
   "file_extension": ".py",
   "mimetype": "text/x-python",
   "name": "python",
   "nbconvert_exporter": "python",
   "pygments_lexer": "ipython3",
   "version": "3.11.11"
  }
 },
 "nbformat": 4,
 "nbformat_minor": 2
}
