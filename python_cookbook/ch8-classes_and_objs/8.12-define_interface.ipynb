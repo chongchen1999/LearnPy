{
 "cells": [
  {
   "cell_type": "code",
   "execution_count": 1,
   "metadata": {},
   "outputs": [],
   "source": [
    "from abc import ABCMeta, abstractmethod\n",
    "\n",
    "class IStream(metaclass=ABCMeta):\n",
    "    @abstractmethod\n",
    "    def read(self, maxbytes=-1):\n",
    "        pass\n",
    "\n",
    "    @abstractmethod\n",
    "    def write(self, data):\n",
    "        pass"
   ]
  },
  {
   "cell_type": "code",
   "execution_count": 2,
   "metadata": {},
   "outputs": [],
   "source": [
    "class SocketStream(IStream):\n",
    "    def read(self, maxbytes=-1):\n",
    "        # Implementation of read method\n",
    "        pass\n",
    "\n",
    "    def write(self, data):\n",
    "        # Implementation of write method\n",
    "        pass"
   ]
  },
  {
   "cell_type": "code",
   "execution_count": 3,
   "metadata": {},
   "outputs": [],
   "source": [
    "def serialize(obj, stream):\n",
    "    if not isinstance(stream, IStream):\n",
    "        raise TypeError('Expected an IStream')\n",
    "    # Proceed with serialization"
   ]
  },
  {
   "cell_type": "code",
   "execution_count": 6,
   "metadata": {},
   "outputs": [
    {
     "data": {
      "text/plain": [
       "True"
      ]
     },
     "execution_count": 6,
     "metadata": {},
     "output_type": "execute_result"
    }
   ],
   "source": [
    "import io\n",
    "\n",
    "# Register the built-in I/O classes as supporting our interface\n",
    "IStream.register(io.IOBase)\n",
    "\n",
    "# Open a normal file and type check\n",
    "f = open('/home/tourist/diy/LearnPy/data/foo.txt')\n",
    "isinstance(f, IStream)  # Returns True"
   ]
  },
  {
   "cell_type": "code",
   "execution_count": 7,
   "metadata": {},
   "outputs": [],
   "source": [
    "from abc import ABCMeta, abstractmethod\n",
    "\n",
    "class A(metaclass=ABCMeta):\n",
    "    @property\n",
    "    @abstractmethod\n",
    "    def name(self):\n",
    "        pass\n",
    "\n",
    "    @name.setter\n",
    "    @abstractmethod\n",
    "    def name(self, value):\n",
    "        pass\n",
    "\n",
    "    @classmethod\n",
    "    @abstractmethod\n",
    "    def method1(cls):\n",
    "        pass\n",
    "\n",
    "    @staticmethod\n",
    "    @abstractmethod\n",
    "    def method2():\n",
    "        pass"
   ]
  },
  {
   "cell_type": "code",
   "execution_count": 9,
   "metadata": {},
   "outputs": [
    {
     "name": "stdout",
     "output_type": "stream",
     "text": [
      "x_sequence is a Sequence\n",
      "x_iterable is an Iterable\n",
      "x_sized is Sized\n",
      "x_mapping is a Mapping\n"
     ]
    }
   ],
   "source": [
    "from collections.abc import Sequence, Iterable, Sized, Mapping\n",
    "\n",
    "# Check if x is a sequence\n",
    "x_sequence = [1, 2, 3]  # A list is a sequence\n",
    "if isinstance(x_sequence, Sequence):\n",
    "    print(\"x_sequence is a Sequence\")\n",
    "\n",
    "# Check if x is iterable\n",
    "x_iterable = {1, 2, 3}  # A set is iterable\n",
    "if isinstance(x_iterable, Iterable):\n",
    "    print(\"x_iterable is an Iterable\")\n",
    "\n",
    "# Check if x has a size\n",
    "x_sized = \"hello\"  # A string has a size\n",
    "if isinstance(x_sized, Sized):\n",
    "    print(\"x_sized is Sized\")\n",
    "\n",
    "# Check if x is a mapping\n",
    "x_mapping = {\"key\": \"value\"}  # A dictionary is a mapping\n",
    "if isinstance(x_mapping, Mapping):\n",
    "    print(\"x_mapping is a Mapping\")\n"
   ]
  }
 ],
 "metadata": {
  "kernelspec": {
   "display_name": "py-env",
   "language": "python",
   "name": "python3"
  },
  "language_info": {
   "codemirror_mode": {
    "name": "ipython",
    "version": 3
   },
   "file_extension": ".py",
   "mimetype": "text/x-python",
   "name": "python",
   "nbconvert_exporter": "python",
   "pygments_lexer": "ipython3",
   "version": "3.11.11"
  }
 },
 "nbformat": 4,
 "nbformat_minor": 2
}
