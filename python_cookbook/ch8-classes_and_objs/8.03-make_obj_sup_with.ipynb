{
 "cells": [
  {
   "cell_type": "code",
   "execution_count": 1,
   "metadata": {},
   "outputs": [
    {
     "name": "stdout",
     "output_type": "stream",
     "text": [
      "b'HTTP/1.1 301 Moved Permanently\\r\\nConnection: close\\r\\nContent-Length: 0\\r\\nServer: Varnish\\r\\nRetry-After: 0\\r\\nLocation: https://www.python.org/index.html\\r\\nAccept-Ranges: bytes\\r\\nDate: Mon, 27 Jan 2025 18:32:27 GMT\\r\\nVia: 1.1 varnish\\r\\nX-Served-By: cache-iad-kjyo7100033-IAD\\r\\nX-Cache: HIT\\r\\nX-Cache-Hits: 0\\r\\nX-Timer: S1738002748.766822,VS0,VE0\\r\\nStrict-Transport-Security: max-age=63072000; includeSubDomains; preload\\r\\n\\r\\n'\n",
      "b'HTTP/1.1 301 Moved Permanently\\r\\nConnection: close\\r\\nContent-Length: 0\\r\\nServer: Varnish\\r\\nRetry-After: 0\\r\\nLocation: https://www.python.org/about\\r\\nAccept-Ranges: bytes\\r\\nDate: Mon, 27 Jan 2025 18:32:27 GMT\\r\\nVia: 1.1 varnish\\r\\nX-Served-By: cache-iad-kjyo7100078-IAD\\r\\nX-Cache: HIT\\r\\nX-Cache-Hits: 0\\r\\nX-Timer: S1738002748.920913,VS0,VE0\\r\\nStrict-Transport-Security: max-age=63072000; includeSubDomains; preload\\r\\n\\r\\n'\n"
     ]
    }
   ],
   "source": [
    "from socket import socket, AF_INET, SOCK_STREAM\n",
    "\n",
    "class LazyConnection:\n",
    "    def __init__(self, address, family=AF_INET, type=SOCK_STREAM):\n",
    "        self.address = address\n",
    "        self.family = family\n",
    "        self.type = type\n",
    "        self.connections = []\n",
    "\n",
    "    def __enter__(self):\n",
    "        sock = socket(self.family, self.type)\n",
    "        sock.connect(self.address)\n",
    "        self.connections.append(sock)\n",
    "        return sock\n",
    "\n",
    "    def __exit__(self, exc_ty, exc_val, tb):\n",
    "        self.connections.pop().close()\n",
    "\n",
    "# Example usage\n",
    "from functools import partial\n",
    "\n",
    "conn = LazyConnection(('www.python.org', 80))\n",
    "\n",
    "with conn as s1:\n",
    "    s1.send(b'GET /index.html HTTP/1.0\\r\\n')\n",
    "    s1.send(b'Host: www.python.org\\r\\n')\n",
    "    s1.send(b'\\r\\n')\n",
    "    resp = b''.join(iter(partial(s1.recv, 8192), b''))\n",
    "    print(resp)\n",
    "\n",
    "with conn as s2:\n",
    "    s2.send(b'GET /about HTTP/1.0\\r\\n')\n",
    "    s2.send(b'Host: www.python.org\\r\\n')\n",
    "    s2.send(b'\\r\\n')\n",
    "    resp = b''.join(iter(partial(s2.recv, 8192), b''))\n",
    "    print(resp)"
   ]
  },
  {
   "cell_type": "code",
   "execution_count": 2,
   "metadata": {},
   "outputs": [
    {
     "name": "stdout",
     "output_type": "stream",
     "text": [
      "b'HTTP/1.1 301 Moved Permanently\\r\\nConnection: close\\r\\nContent-Length: 0\\r\\nServer: Varnish\\r\\nRetry-After: 0\\r\\nLocation: https://www.python.org/index.html\\r\\nAccept-Ranges: bytes\\r\\nDate: Mon, 27 Jan 2025 18:33:28 GMT\\r\\nVia: 1.1 varnish\\r\\nX-Served-By: cache-iad-kjyo7100157-IAD\\r\\nX-Cache: HIT\\r\\nX-Cache-Hits: 0\\r\\nX-Timer: S1738002808.063369,VS0,VE0\\r\\nStrict-Transport-Security: max-age=63072000; includeSubDomains; preload\\r\\n\\r\\n'\n"
     ]
    }
   ],
   "source": [
    "from contextlib import contextmanager\n",
    "from socket import socket, AF_INET, SOCK_STREAM\n",
    "\n",
    "@contextmanager\n",
    "def lazy_connection(address, family=AF_INET, type=SOCK_STREAM):\n",
    "    sock = socket(family, type)\n",
    "    sock.connect(address)\n",
    "    try:\n",
    "        yield sock\n",
    "    finally:\n",
    "        sock.close()\n",
    "\n",
    "# Example usage\n",
    "with lazy_connection(('www.python.org', 80)) as s:\n",
    "    s.send(b'GET /index.html HTTP/1.0\\r\\n')\n",
    "    s.send(b'Host: www.python.org\\r\\n')\n",
    "    s.send(b'\\r\\n')\n",
    "    resp = b''.join(iter(partial(s.recv, 8192), b''))\n",
    "    print(resp)"
   ]
  }
 ],
 "metadata": {
  "kernelspec": {
   "display_name": "py-env",
   "language": "python",
   "name": "python3"
  },
  "language_info": {
   "codemirror_mode": {
    "name": "ipython",
    "version": 3
   },
   "file_extension": ".py",
   "mimetype": "text/x-python",
   "name": "python",
   "nbconvert_exporter": "python",
   "pygments_lexer": "ipython3",
   "version": "3.11.11"
  }
 },
 "nbformat": 4,
 "nbformat_minor": 2
}
