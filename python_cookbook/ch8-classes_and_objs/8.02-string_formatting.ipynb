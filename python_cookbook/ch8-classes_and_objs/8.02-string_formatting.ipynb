{
 "cells": [
  {
   "cell_type": "code",
   "execution_count": 1,
   "metadata": {},
   "outputs": [],
   "source": [
    "_formats = {\n",
    "    'ymd': '{d.year}-{d.month}-{d.day}',\n",
    "    'mdy': '{d.month}/{d.day}/{d.year}',\n",
    "    'dmy': '{d.day}/{d.month}/{d.year}'\n",
    "}\n",
    "\n",
    "class Date:\n",
    "    def __init__(self, year, month, day):\n",
    "        self.year = year\n",
    "        self.month = month\n",
    "        self.day = day\n",
    "\n",
    "    def __format__(self, code):\n",
    "        if code == '':\n",
    "            code = 'ymd'\n",
    "        fmt = _formats[code]\n",
    "        return fmt.format(d=self)"
   ]
  },
  {
   "cell_type": "code",
   "execution_count": 2,
   "metadata": {},
   "outputs": [
    {
     "name": "stdout",
     "output_type": "stream",
     "text": [
      "2012-12-21\n",
      "12/21/2012\n",
      "The date is 2012-12-21\n",
      "The date is 12/21/2012\n"
     ]
    }
   ],
   "source": [
    "# Create an instance of the Date class\n",
    "d = Date(2012, 12, 21)\n",
    "\n",
    "# Using the format() function\n",
    "print(format(d))           # Output: '2012-12-21'\n",
    "print(format(d, 'mdy'))    # Output: '12/21/2012'\n",
    "\n",
    "# Using formatted string literals (f-strings)\n",
    "print(f'The date is {d:ymd}')  # Output: 'The date is 2012-12-21'\n",
    "print(f'The date is {d:mdy}')  # Output: 'The date is 12/21/2012'"
   ]
  },
  {
   "cell_type": "code",
   "execution_count": 3,
   "metadata": {},
   "outputs": [
    {
     "name": "stdout",
     "output_type": "stream",
     "text": [
      "2012-12-21\n",
      "Friday, December 21, 2012\n",
      "The end is 21 Dec 2012. Goodbye\n"
     ]
    }
   ],
   "source": [
    "from datetime import date\n",
    "\n",
    "d = date(2012, 12, 21)\n",
    "print(format(d))                          # Output: '2012-12-21'\n",
    "print(format(d, '%A, %B %d, %Y'))         # Output: 'Friday, December 21, 2012'\n",
    "print(f'The end is {d:%d %b %Y}. Goodbye') # Output: 'The end is 21 Dec 2012. Goodbye'"
   ]
  }
 ],
 "metadata": {
  "kernelspec": {
   "display_name": "py-env",
   "language": "python",
   "name": "python3"
  },
  "language_info": {
   "codemirror_mode": {
    "name": "ipython",
    "version": 3
   },
   "file_extension": ".py",
   "mimetype": "text/x-python",
   "name": "python",
   "nbconvert_exporter": "python",
   "pygments_lexer": "ipython3",
   "version": "3.11.11"
  }
 },
 "nbformat": 4,
 "nbformat_minor": 2
}
