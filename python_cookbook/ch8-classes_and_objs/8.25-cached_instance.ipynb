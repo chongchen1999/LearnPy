{
 "cells": [
  {
   "cell_type": "code",
   "execution_count": 1,
   "metadata": {},
   "outputs": [
    {
     "name": "stdout",
     "output_type": "stream",
     "text": [
      "Initializing Spam with name: foo\n",
      "Initializing Spam with name: bar\n",
      "False\n",
      "True\n"
     ]
    }
   ],
   "source": [
    "import weakref\n",
    "\n",
    "# The class to be cached\n",
    "class Spam:\n",
    "    def __init__(self, name):\n",
    "        print(f\"Initializing Spam with name: {name}\")\n",
    "        self.name = name\n",
    "\n",
    "# Global cache using WeakValueDictionary\n",
    "_spam_cache = weakref.WeakValueDictionary()\n",
    "\n",
    "def get_spam(name):\n",
    "    if name not in _spam_cache:\n",
    "        s = Spam(name)\n",
    "        _spam_cache[name] = s\n",
    "    else:\n",
    "        s = _spam_cache[name]\n",
    "    return s\n",
    "\n",
    "# Example usage\n",
    "a = get_spam(\"foo\")\n",
    "b = get_spam(\"bar\")\n",
    "c = get_spam(\"foo\")\n",
    "\n",
    "print(a is b)  # False\n",
    "print(a is c)  # True\n"
   ]
  },
  {
   "cell_type": "code",
   "execution_count": 2,
   "metadata": {},
   "outputs": [
    {
     "name": "stdout",
     "output_type": "stream",
     "text": [
      "Initializing Spam with name: foo\n",
      "Initializing Spam with name: bar\n",
      "False\n",
      "True\n"
     ]
    }
   ],
   "source": [
    "import weakref\n",
    "\n",
    "# Manager class for caching\n",
    "class CachedSpamManager:\n",
    "    def __init__(self):\n",
    "        self._cache = weakref.WeakValueDictionary()\n",
    "\n",
    "    def get_spam(self, name):\n",
    "        if name not in self._cache:\n",
    "            s = Spam(name)\n",
    "            self._cache[name] = s\n",
    "        else:\n",
    "            s = self._cache[name]\n",
    "        return s\n",
    "\n",
    "    def clear(self):\n",
    "        self._cache.clear()\n",
    "\n",
    "# The main class\n",
    "class Spam:\n",
    "    manager = CachedSpamManager()\n",
    "\n",
    "    def __init__(self, name):\n",
    "        print(f\"Initializing Spam with name: {name}\")\n",
    "        self.name = name\n",
    "\n",
    "def get_spam(name):\n",
    "    return Spam.manager.get_spam(name)\n",
    "\n",
    "# Example usage\n",
    "a = get_spam(\"foo\")\n",
    "b = get_spam(\"bar\")\n",
    "c = get_spam(\"foo\")\n",
    "\n",
    "print(a is b)  # False\n",
    "print(a is c)  # True\n"
   ]
  },
  {
   "cell_type": "code",
   "execution_count": 3,
   "metadata": {},
   "outputs": [
    {
     "name": "stdout",
     "output_type": "stream",
     "text": [
      "False\n",
      "True\n"
     ]
    }
   ],
   "source": [
    "import weakref\n",
    "\n",
    "# Manager class for caching\n",
    "class CachedSpamManager:\n",
    "    def __init__(self):\n",
    "        self._cache = weakref.WeakValueDictionary()\n",
    "\n",
    "    def get_spam(self, name):\n",
    "        if name not in self._cache:\n",
    "            s = Spam._new(name)\n",
    "            self._cache[name] = s\n",
    "        else:\n",
    "            s = self._cache[name]\n",
    "        return s\n",
    "\n",
    "    def clear(self):\n",
    "        self._cache.clear()\n",
    "\n",
    "# The main class with restricted instantiation\n",
    "class Spam:\n",
    "    manager = CachedSpamManager()\n",
    "\n",
    "    def __init__(self, *args, **kwargs):\n",
    "        raise RuntimeError(\"Direct instantiation not allowed. Use get_spam().\")\n",
    "\n",
    "    @classmethod\n",
    "    def _new(cls, name):\n",
    "        instance = cls.__new__(cls)\n",
    "        instance.name = name\n",
    "        return instance\n",
    "\n",
    "def get_spam(name):\n",
    "    return Spam.manager.get_spam(name)\n",
    "\n",
    "# Example usage\n",
    "a = get_spam(\"foo\")\n",
    "b = get_spam(\"bar\")\n",
    "c = get_spam(\"foo\")\n",
    "\n",
    "print(a is b)  # False\n",
    "print(a is c)  # True\n"
   ]
  },
  {
   "cell_type": "code",
   "execution_count": 4,
   "metadata": {},
   "outputs": [
    {
     "name": "stdout",
     "output_type": "stream",
     "text": [
      "Initializing Spam with name: foo\n",
      "Initializing Spam with name: bar\n",
      "False\n",
      "True\n"
     ]
    }
   ],
   "source": [
    "import weakref\n",
    "\n",
    "class CachedInstanceMeta(type):\n",
    "    def __init__(cls, name, bases, dct):\n",
    "        super().__init__(name, bases, dct)\n",
    "        cls._cache = weakref.WeakValueDictionary()\n",
    "\n",
    "    def __call__(cls, *args, **kwargs):\n",
    "        key = (args, frozenset(kwargs.items()))\n",
    "        if key not in cls._cache:\n",
    "            instance = super().__call__(*args, **kwargs)\n",
    "            cls._cache[key] = instance\n",
    "        return cls._cache[key]\n",
    "\n",
    "# The main class using the metaclass\n",
    "class Spam(metaclass=CachedInstanceMeta):\n",
    "    def __init__(self, name):\n",
    "        print(f\"Initializing Spam with name: {name}\")\n",
    "        self.name = name\n",
    "\n",
    "# Example usage\n",
    "a = Spam(\"foo\")\n",
    "b = Spam(\"bar\")\n",
    "c = Spam(\"foo\")\n",
    "\n",
    "print(a is b)  # False\n",
    "print(a is c)  # True\n"
   ]
  }
 ],
 "metadata": {
  "kernelspec": {
   "display_name": "py-env",
   "language": "python",
   "name": "python3"
  },
  "language_info": {
   "codemirror_mode": {
    "name": "ipython",
    "version": 3
   },
   "file_extension": ".py",
   "mimetype": "text/x-python",
   "name": "python",
   "nbconvert_exporter": "python",
   "pygments_lexer": "ipython3",
   "version": "3.11.11"
  }
 },
 "nbformat": 4,
 "nbformat_minor": 2
}
