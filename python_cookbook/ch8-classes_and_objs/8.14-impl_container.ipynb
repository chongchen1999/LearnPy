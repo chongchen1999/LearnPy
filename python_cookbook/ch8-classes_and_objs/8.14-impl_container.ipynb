{
 "cells": [
  {
   "cell_type": "code",
   "execution_count": 2,
   "metadata": {},
   "outputs": [
    {
     "name": "stdout",
     "output_type": "stream",
     "text": [
      "[1, 3, 5]\n",
      "[1, 2, 3, 5]\n",
      "[-10, 1, 2, 3, 5]\n",
      "[1, 2, 3]\n",
      "True\n",
      "5\n",
      "-10\n",
      "1\n",
      "2\n",
      "3\n",
      "5\n"
     ]
    }
   ],
   "source": [
    "import collections.abc  # Import from collections.abc instead of collections\n",
    "import bisect\n",
    "\n",
    "class SortedItems(collections.abc.Sequence):  # Use collections.abc.Sequence\n",
    "    def __init__(self, initial=None):\n",
    "        self._items = sorted(initial) if initial is not None else []\n",
    "\n",
    "    # Required sequence methods\n",
    "    def __getitem__(self, index):\n",
    "        return self._items[index]\n",
    "\n",
    "    def __len__(self):\n",
    "        return len(self._items)\n",
    "\n",
    "    # Method for adding an item in the right location\n",
    "    def add(self, item):\n",
    "        bisect.insort(self._items, item)\n",
    "\n",
    "# Example usage\n",
    "items = SortedItems([5, 1, 3])\n",
    "print(list(items))  # Output: [1, 3, 5]\n",
    "\n",
    "items.add(2)\n",
    "print(list(items))  # Output: [1, 2, 3, 5]\n",
    "\n",
    "items.add(-10)\n",
    "print(list(items))  # Output: [-10, 1, 2, 3, 5]\n",
    "\n",
    "print(items[1:4])  # Output: [1, 2, 3]\n",
    "print(3 in items)  # Output: True\n",
    "print(len(items))  # Output: 5\n",
    "\n",
    "for n in items:\n",
    "    print(n)\n",
    "# Output:\n",
    "# -10\n",
    "# 1\n",
    "# 2\n",
    "# 3\n",
    "# 5"
   ]
  },
  {
   "cell_type": "code",
   "execution_count": 4,
   "metadata": {},
   "outputs": [
    {
     "name": "stdout",
     "output_type": "stream",
     "text": [
      "Len\n",
      "3\n",
      "Len\n",
      "Inserting: 3 4\n",
      "Getting: 0\n",
      "Getting: 1\n",
      "Getting: 2\n",
      "Getting: 3\n",
      "Getting: 4\n",
      "1\n",
      "Getting: 0\n",
      "Getting: 1\n",
      "Getting: 2\n",
      "Deleting: 2\n"
     ]
    }
   ],
   "source": [
    "import collections\n",
    "\n",
    "class Items(collections.abc.MutableSequence):\n",
    "    def __init__(self, initial=None):\n",
    "        self._items = list(initial) if initial is not None else []\n",
    "\n",
    "    # Required sequence methods\n",
    "    def __getitem__(self, index):\n",
    "        print('Getting:', index)\n",
    "        return self._items[index]\n",
    "\n",
    "    def __setitem__(self, index, value):\n",
    "        print('Setting:', index, value)\n",
    "        self._items[index] = value\n",
    "\n",
    "    def __delitem__(self, index):\n",
    "        print('Deleting:', index)\n",
    "        del self._items[index]\n",
    "\n",
    "    def insert(self, index, value):\n",
    "        print('Inserting:', index, value)\n",
    "        self._items.insert(index, value)\n",
    "\n",
    "    def __len__(self):\n",
    "        print('Len')\n",
    "        return len(self._items)\n",
    "\n",
    "# Example usage\n",
    "a = Items([1, 2, 3])\n",
    "print(len(a))  # Output: Len, 3\n",
    "\n",
    "a.append(4)  # Output: Len, Inserting: 3 4\n",
    "print(a.count(2))  # Output: Getting: 0, Getting: 1, Getting: 2, 1\n",
    "\n",
    "a.remove(3)  # Output: Getting: 0, Getting: 1, Getting: 2, Deleting: 2"
   ]
  }
 ],
 "metadata": {
  "kernelspec": {
   "display_name": "py-env",
   "language": "python",
   "name": "python3"
  },
  "language_info": {
   "codemirror_mode": {
    "name": "ipython",
    "version": 3
   },
   "file_extension": ".py",
   "mimetype": "text/x-python",
   "name": "python",
   "nbconvert_exporter": "python",
   "pygments_lexer": "ipython3",
   "version": "3.11.11"
  }
 },
 "nbformat": 4,
 "nbformat_minor": 2
}
