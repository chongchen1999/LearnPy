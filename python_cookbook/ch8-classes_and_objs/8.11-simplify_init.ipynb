{
 "cells": [
  {
   "cell_type": "code",
   "execution_count": 1,
   "metadata": {},
   "outputs": [],
   "source": [
    "class Structure:\n",
    "    # Class variable that specifies expected fields\n",
    "    _fields = []\n",
    "\n",
    "    def __init__(self, *args, **kwargs):\n",
    "        if len(args) > len(self._fields):\n",
    "            raise TypeError('Expected {} arguments'.format(len(self._fields)))\n",
    "\n",
    "        # Set all of the positional arguments\n",
    "        for name, value in zip(self._fields, args):\n",
    "            setattr(self, name, value)\n",
    "\n",
    "        # Set the remaining keyword arguments\n",
    "        for name in self._fields[len(args):]:\n",
    "            setattr(self, name, kwargs.pop(name))\n",
    "\n",
    "        # Check for any remaining unknown arguments\n",
    "        if kwargs:\n",
    "            raise TypeError('Invalid argument(s): {}'.format(','.join(kwargs)))"
   ]
  },
  {
   "cell_type": "code",
   "execution_count": 3,
   "metadata": {},
   "outputs": [],
   "source": [
    "import math\n",
    "\n",
    "class Stock(Structure):\n",
    "    _fields = ['name', 'shares', 'price']\n",
    "\n",
    "class Point(Structure):\n",
    "    _fields = ['x', 'y']\n",
    "\n",
    "class Circle(Structure):\n",
    "    _fields = ['radius']\n",
    "\n",
    "    def area(self):\n",
    "        return math.pi * self.radius ** 2"
   ]
  },
  {
   "cell_type": "code",
   "execution_count": 5,
   "metadata": {},
   "outputs": [
    {
     "name": "stdout",
     "output_type": "stream",
     "text": [
      "ACME\n",
      "50\n",
      "91.1\n",
      "ACME\n",
      "50\n",
      "91.1\n",
      "ACME\n",
      "50\n",
      "91.1\n",
      "Invalid argument(s): date\n"
     ]
    }
   ],
   "source": [
    "# Create a Stock instance with positional arguments\n",
    "s1 = Stock('ACME', 50, 91.1)\n",
    "print(s1.name)   # Output: ACME\n",
    "print(s1.shares) # Output: 50\n",
    "print(s1.price)  # Output: 91.1\n",
    "\n",
    "# Create a Stock instance with keyword arguments\n",
    "s2 = Stock(name='ACME', shares=50, price=91.1)\n",
    "print(s2.name)   # Output: ACME\n",
    "print(s2.shares) # Output: 50\n",
    "print(s2.price)  # Output: 91.1\n",
    "\n",
    "# Mixing positional and keyword arguments\n",
    "s3 = Stock('ACME', 50, price=91.1)\n",
    "print(s3.name)   # Output: ACME\n",
    "print(s3.shares) # Output: 50\n",
    "print(s3.price)  # Output: 91.1\n",
    "\n",
    "# Invalid usage (too few arguments)\n",
    "try:\n",
    "    s4 = Stock('ACME', 50, price = 100.0)  # Missing 'price'\n",
    "except TypeError as e:\n",
    "    print(e)  # Output: Expected 3 arguments\n",
    "\n",
    "# Invalid usage (unknown keyword argument)\n",
    "try:\n",
    "    s5 = Stock('ACME', 50, 91.1, date='8/2/2012')  # Extra 'date' argument\n",
    "except TypeError as e:\n",
    "    print(e)  # Output: Invalid argument(s): date"
   ]
  },
  {
   "cell_type": "code",
   "execution_count": 6,
   "metadata": {},
   "outputs": [
    {
     "name": "stdout",
     "output_type": "stream",
     "text": [
      "2\n",
      "3\n",
      "2\n",
      "3\n",
      "Expected 2 arguments\n"
     ]
    }
   ],
   "source": [
    "# Create a Point instance with positional arguments\n",
    "p1 = Point(2, 3)\n",
    "print(p1.x)  # Output: 2\n",
    "print(p1.y)  # Output: 3\n",
    "\n",
    "# Create a Point instance with keyword arguments\n",
    "p2 = Point(x=2, y=3)\n",
    "print(p2.x)  # Output: 2\n",
    "print(p2.y)  # Output: 3\n",
    "\n",
    "# Invalid usage (too many arguments)\n",
    "try:\n",
    "    p3 = Point(2, 3, 4)  # Extra argument\n",
    "except TypeError as e:\n",
    "    print(e)  # Output: Expected 2 arguments"
   ]
  },
  {
   "cell_type": "code",
   "execution_count": 7,
   "metadata": {},
   "outputs": [
    {
     "name": "stdout",
     "output_type": "stream",
     "text": [
      "ACME\n",
      "50\n",
      "91.1\n",
      "8/2/2012\n"
     ]
    }
   ],
   "source": [
    "class Structure:\n",
    "    _fields = []\n",
    "\n",
    "    def __init__(self, *args, **kwargs):\n",
    "        if len(args) != len(self._fields):\n",
    "            raise TypeError('Expected {} arguments'.format(len(self._fields)))\n",
    "\n",
    "        # Set the positional arguments\n",
    "        for name, value in zip(self._fields, args):\n",
    "            setattr(self, name, value)\n",
    "\n",
    "        # Set additional keyword arguments (if any)\n",
    "        extra_args = kwargs.keys() - self._fields\n",
    "        for name in extra_args:\n",
    "            setattr(self, name, kwargs.pop(name))\n",
    "\n",
    "        if kwargs:\n",
    "            raise TypeError('Duplicate values for {}'.format(','.join(kwargs)))\n",
    "\n",
    "# Example usage with extra attributes\n",
    "class Stock(Structure):\n",
    "    _fields = ['name', 'shares', 'price']\n",
    "\n",
    "s = Stock('ACME', 50, 91.1, date='8/2/2012')\n",
    "print(s.name)   # Output: ACME\n",
    "print(s.shares) # Output: 50\n",
    "print(s.price)  # Output: 91.1\n",
    "print(s.date)   # Output: 8/2/2012"
   ]
  }
 ],
 "metadata": {
  "kernelspec": {
   "display_name": "py-env",
   "language": "python",
   "name": "python3"
  },
  "language_info": {
   "codemirror_mode": {
    "name": "ipython",
    "version": 3
   },
   "file_extension": ".py",
   "mimetype": "text/x-python",
   "name": "python",
   "nbconvert_exporter": "python",
   "pygments_lexer": "ipython3",
   "version": "3.11.11"
  }
 },
 "nbformat": 4,
 "nbformat_minor": 2
}
