{
 "cells": [
  {
   "cell_type": "code",
   "execution_count": 1,
   "metadata": {},
   "outputs": [
    {
     "name": "stdout",
     "output_type": "stream",
     "text": [
      "B.spam: 42\n",
      "A.spam: 42\n",
      "A.foo\n",
      "B.bar\n"
     ]
    }
   ],
   "source": [
    "class A:\n",
    "    def spam(self, x):\n",
    "        print(f'A.spam: {x}')\n",
    "    \n",
    "    def foo(self):\n",
    "        print('A.foo')\n",
    "\n",
    "class B:\n",
    "    def __init__(self):\n",
    "        self._a = A()\n",
    "    \n",
    "    def spam(self, x):\n",
    "        print(f'B.spam: {x}')\n",
    "        self._a.spam(x)\n",
    "    \n",
    "    def foo(self):\n",
    "        self._a.foo()\n",
    "    \n",
    "    def bar(self):\n",
    "        print('B.bar')\n",
    "\n",
    "# Usage\n",
    "b = B()\n",
    "b.spam(42)  # Outputs: B.spam: 42 \\n A.spam: 42\n",
    "b.foo()     # Outputs: A.foo\n",
    "b.bar()     # Outputs: B.bar"
   ]
  },
  {
   "cell_type": "code",
   "execution_count": 2,
   "metadata": {},
   "outputs": [
    {
     "name": "stdout",
     "output_type": "stream",
     "text": [
      "A.spam: 42\n",
      "A.foo\n",
      "B.bar\n"
     ]
    }
   ],
   "source": [
    "class A:\n",
    "    def spam(self, x):\n",
    "        print(f'A.spam: {x}')\n",
    "    \n",
    "    def foo(self):\n",
    "        print('A.foo')\n",
    "\n",
    "class B:\n",
    "    def __init__(self):\n",
    "        self._a = A()\n",
    "    \n",
    "    def bar(self):\n",
    "        print('B.bar')\n",
    "    \n",
    "    def __getattr__(self, name):\n",
    "        return getattr(self._a, name)\n",
    "\n",
    "# Usage\n",
    "b = B()\n",
    "b.spam(42)  # Outputs: A.spam: 42\n",
    "b.foo()     # Outputs: A.foo\n",
    "b.bar()     # Outputs: B.bar"
   ]
  },
  {
   "cell_type": "code",
   "execution_count": 3,
   "metadata": {},
   "outputs": [
    {
     "name": "stdout",
     "output_type": "stream",
     "text": [
      "getattr: x\n",
      "2\n",
      "getattr: bar\n",
      "Spam.bar: 2 3\n",
      "setattr: x 37\n",
      "getattr: x\n",
      "37\n"
     ]
    }
   ],
   "source": [
    "class Proxy:\n",
    "    def __init__(self, obj):\n",
    "        self._obj = obj\n",
    "    \n",
    "    def __getattr__(self, name):\n",
    "        print(f'getattr: {name}')\n",
    "        return getattr(self._obj, name)\n",
    "    \n",
    "    def __setattr__(self, name, value):\n",
    "        if name.startswith('_'):\n",
    "            super().__setattr__(name, value)\n",
    "        else:\n",
    "            print(f'setattr: {name} {value}')\n",
    "            setattr(self._obj, name, value)\n",
    "    \n",
    "    def __delattr__(self, name):\n",
    "        if name.startswith('_'):\n",
    "            super().__delattr__(name)\n",
    "        else:\n",
    "            print(f'delattr: {name}')\n",
    "            delattr(self._obj, name)\n",
    "\n",
    "class Spam:\n",
    "    def __init__(self, x):\n",
    "        self.x = x\n",
    "    \n",
    "    def bar(self, y):\n",
    "        print(f'Spam.bar: {self.x} {y}')\n",
    "\n",
    "# Usage\n",
    "s = Spam(2)\n",
    "p = Proxy(s)\n",
    "\n",
    "print(p.x)  # Outputs: 2\n",
    "p.bar(3)    # Outputs: Spam.bar: 2 3\n",
    "p.x = 37    # Outputs: setattr: x 37\n",
    "print(p.x)  # Outputs: 37"
   ]
  },
  {
   "cell_type": "code",
   "execution_count": 4,
   "metadata": {},
   "outputs": [
    {
     "name": "stdout",
     "output_type": "stream",
     "text": [
      "2\n",
      "1\n"
     ]
    }
   ],
   "source": [
    "class ListLike:\n",
    "    def __init__(self):\n",
    "        self._items = []\n",
    "    \n",
    "    def __getattr__(self, name):\n",
    "        return getattr(self._items, name)\n",
    "    \n",
    "    def __len__(self):\n",
    "        return len(self._items)\n",
    "    \n",
    "    def __getitem__(self, index):\n",
    "        return self._items[index]\n",
    "    \n",
    "    def __setitem__(self, index, value):\n",
    "        self._items[index] = value\n",
    "    \n",
    "    def __delitem__(self, index):\n",
    "        del self._items[index]\n",
    "\n",
    "# Usage\n",
    "a = ListLike()\n",
    "a.append(2)\n",
    "a.insert(0, 1)\n",
    "a.sort()\n",
    "print(len(a))  # Outputs: 2\n",
    "print(a[0])    # Outputs: 1"
   ]
  }
 ],
 "metadata": {
  "kernelspec": {
   "display_name": "py-env",
   "language": "python",
   "name": "python3"
  },
  "language_info": {
   "codemirror_mode": {
    "name": "ipython",
    "version": 3
   },
   "file_extension": ".py",
   "mimetype": "text/x-python",
   "name": "python",
   "nbconvert_exporter": "python",
   "pygments_lexer": "ipython3",
   "version": "3.11.11"
  }
 },
 "nbformat": 4,
 "nbformat_minor": 2
}
