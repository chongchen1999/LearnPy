{
 "cells": [
  {
   "cell_type": "code",
   "execution_count": 1,
   "metadata": {},
   "outputs": [
    {
     "name": "stdout",
     "output_type": "stream",
     "text": [
      "3.605551275463989\n"
     ]
    }
   ],
   "source": [
    "import math\n",
    "\n",
    "class Point:\n",
    "    def __init__(self, x, y):\n",
    "        self.x = x\n",
    "        self.y = y\n",
    "\n",
    "    def __repr__(self):\n",
    "        return f'Point({self.x}, {self.y})'\n",
    "\n",
    "    def distance(self, x, y):\n",
    "        return math.hypot(self.x - x, self.y - y)\n",
    "\n",
    "# Create a Point object\n",
    "p = Point(2, 3)\n",
    "\n",
    "# Call the method dynamically\n",
    "method_name = 'distance'\n",
    "result = getattr(p, method_name)(0, 0)  # Equivalent to p.distance(0, 0)\n",
    "print(result)  # Output: 3.605551275463989\n"
   ]
  },
  {
   "cell_type": "code",
   "execution_count": 2,
   "metadata": {},
   "outputs": [
    {
     "name": "stdout",
     "output_type": "stream",
     "text": [
      "5.0\n"
     ]
    }
   ],
   "source": [
    "import operator\n",
    "\n",
    "# Create a Point object\n",
    "p = Point(3, 4)\n",
    "\n",
    "# Create a callable for the 'distance' method with fixed arguments\n",
    "method_caller = operator.methodcaller('distance', 0, 0)\n",
    "\n",
    "# Call it on the object\n",
    "result = method_caller(p)  # Equivalent to p.distance(0, 0)\n",
    "print(result)  # Output: 5.0\n"
   ]
  },
  {
   "cell_type": "code",
   "execution_count": 3,
   "metadata": {},
   "outputs": [
    {
     "name": "stdout",
     "output_type": "stream",
     "text": [
      "[Point(1, 2), Point(3, 0), Point(3, 2), Point(-1, 8), Point(-5, -7), Point(10, -3)]\n"
     ]
    }
   ],
   "source": [
    "# List of points\n",
    "points = [\n",
    "    Point(1, 2),\n",
    "    Point(3, 0),\n",
    "    Point(10, -3),\n",
    "    Point(-5, -7),\n",
    "    Point(-1, 8),\n",
    "    Point(3, 2)\n",
    "]\n",
    "\n",
    "# Sort points by their distance from the origin\n",
    "points.sort(key=operator.methodcaller('distance', 0, 0))\n",
    "\n",
    "# Print sorted points\n",
    "print(points)\n"
   ]
  }
 ],
 "metadata": {
  "kernelspec": {
   "display_name": "py-env",
   "language": "python",
   "name": "python3"
  },
  "language_info": {
   "codemirror_mode": {
    "name": "ipython",
    "version": 3
   },
   "file_extension": ".py",
   "mimetype": "text/x-python",
   "name": "python",
   "nbconvert_exporter": "python",
   "pygments_lexer": "ipython3",
   "version": "3.11.11"
  }
 },
 "nbformat": 4,
 "nbformat_minor": 2
}
