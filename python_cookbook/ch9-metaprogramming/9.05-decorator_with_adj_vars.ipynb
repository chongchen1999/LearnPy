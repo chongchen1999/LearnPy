{
 "cells": [
  {
   "cell_type": "code",
   "execution_count": 1,
   "metadata": {},
   "outputs": [
    {
     "name": "stdout",
     "output_type": "stream",
     "text": [
      "Default Prefix: Executing my_function\n",
      "Function called with argument: 42\n",
      "Function called with argument: 42\n",
      "Updated Prefix: Executing my_function\n",
      "Function called with argument: 42\n"
     ]
    }
   ],
   "source": [
    "from functools import wraps\n",
    "\n",
    "# Decorator with adjustable attributes\n",
    "def adjustable_decorator(func):\n",
    "    # Attributes to control the decorator's behavior\n",
    "    adjustable_decorator.enabled = True\n",
    "    adjustable_decorator.prefix = \"Default Prefix\"\n",
    "\n",
    "    @wraps(func)\n",
    "    def wrapper(*args, **kwargs):\n",
    "        if adjustable_decorator.enabled:\n",
    "            print(f\"{adjustable_decorator.prefix}: Executing {func.__name__}\")\n",
    "        return func(*args, **kwargs)\n",
    "    \n",
    "    return wrapper\n",
    "\n",
    "# Example usage\n",
    "@adjustable_decorator\n",
    "def my_function(x):\n",
    "    print(f\"Function called with argument: {x}\")\n",
    "\n",
    "# Using the function with the decorator's default behavior\n",
    "my_function(42)\n",
    "\n",
    "# Adjusting the decorator's behavior at runtime\n",
    "adjustable_decorator.enabled = False\n",
    "my_function(42)\n",
    "\n",
    "adjustable_decorator.enabled = True\n",
    "adjustable_decorator.prefix = \"Updated Prefix\"\n",
    "my_function(42)\n"
   ]
  }
 ],
 "metadata": {
  "kernelspec": {
   "display_name": "py-env",
   "language": "python",
   "name": "python3"
  },
  "language_info": {
   "codemirror_mode": {
    "name": "ipython",
    "version": 3
   },
   "file_extension": ".py",
   "mimetype": "text/x-python",
   "name": "python",
   "nbconvert_exporter": "python",
   "pygments_lexer": "ipython3",
   "version": "3.11.11"
  }
 },
 "nbformat": 4,
 "nbformat_minor": 2
}
