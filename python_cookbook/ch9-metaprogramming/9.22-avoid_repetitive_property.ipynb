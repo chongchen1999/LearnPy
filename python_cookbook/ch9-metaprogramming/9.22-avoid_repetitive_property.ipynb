{
 "cells": [
  {
   "cell_type": "code",
   "execution_count": 1,
   "metadata": {},
   "outputs": [
    {
     "name": "stdout",
     "output_type": "stream",
     "text": [
      "Unknown\n",
      "18\n"
     ]
    }
   ],
   "source": [
    "def typed_property(name, expected_type, default=None):\n",
    "    storage_name = '_' + name\n",
    "\n",
    "    if default is not None and not isinstance(default, expected_type):\n",
    "        raise TypeError(f\"Default value for {name} must be of type {expected_type}\")\n",
    "\n",
    "    @property\n",
    "    def prop(self):\n",
    "        return getattr(self, storage_name, default)\n",
    "\n",
    "    @prop.setter\n",
    "    def prop(self, value):\n",
    "        if not isinstance(value, expected_type):\n",
    "            raise TypeError(f\"{name} must be a {expected_type}\")\n",
    "        setattr(self, storage_name, value)\n",
    "\n",
    "    return prop\n",
    "\n",
    "# Example Use\n",
    "class Person:\n",
    "    name = typed_property('name', str, default=\"Unknown\")\n",
    "    age = typed_property('age', int, default=18)\n",
    "\n",
    "    def __init__(self, name=None, age=None):\n",
    "        if name is not None:\n",
    "            self.name = name\n",
    "        if age is not None:\n",
    "            self.age = age\n",
    "\n",
    "p = Person()\n",
    "print(p.name)  # Output: Unknown\n",
    "print(p.age)   # Output: 18\n"
   ]
  },
  {
   "cell_type": "code",
   "execution_count": 2,
   "metadata": {},
   "outputs": [
    {
     "name": "stdout",
     "output_type": "stream",
     "text": [
      "30\n",
      "age validation failed\n"
     ]
    }
   ],
   "source": [
    "def typed_property(name, expected_type, validator=None):\n",
    "    storage_name = '_' + name\n",
    "\n",
    "    @property\n",
    "    def prop(self):\n",
    "        return getattr(self, storage_name)\n",
    "\n",
    "    @prop.setter\n",
    "    def prop(self, value):\n",
    "        if not isinstance(value, expected_type):\n",
    "            raise TypeError(f\"{name} must be a {expected_type}\")\n",
    "        if validator and not validator(value):\n",
    "            raise ValueError(f\"{name} validation failed\")\n",
    "        setattr(self, storage_name, value)\n",
    "\n",
    "    return prop\n",
    "\n",
    "# Example Use\n",
    "def age_validator(value):\n",
    "    return 0 <= value <= 120  # Age should be between 0 and 120\n",
    "\n",
    "class Person:\n",
    "    name = typed_property('name', str)\n",
    "    age = typed_property('age', int, validator=age_validator)\n",
    "\n",
    "    def __init__(self, name, age):\n",
    "        self.name = name\n",
    "        self.age = age\n",
    "\n",
    "p = Person(\"Alice\", 30)\n",
    "print(p.age)  # Output: 30\n",
    "\n",
    "try:\n",
    "    p.age = 200  # This will raise a ValueError\n",
    "except ValueError as e:\n",
    "    print(e)  # Output: age validation failed\n"
   ]
  },
  {
   "cell_type": "code",
   "execution_count": 3,
   "metadata": {},
   "outputs": [
    {
     "name": "stdout",
     "output_type": "stream",
     "text": [
      "Alice\n",
      "age must be a <class 'int'>\n"
     ]
    }
   ],
   "source": [
    "class TypedProperty:\n",
    "    def __init__(self, name, expected_type):\n",
    "        self.name = name\n",
    "        self.expected_type = expected_type\n",
    "        self.storage_name = f\"_{name}\"\n",
    "\n",
    "    def __get__(self, instance, owner):\n",
    "        return getattr(instance, self.storage_name)\n",
    "\n",
    "    def __set__(self, instance, value):\n",
    "        if not isinstance(value, self.expected_type):\n",
    "            raise TypeError(f\"{self.name} must be a {self.expected_type}\")\n",
    "        setattr(instance, self.storage_name, value)\n",
    "\n",
    "# Example Use\n",
    "class Person:\n",
    "    name = TypedProperty(\"name\", str)\n",
    "    age = TypedProperty(\"age\", int)\n",
    "\n",
    "    def __init__(self, name, age):\n",
    "        self.name = name\n",
    "        self.age = age\n",
    "\n",
    "p = Person(\"Alice\", 25)\n",
    "print(p.name)  # Output: Alice\n",
    "\n",
    "try:\n",
    "    p.age = \"twenty-five\"  # Raises TypeError\n",
    "except TypeError as e:\n",
    "    print(e)  # Output: age must be a <class 'int'>\n"
   ]
  }
 ],
 "metadata": {
  "kernelspec": {
   "display_name": "py-env",
   "language": "python",
   "name": "python3"
  },
  "language_info": {
   "codemirror_mode": {
    "name": "ipython",
    "version": 3
   },
   "file_extension": ".py",
   "mimetype": "text/x-python",
   "name": "python",
   "nbconvert_exporter": "python",
   "pygments_lexer": "ipython3",
   "version": "3.11.11"
  }
 },
 "nbformat": 4,
 "nbformat_minor": 2
}
