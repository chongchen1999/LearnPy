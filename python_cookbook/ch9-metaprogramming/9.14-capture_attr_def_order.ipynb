{
 "cells": [
  {
   "cell_type": "code",
   "execution_count": 1,
   "metadata": {},
   "outputs": [
    {
     "name": "stdout",
     "output_type": "stream",
     "text": [
      "GOOG,100,490.1\n",
      "Expected <class 'int'>\n"
     ]
    }
   ],
   "source": [
    "from collections import OrderedDict\n",
    "\n",
    "# Base descriptor class for type enforcement\n",
    "class Typed:\n",
    "    _expected_type = type(None)\n",
    "\n",
    "    def __init__(self, name=None):\n",
    "        self._name = name\n",
    "\n",
    "    def __set__(self, instance, value):\n",
    "        if not isinstance(value, self._expected_type):\n",
    "            raise TypeError(f\"Expected {self._expected_type}\")\n",
    "        instance.__dict__[self._name] = value\n",
    "\n",
    "# Specific type descriptors\n",
    "class Integer(Typed):\n",
    "    _expected_type = int\n",
    "\n",
    "class Float(Typed):\n",
    "    _expected_type = float\n",
    "\n",
    "class String(Typed):\n",
    "    _expected_type = str\n",
    "\n",
    "# Metaclass to capture definition order\n",
    "class OrderedMeta(type):\n",
    "    def __new__(cls, clsname, bases, clsdict):\n",
    "        d = dict(clsdict)\n",
    "        order = [name for name in clsdict if isinstance(clsdict[name], Typed)]\n",
    "        for name in order:\n",
    "            clsdict[name]._name = name\n",
    "        d['_order'] = order\n",
    "        return type.__new__(cls, clsname, bases, d)\n",
    "\n",
    "    @classmethod\n",
    "    def __prepare__(cls, clsname, bases):\n",
    "        return OrderedDict()\n",
    "\n",
    "# Base structure class using the metaclass\n",
    "class Structure(metaclass=OrderedMeta):\n",
    "    def as_csv(self):\n",
    "        return ','.join(str(getattr(self, name)) for name in self._order)\n",
    "\n",
    "# Example usage\n",
    "class Stock(Structure):\n",
    "    name = String()\n",
    "    shares = Integer()\n",
    "    price = Float()\n",
    "\n",
    "    def __init__(self, name, shares, price):\n",
    "        self.name = name\n",
    "        self.shares = shares\n",
    "        self.price = price\n",
    "\n",
    "# Testing the implementation\n",
    "s = Stock(\"GOOG\", 100, 490.1)\n",
    "print(s.as_csv())  # Output: GOOG,100,490.1\n",
    "\n",
    "# Attempting to set an incorrect type\n",
    "try:\n",
    "    t = Stock(\"AAPL\", \"a lot\", 610.23)\n",
    "except TypeError as e:\n",
    "    print(e)  # Output: Expected <class 'int'>\n"
   ]
  }
 ],
 "metadata": {
  "kernelspec": {
   "display_name": "py-env",
   "language": "python",
   "name": "python3"
  },
  "language_info": {
   "codemirror_mode": {
    "name": "ipython",
    "version": 3
   },
   "file_extension": ".py",
   "mimetype": "text/x-python",
   "name": "python",
   "nbconvert_exporter": "python",
   "pygments_lexer": "ipython3",
   "version": "3.11.11"
  }
 },
 "nbformat": 4,
 "nbformat_minor": 2
}
