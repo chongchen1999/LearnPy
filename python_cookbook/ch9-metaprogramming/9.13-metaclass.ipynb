{
 "cells": [
  {
   "cell_type": "code",
   "execution_count": 2,
   "metadata": {},
   "outputs": [
    {
     "name": "stdout",
     "output_type": "stream",
     "text": [
      "Spam.grok(42)\n",
      "Can't instantiate directly\n"
     ]
    }
   ],
   "source": [
    "class NoInstances(type):\n",
    "    def __call__(cls, *args, **kwargs):\n",
    "        raise TypeError(\"Can't instantiate directly\")\n",
    "\n",
    "class Spam(metaclass=NoInstances):\n",
    "    @staticmethod\n",
    "    def grok(x):\n",
    "        print(f\"Spam.grok({x})\")\n",
    "\n",
    "# Example Usage:\n",
    "Spam.grok(42)  # ✅ Allowed, because it's a static method\n",
    "\n",
    "try:\n",
    "    s = Spam()  # ❌ Raises TypeError: Can't instantiate directly\n",
    "except TypeError as e:\n",
    "    print(e)\n"
   ]
  },
  {
   "cell_type": "code",
   "execution_count": 3,
   "metadata": {},
   "outputs": [
    {
     "name": "stdout",
     "output_type": "stream",
     "text": [
      "Creating Spam\n",
      "True\n"
     ]
    }
   ],
   "source": [
    "class Singleton(type):\n",
    "    def __init__(cls, *args, **kwargs):\n",
    "        cls.__instance = None\n",
    "        super().__init__(*args, **kwargs)\n",
    "\n",
    "    def __call__(cls, *args, **kwargs):\n",
    "        if cls.__instance is None:\n",
    "            cls.__instance = super().__call__(*args, **kwargs)\n",
    "        return cls.__instance\n",
    "\n",
    "class Spam(metaclass=Singleton):\n",
    "    def __init__(self):\n",
    "        print(\"Creating Spam\")\n",
    "\n",
    "# Example Usage:\n",
    "a = Spam()  # \"Creating Spam\"\n",
    "b = Spam()  # No message, instance already exists\n",
    "print(a is b)  # ✅ True (both variables refer to the same instance)\n"
   ]
  },
  {
   "cell_type": "code",
   "execution_count": 4,
   "metadata": {},
   "outputs": [
    {
     "name": "stdout",
     "output_type": "stream",
     "text": [
      "Creating Spam(Guido)\n",
      "Creating Spam(Diana)\n",
      "True\n",
      "False\n"
     ]
    }
   ],
   "source": [
    "import weakref\n",
    "\n",
    "class Cached(type):\n",
    "    def __init__(cls, *args, **kwargs):\n",
    "        super().__init__(*args, **kwargs)\n",
    "        cls.__cache = weakref.WeakValueDictionary()  # Store cached instances\n",
    "\n",
    "    def __call__(cls, *args):\n",
    "        if args in cls.__cache:\n",
    "            return cls.__cache[args]  # Return existing instance\n",
    "        else:\n",
    "            obj = super().__call__(*args)  # Create new instance\n",
    "            cls.__cache[args] = obj  # Store it in cache\n",
    "            return obj\n",
    "\n",
    "class Spam(metaclass=Cached):\n",
    "    def __init__(self, name):\n",
    "        print(f\"Creating Spam({name})\")\n",
    "        self.name = name\n",
    "\n",
    "# Example Usage:\n",
    "a = Spam('Guido')   # \"Creating Spam(Guido)\"\n",
    "b = Spam('Diana')   # \"Creating Spam(Diana)\"\n",
    "c = Spam('Guido')   # Uses cached instance, no message\n",
    "\n",
    "print(a is c)  # ✅ True (same instance is reused)\n",
    "print(a is b)  # ❌ False (different instances)\n"
   ]
  }
 ],
 "metadata": {
  "kernelspec": {
   "display_name": "py-env",
   "language": "python",
   "name": "python3"
  },
  "language_info": {
   "codemirror_mode": {
    "name": "ipython",
    "version": 3
   },
   "file_extension": ".py",
   "mimetype": "text/x-python",
   "name": "python",
   "nbconvert_exporter": "python",
   "pygments_lexer": "ipython3",
   "version": "3.11.11"
  }
 },
 "nbformat": 4,
 "nbformat_minor": 2
}
