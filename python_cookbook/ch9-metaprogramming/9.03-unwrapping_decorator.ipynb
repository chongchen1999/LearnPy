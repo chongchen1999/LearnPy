{
 "cells": [
  {
   "cell_type": "code",
   "execution_count": 4,
   "metadata": {},
   "outputs": [
    {
     "name": "stdout",
     "output_type": "stream",
     "text": [
      "Calling decorated function:\n",
      "Decorator 1\n",
      "Decorator 2\n",
      "5\n",
      "\n",
      "Calling original unwrapped function:\n",
      "Decorator 2\n",
      "5\n",
      "\n",
      "Function metadata:\n",
      "Name: add\n",
      "Doc: Adds two numbers.\n",
      "\n",
      "Static method example:\n",
      "<method-wrapper '__str__' of function object at 0x7f4c81a7c7c0>\n",
      "Static method called\n"
     ]
    }
   ],
   "source": [
    "from functools import wraps\n",
    "\n",
    "# First decorator\n",
    "def decorator1(func):\n",
    "    @wraps(func)\n",
    "    def wrapper(*args, **kwargs):\n",
    "        print(\"Decorator 1\")\n",
    "        return func(*args, **kwargs)\n",
    "    return wrapper\n",
    "\n",
    "# Second decorator\n",
    "def decorator2(func):\n",
    "    @wraps(func)\n",
    "    def wrapper(*args, **kwargs):\n",
    "        print(\"Decorator 2\")\n",
    "        return func(*args, **kwargs)\n",
    "    return wrapper\n",
    "\n",
    "# Decorated function\n",
    "@decorator1\n",
    "@decorator2\n",
    "def add(x, y):\n",
    "    \"\"\"Adds two numbers.\"\"\"\n",
    "    return x + y\n",
    "\n",
    "# Using the decorated function\n",
    "print(\"Calling decorated function:\")\n",
    "print(add(2, 3))  # Outputs: Decorator 1, Decorator 2, 5\n",
    "\n",
    "# Accessing the original unwrapped function\n",
    "print(\"\\nCalling original unwrapped function:\")\n",
    "print(add.__wrapped__(2, 3))  # Outputs: 5\n",
    "\n",
    "# Accessing the function metadata\n",
    "print(\"\\nFunction metadata:\")\n",
    "print(f\"Name: {add.__name__}\")      # Outputs: add\n",
    "print(f\"Doc: {add.__doc__}\")        # Outputs: Adds two numbers.\n",
    "\n",
    "# Static method example (no __wrapped__)\n",
    "class Example:\n",
    "    @staticmethod\n",
    "    def static_method():\n",
    "        \"\"\"This is a static method.\"\"\"\n",
    "        print(\"Static method called\")\n",
    "\n",
    "# Accessing the original function of a static method\n",
    "print(\"\\nStatic method example:\")\n",
    "print(Example.static_method.__str__)  # Reference to the original function\n",
    "Example.static_method()       # Call the unwrapped static method\n"
   ]
  }
 ],
 "metadata": {
  "kernelspec": {
   "display_name": "py-env",
   "language": "python",
   "name": "python3"
  },
  "language_info": {
   "codemirror_mode": {
    "name": "ipython",
    "version": 3
   },
   "file_extension": ".py",
   "mimetype": "text/x-python",
   "name": "python",
   "nbconvert_exporter": "python",
   "pygments_lexer": "ipython3",
   "version": "3.11.11"
  }
 },
 "nbformat": 4,
 "nbformat_minor": 2
}
