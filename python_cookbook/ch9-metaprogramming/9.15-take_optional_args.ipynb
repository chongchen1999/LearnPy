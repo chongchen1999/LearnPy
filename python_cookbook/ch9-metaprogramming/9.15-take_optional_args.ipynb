{
 "cells": [
  {
   "cell_type": "code",
   "execution_count": 1,
   "metadata": {},
   "outputs": [],
   "source": [
    "class MyMeta(type):\n",
    "    # Optional: __prepare__ is used to create the class namespace\n",
    "    @classmethod\n",
    "    def __prepare__(cls, name, bases, *, debug=False, synchronize=False):\n",
    "        print(f\"__prepare__ called for {name} with debug={debug}, synchronize={synchronize}\")\n",
    "        return super().__prepare__(name, bases)\n",
    "\n",
    "    # Required: __new__ creates the class object\n",
    "    def __new__(cls, name, bases, ns, *, debug=False, synchronize=False):\n",
    "        print(f\"__new__ called for {name} with debug={debug}, synchronize={synchronize}\")\n",
    "        ns[\"_debug\"] = debug  # Store debug flag in class attributes\n",
    "        ns[\"_synchronize\"] = synchronize  # Store synchronize flag in class attributes\n",
    "        return super().__new__(cls, name, bases, ns)\n",
    "\n",
    "    # Required: __init__ finalizes the class object\n",
    "    def __init__(self, name, bases, ns, *, debug=False, synchronize=False):\n",
    "        print(f\"__init__ called for {name} with debug={debug}, synchronize={synchronize}\")\n",
    "        super().__init__(name, bases, ns)\n",
    "\n"
   ]
  },
  {
   "cell_type": "code",
   "execution_count": 2,
   "metadata": {},
   "outputs": [
    {
     "name": "stdout",
     "output_type": "stream",
     "text": [
      "__prepare__ called for Spam with debug=True, synchronize=True\n",
      "__new__ called for Spam with debug=True, synchronize=True\n",
      "__init__ called for Spam with debug=True, synchronize=True\n",
      "Debug: True, Synchronize: True\n"
     ]
    }
   ],
   "source": [
    "class Spam(metaclass=MyMeta, debug=True, synchronize=True):\n",
    "    def show_settings(self):\n",
    "        print(f\"Debug: {self._debug}, Synchronize: {self._synchronize}\")\n",
    "\n",
    "# Creating an instance of Spam\n",
    "s = Spam()\n",
    "s.show_settings()\n"
   ]
  },
  {
   "cell_type": "code",
   "execution_count": 3,
   "metadata": {},
   "outputs": [
    {
     "name": "stdout",
     "output_type": "stream",
     "text": [
      "__prepare__ called for Spam with debug=False, synchronize=False\n",
      "__new__ called for Spam with debug=False, synchronize=False\n",
      "__init__ called for Spam with debug=False, synchronize=False\n"
     ]
    }
   ],
   "source": [
    "class Spam(metaclass=MyMeta):\n",
    "    debug = True\n",
    "    synchronize = True\n"
   ]
  }
 ],
 "metadata": {
  "kernelspec": {
   "display_name": "py-env",
   "language": "python",
   "name": "python3"
  },
  "language_info": {
   "codemirror_mode": {
    "name": "ipython",
    "version": 3
   },
   "file_extension": ".py",
   "mimetype": "text/x-python",
   "name": "python",
   "nbconvert_exporter": "python",
   "pygments_lexer": "ipython3",
   "version": "3.11.11"
  }
 },
 "nbformat": 4,
 "nbformat_minor": 2
}
