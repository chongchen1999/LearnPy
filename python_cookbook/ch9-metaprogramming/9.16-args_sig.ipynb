{
 "cells": [
  {
   "cell_type": "code",
   "execution_count": 1,
   "metadata": {},
   "outputs": [
    {
     "name": "stdout",
     "output_type": "stream",
     "text": [
      "(x, y=42, *, z=None)\n"
     ]
    }
   ],
   "source": [
    "from inspect import Signature, Parameter\n",
    "\n",
    "# Define parameters for a function signature (x, y=42, *, z=None)\n",
    "parms = [\n",
    "    Parameter('x', Parameter.POSITIONAL_OR_KEYWORD),\n",
    "    Parameter('y', Parameter.POSITIONAL_OR_KEYWORD, default=42),\n",
    "    Parameter('z', Parameter.KEYWORD_ONLY, default=None)\n",
    "]\n",
    "\n",
    "# Create the signature object\n",
    "sig = Signature(parms)\n",
    "\n",
    "# Print the function signature\n",
    "print(sig)  # Output: (x, y=42, *, z=None)\n"
   ]
  },
  {
   "cell_type": "code",
   "execution_count": 4,
   "metadata": {},
   "outputs": [
    {
     "name": "stdout",
     "output_type": "stream",
     "text": [
      "x 1\n",
      "y 2\n",
      "z 3\n",
      "x 1\n",
      "x 1\n",
      "z 3\n",
      "x 1\n",
      "y 2\n",
      "too many positional arguments\n",
      "'x' parameter lacking default value\n",
      "multiple values for argument 'x'\n"
     ]
    }
   ],
   "source": [
    "def func(*args, **kwargs):\n",
    "    bound_values = sig.bind(*args, **kwargs)  # Bind the provided args to the signature\n",
    "    for name, value in bound_values.arguments.items():\n",
    "        print(name, value)\n",
    "\n",
    "# Test cases\n",
    "func(1, 2, z=3)  \n",
    "# Output:\n",
    "# x 1\n",
    "# y 2\n",
    "# z 3\n",
    "\n",
    "func(1)  \n",
    "# Output:\n",
    "# x 1\n",
    "\n",
    "func(1, z=3)  \n",
    "# Output:\n",
    "# x 1\n",
    "# z 3\n",
    "\n",
    "func(y=2, x=1)  \n",
    "# Output:\n",
    "# x 1\n",
    "# y 2\n",
    "\n",
    "try:\n",
    "    func(1, 2, 3, 4)  # Raises TypeError: too many positional arguments\n",
    "except TypeError as e:\n",
    "    print(\"too many positional arguments\")\n",
    "\n",
    "try:\n",
    "    func(y=2)         # Raises TypeError: 'x' parameter lacking default value\n",
    "except TypeError as e:\n",
    "    print(\"'x' parameter lacking default value\")\n",
    "\n",
    "try:\n",
    "    func(1, y=2, x=3) # Raises TypeError: multiple values for argument 'x'\n",
    "except TypeError as e:\n",
    "    print(\"multiple values for argument 'x'\")\n"
   ]
  },
  {
   "cell_type": "code",
   "execution_count": 6,
   "metadata": {},
   "outputs": [
    {
     "name": "stdout",
     "output_type": "stream",
     "text": [
      "(name, shares, price)\n",
      "missing a required argument: 'price'\n"
     ]
    }
   ],
   "source": [
    "from inspect import Signature, Parameter\n",
    "\n",
    "# Helper function to create a signature from field names\n",
    "def make_sig(*names):\n",
    "    parms = [Parameter(name, Parameter.POSITIONAL_OR_KEYWORD) for name in names]\n",
    "    return Signature(parms)\n",
    "\n",
    "class Structure:\n",
    "    __signature__ = make_sig()  # Default empty signature\n",
    "\n",
    "    def __init__(self, *args, **kwargs):\n",
    "        bound_values = self.__signature__.bind(*args, **kwargs)  # Enforce signature\n",
    "        for name, value in bound_values.arguments.items():\n",
    "            setattr(self, name, value)  # Assign values to attributes\n",
    "\n",
    "# Define subclasses with specific argument signatures\n",
    "class Stock(Structure):\n",
    "    __signature__ = make_sig('name', 'shares', 'price')\n",
    "\n",
    "class Point(Structure):\n",
    "    __signature__ = make_sig('x', 'y')\n",
    "\n",
    "# Testing\n",
    "import inspect\n",
    "print(inspect.signature(Stock))  # Output: (name, shares, price)\n",
    "\n",
    "s1 = Stock('ACME', 100, 490.1)  # Works fine\n",
    "try:\n",
    "    s2 = Stock('ACME', 100)  # Raises TypeError: 'price' parameter lacking default value\n",
    "    s3 = Stock('ACME', 100, 490.1, shares=50)  # Raises TypeError: multiple values for 'shares'\n",
    "except TypeError as e:\n",
    "    print(e)\n"
   ]
  },
  {
   "cell_type": "code",
   "execution_count": 9,
   "metadata": {},
   "outputs": [
    {
     "name": "stdout",
     "output_type": "stream",
     "text": [
      "(name, shares, price)\n",
      "(x, y)\n",
      "missing a required argument: 'price'\n"
     ]
    }
   ],
   "source": [
    "from inspect import Signature, Parameter\n",
    "\n",
    "# Helper function to create a signature from field names\n",
    "def make_sig(*names):\n",
    "    parms = [Parameter(name, Parameter.POSITIONAL_OR_KEYWORD) for name in names]\n",
    "    return Signature(parms)\n",
    "\n",
    "# Metaclass to enforce signatures\n",
    "class StructureMeta(type):\n",
    "    def __new__(cls, clsname, bases, clsdict):\n",
    "        clsdict['__signature__'] = make_sig(*clsdict.get('_fields', []))  \n",
    "        return super().__new__(cls, clsname, bases, clsdict)\n",
    "\n",
    "# Base class using the metaclass\n",
    "class Structure(metaclass=StructureMeta):\n",
    "    _fields = []  # Default empty fields\n",
    "\n",
    "    def __init__(self, *args, **kwargs):\n",
    "        bound_values = self.__signature__.bind(*args, **kwargs)\n",
    "        for name, value in bound_values.arguments.items():\n",
    "            setattr(self, name, value)\n",
    "\n",
    "# Define subclasses with fields\n",
    "class Stock(Structure):\n",
    "    _fields = ['name', 'shares', 'price']\n",
    "\n",
    "class Point(Structure):\n",
    "    _fields = ['x', 'y']\n",
    "\n",
    "# Testing\n",
    "import inspect\n",
    "print(inspect.signature(Stock))  # Output: (name, shares, price)\n",
    "print(inspect.signature(Point))  # Output: (x, y)\n",
    "\n",
    "s1 = Stock('ACME', 100, 490.1)  # Works fine\n",
    "try:\n",
    "    s2 = Stock('ACME', 100)  # Raises TypeError: 'price' parameter lacking default value\n",
    "    s3 = Stock('ACME', 100, 490.1, shares=50)  # Raises TypeError: multiple values for 'shares'\n",
    "except TypeError as e:\n",
    "    print(e)\n"
   ]
  }
 ],
 "metadata": {
  "kernelspec": {
   "display_name": "py-env",
   "language": "python",
   "name": "python3"
  },
  "language_info": {
   "codemirror_mode": {
    "name": "ipython",
    "version": 3
   },
   "file_extension": ".py",
   "mimetype": "text/x-python",
   "name": "python",
   "nbconvert_exporter": "python",
   "pygments_lexer": "ipython3",
   "version": "3.11.11"
  }
 },
 "nbformat": 4,
 "nbformat_minor": 2
}
