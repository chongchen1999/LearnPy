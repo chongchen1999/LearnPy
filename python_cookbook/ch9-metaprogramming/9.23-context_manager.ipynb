{
 "cells": [
  {
   "cell_type": "code",
   "execution_count": 1,
   "metadata": {},
   "outputs": [
    {
     "name": "stdout",
     "output_type": "stream",
     "text": [
      "Counting: 0.7664740085601807\n"
     ]
    }
   ],
   "source": [
    "import time\n",
    "from contextlib import contextmanager\n",
    "\n",
    "@contextmanager\n",
    "def timethis(label):\n",
    "    start = time.time()  # Start the timer\n",
    "    try:\n",
    "        yield  # Control is passed to the `with` block\n",
    "    finally:\n",
    "        end = time.time()  # End the timer\n",
    "        print(f'{label}: {end - start}')  # Print elapsed time\n",
    "\n",
    "# Using the context manager\n",
    "with timethis(\"Counting\"):\n",
    "    n = 10000000\n",
    "    while n > 0:\n",
    "        n -= 1\n"
   ]
  },
  {
   "cell_type": "code",
   "execution_count": 2,
   "metadata": {},
   "outputs": [
    {
     "name": "stdout",
     "output_type": "stream",
     "text": [
      "[1, 2, 3, 4, 5]\n",
      "Transaction aborted: Oops!\n",
      "[1, 2, 3, 4, 5]\n"
     ]
    }
   ],
   "source": [
    "from contextlib import contextmanager\n",
    "\n",
    "@contextmanager\n",
    "def list_transaction(orig_list):\n",
    "    working = list(orig_list)  # Create a copy of the original list\n",
    "    try:\n",
    "        yield working  # Pass the working copy to the `with` block\n",
    "        orig_list[:] = working  # If no error, copy back the changes\n",
    "    except Exception as e:\n",
    "        print(f\"Transaction aborted: {e}\")  # If an error occurs, discard changes\n",
    "\n",
    "# Example usage\n",
    "items = [1, 2, 3]\n",
    "\n",
    "# Successful transaction\n",
    "with list_transaction(items) as working:\n",
    "    working.append(4)\n",
    "    working.append(5)\n",
    "\n",
    "print(items)  # Output: [1, 2, 3, 4, 5]\n",
    "\n",
    "# Failed transaction (changes discarded)\n",
    "try:\n",
    "    with list_transaction(items) as working:\n",
    "        working.append(6)\n",
    "        working.append(7)\n",
    "        raise RuntimeError(\"Oops!\")  # Simulating an error\n",
    "except RuntimeError:\n",
    "    pass  # Handling the error\n",
    "\n",
    "print(items)  # Output: [1, 2, 3, 4, 5] (No changes applied)\n"
   ]
  },
  {
   "cell_type": "code",
   "execution_count": 3,
   "metadata": {},
   "outputs": [
    {
     "name": "stdout",
     "output_type": "stream",
     "text": [
      "Counting: 0.7211036682128906\n"
     ]
    }
   ],
   "source": [
    "import time\n",
    "\n",
    "class TimeThis:\n",
    "    def __init__(self, label):\n",
    "        self.label = label\n",
    "\n",
    "    def __enter__(self):\n",
    "        self.start = time.time()  # Start the timer\n",
    "\n",
    "    def __exit__(self, exc_type, exc_value, traceback):\n",
    "        end = time.time()  # End the timer\n",
    "        print(f\"{self.label}: {end - self.start}\")  # Print elapsed time\n",
    "\n",
    "# Using the class-based context manager\n",
    "with TimeThis(\"Counting\"):\n",
    "    n = 10000000\n",
    "    while n > 0:\n",
    "        n -= 1\n"
   ]
  }
 ],
 "metadata": {
  "kernelspec": {
   "display_name": "py-env",
   "language": "python",
   "name": "python3"
  },
  "language_info": {
   "codemirror_mode": {
    "name": "ipython",
    "version": 3
   },
   "file_extension": ".py",
   "mimetype": "text/x-python",
   "name": "python",
   "nbconvert_exporter": "python",
   "pygments_lexer": "ipython3",
   "version": "3.11.11"
  }
 },
 "nbformat": 4,
 "nbformat_minor": 2
}
