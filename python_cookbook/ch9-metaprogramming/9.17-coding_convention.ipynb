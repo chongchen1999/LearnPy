{
 "cells": [
  {
   "cell_type": "code",
   "execution_count": 1,
   "metadata": {},
   "outputs": [
    {
     "name": "stderr",
     "output_type": "stream",
     "text": [
      "WARNING:root:Signature mismatch in B.foo. (self, x, y) != (self, a, b)\n",
      "WARNING:root:Signature mismatch in B.spam. (self, x, *, z) != (self, x, z)\n"
     ]
    },
    {
     "name": "stdout",
     "output_type": "stream",
     "text": [
      "Bad attribute name: fooBar\n"
     ]
    }
   ],
   "source": [
    "from inspect import signature\n",
    "import logging\n",
    "\n",
    "# Metaclass to reject mixed-case method names\n",
    "class NoMixedCaseMeta(type):\n",
    "    def __new__(cls, clsname, bases, clsdict):\n",
    "        for name in clsdict:\n",
    "            if name.lower() != name:\n",
    "                raise TypeError(f\"Bad attribute name: {name}\")\n",
    "        return super().__new__(cls, clsname, bases, clsdict)\n",
    "\n",
    "# Root class using NoMixedCaseMeta\n",
    "class Root(metaclass=NoMixedCaseMeta):\n",
    "    pass\n",
    "\n",
    "# Valid class\n",
    "class A(Root):\n",
    "    def foo_bar(self):  # OK\n",
    "        pass\n",
    "\n",
    "# Invalid class (raises TypeError)\n",
    "try:\n",
    "    class B(Root):\n",
    "        def fooBar(self):  # TypeError: Bad attribute name: fooBar\n",
    "            pass\n",
    "except TypeError as e:\n",
    "    print(e)\n",
    "\n",
    "# Metaclass to enforce method signature consistency\n",
    "class MatchSignaturesMeta(type):\n",
    "    def __init__(self, clsname, bases, clsdict):\n",
    "        super().__init__(clsname, bases, clsdict)\n",
    "        sup = super(self, self)  # Get the parent class\n",
    "\n",
    "        for name, value in clsdict.items():\n",
    "            if name.startswith('_') or not callable(value):\n",
    "                continue\n",
    "\n",
    "            prev_dfn = getattr(sup, name, None)\n",
    "            if prev_dfn:\n",
    "                prev_sig = signature(prev_dfn)\n",
    "                val_sig = signature(value)\n",
    "                if prev_sig != val_sig:\n",
    "                    logging.warning(\"Signature mismatch in %s. %s != %s\",\n",
    "                                    value.__qualname__, prev_sig, val_sig)\n",
    "\n",
    "# Root class using MatchSignaturesMeta\n",
    "class RootSignatures(metaclass=MatchSignaturesMeta):\n",
    "    pass\n",
    "\n",
    "class A(RootSignatures):\n",
    "    def foo(self, x, y):\n",
    "        pass\n",
    "\n",
    "    def spam(self, x, *, z):\n",
    "        pass\n",
    "\n",
    "# Class with method signature mismatches\n",
    "class B(A):\n",
    "    def foo(self, a, b):  # Signature mismatch warning\n",
    "        pass\n",
    "\n",
    "    def spam(self, x, z):  # Signature mismatch warning\n",
    "        pass\n"
   ]
  },
  {
   "cell_type": "code",
   "execution_count": null,
   "metadata": {},
   "outputs": [],
   "source": []
  }
 ],
 "metadata": {
  "kernelspec": {
   "display_name": "py-env",
   "language": "python",
   "name": "python3"
  },
  "language_info": {
   "codemirror_mode": {
    "name": "ipython",
    "version": 3
   },
   "file_extension": ".py",
   "mimetype": "text/x-python",
   "name": "python",
   "nbconvert_exporter": "python",
   "pygments_lexer": "ipython3",
   "version": "3.11.11"
  }
 },
 "nbformat": 4,
 "nbformat_minor": 2
}
