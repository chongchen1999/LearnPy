{
 "cells": [
  {
   "cell_type": "code",
   "execution_count": 8,
   "metadata": {},
   "outputs": [
    {
     "name": "stdout",
     "output_type": "stream",
     "text": [
      "(<function test_no_args at 0x7fb80d2f3240>,)\n",
      "****************************************************************************************************\n",
      "(1, 2, 3)\n",
      "****************************************************************************************************\n",
      "Decorator called without arguments\n",
      "Function with no decorator arguments executed.\n",
      "Decorator called with arguments: args=(1, 2, 3), kwargs={}\n",
      "Function with decorator arguments executed.\n"
     ]
    }
   ],
   "source": [
    "from functools import wraps\n",
    "\n",
    "def decorator(*args, **kwargs):\n",
    "    print(args)\n",
    "    # Check if the first argument is a callable (used without arguments)\n",
    "    if len(args) == 1 and callable(args[0]) and not kwargs:\n",
    "        func = args[0]\n",
    "        # Define the actual decorator logic\n",
    "        @wraps(func)\n",
    "        def wrapper(*func_args, **func_kwargs):\n",
    "            print(\"Decorator called without arguments\")\n",
    "            return func(*func_args, **func_kwargs)\n",
    "        return wrapper\n",
    "    else:\n",
    "        # Used with arguments\n",
    "        def actual_decorator(func):\n",
    "            @wraps(func)\n",
    "            def wrapper(*func_args, **func_kwargs):\n",
    "                print(f\"Decorator called with arguments: args={args}, kwargs={kwargs}\")\n",
    "                return func(*func_args, **func_kwargs)\n",
    "            return wrapper\n",
    "        return actual_decorator\n",
    "\n",
    "# Examples of usage\n",
    "\n",
    "@decorator\n",
    "def test_no_args():\n",
    "    print(\"Function with no decorator arguments executed.\")\n",
    "\n",
    "print(\"*\" * 100)\n",
    "\n",
    "@decorator(1, 2, 3)\n",
    "def test_with_args():\n",
    "    print(\"Function with decorator arguments executed.\")\n",
    "\n",
    "print(\"*\" * 100)\n",
    "\n",
    "# Call the functions\n",
    "test_no_args()\n",
    "test_with_args()\n"
   ]
  },
  {
   "cell_type": "code",
   "execution_count": 5,
   "metadata": {},
   "outputs": [
    {
     "name": "stdout",
     "output_type": "stream",
     "text": [
      "()\n",
      "(1, 2, 3)\n"
     ]
    }
   ],
   "source": [
    "def test_fn(*args):\n",
    "    print(args)\n",
    "\n",
    "\n",
    "test_fn()\n",
    "test_fn(1, 2, 3)"
   ]
  }
 ],
 "metadata": {
  "kernelspec": {
   "display_name": "py-env",
   "language": "python",
   "name": "python3"
  },
  "language_info": {
   "codemirror_mode": {
    "name": "ipython",
    "version": 3
   },
   "file_extension": ".py",
   "mimetype": "text/x-python",
   "name": "python",
   "nbconvert_exporter": "python",
   "pygments_lexer": "ipython3",
   "version": "3.11.11"
  }
 },
 "nbformat": 4,
 "nbformat_minor": 2
}
