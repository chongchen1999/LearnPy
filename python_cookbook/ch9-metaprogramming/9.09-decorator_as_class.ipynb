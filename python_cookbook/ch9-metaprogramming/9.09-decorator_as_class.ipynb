{
 "cells": [
  {
   "cell_type": "code",
   "execution_count": 6,
   "metadata": {},
   "outputs": [
    {
     "name": "stdout",
     "output_type": "stream",
     "text": [
      "**********************************************************************\n",
      "Before calling the function\n",
      "Hello, Alice!\n",
      "After calling the function\n",
      "**********************************************************************\n",
      "Before calling the function\n",
      "Hi, Bob!\n",
      "After calling the function\n"
     ]
    }
   ],
   "source": [
    "class CallableInstance:\n",
    "    def __init__(self, func):\n",
    "        self.func = func\n",
    "\n",
    "    def __call__(self, *args, **kwargs):\n",
    "        print(\"Before calling the function\")\n",
    "        result = self.func(*args, **kwargs)\n",
    "        print(\"After calling the function\")\n",
    "        return result\n",
    "\n",
    "# The decorator\n",
    "def my_decorator(func):\n",
    "    def wrapper(*args, **kwargs):\n",
    "        # Handling the instance (`self`) for class methods\n",
    "        if args and isinstance(args[0], object):\n",
    "            return CallableInstance(func)(*args, **kwargs)\n",
    "        return CallableInstance(func)(*args, **kwargs)\n",
    "    return wrapper\n",
    "\n",
    "# Using the decorator outside a class\n",
    "@my_decorator\n",
    "def greet(name):\n",
    "    print(f\"Hello, {name}!\")\n",
    "\n",
    "print(\"*\" * 70)\n",
    "greet(\"Alice\")\n",
    "print(\"*\" * 70)\n",
    "\n",
    "# Using the decorator inside a class\n",
    "class Greeter:\n",
    "    @my_decorator\n",
    "    def greet(self, name):\n",
    "        print(f\"Hi, {name}!\")\n",
    "\n",
    "greeter = Greeter()\n",
    "greeter.greet(\"Bob\")\n"
   ]
  }
 ],
 "metadata": {
  "kernelspec": {
   "display_name": "py-env",
   "language": "python",
   "name": "python3"
  },
  "language_info": {
   "codemirror_mode": {
    "name": "ipython",
    "version": 3
   },
   "file_extension": ".py",
   "mimetype": "text/x-python",
   "name": "python",
   "nbconvert_exporter": "python",
   "pygments_lexer": "ipython3",
   "version": "3.11.11"
  }
 },
 "nbformat": 4,
 "nbformat_minor": 2
}
