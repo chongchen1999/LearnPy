{
 "cells": [
  {
   "cell_type": "code",
   "execution_count": 1,
   "metadata": {},
   "outputs": [
    {
     "name": "stdout",
     "output_type": "stream",
     "text": [
      "  3           0 RESUME                   0\n",
      "\n",
      "  4           2 LOAD_FAST                0 (n)\n",
      "              4 LOAD_CONST               1 (0)\n",
      "              6 COMPARE_OP               4 (>)\n",
      "             12 POP_JUMP_FORWARD_IF_FALSE    27 (to 68)\n",
      "\n",
      "  5     >>   14 LOAD_GLOBAL              1 (NULL + print)\n",
      "             26 LOAD_CONST               2 ('T-minus')\n",
      "             28 LOAD_FAST                0 (n)\n",
      "             30 PRECALL                  2\n",
      "             34 CALL                     2\n",
      "             44 POP_TOP\n",
      "\n",
      "  6          46 LOAD_FAST                0 (n)\n",
      "             48 LOAD_CONST               3 (1)\n",
      "             50 BINARY_OP               23 (-=)\n",
      "             54 STORE_FAST               0 (n)\n",
      "\n",
      "  4          56 LOAD_FAST                0 (n)\n",
      "             58 LOAD_CONST               1 (0)\n",
      "             60 COMPARE_OP               4 (>)\n",
      "             66 POP_JUMP_BACKWARD_IF_TRUE    27 (to 14)\n",
      "\n",
      "  7     >>   68 LOAD_GLOBAL              1 (NULL + print)\n",
      "             80 LOAD_CONST               4 ('Blastoff!')\n",
      "             82 PRECALL                  1\n",
      "             86 CALL                     1\n",
      "             96 POP_TOP\n",
      "             98 LOAD_CONST               0 (None)\n",
      "            100 RETURN_VALUE\n"
     ]
    }
   ],
   "source": [
    "import dis\n",
    "\n",
    "def countdown(n):\n",
    "    while n > 0:\n",
    "        print('T-minus', n)\n",
    "        n -= 1\n",
    "    print('Blastoff!')\n",
    "\n",
    "# Disassemble the function\n",
    "dis.dis(countdown)\n"
   ]
  },
  {
   "cell_type": "code",
   "execution_count": 2,
   "metadata": {},
   "outputs": [
    {
     "name": "stdout",
     "output_type": "stream",
     "text": [
      "b'\\x97\\x00|\\x00d\\x01k\\x04\\x00\\x00\\x00\\x00r\\x1bt\\x01\\x00\\x00\\x00\\x00\\x00\\x00\\x00\\x00\\x00\\x00d\\x02|\\x00\\xa6\\x02\\x00\\x00\\xab\\x02\\x00\\x00\\x00\\x00\\x00\\x00\\x00\\x00\\x01\\x00|\\x00d\\x03z\\x17\\x00\\x00}\\x00|\\x00d\\x01k\\x04\\x00\\x00\\x00\\x00\\xb0\\x1bt\\x01\\x00\\x00\\x00\\x00\\x00\\x00\\x00\\x00\\x00\\x00d\\x04\\xa6\\x01\\x00\\x00\\xab\\x01\\x00\\x00\\x00\\x00\\x00\\x00\\x00\\x00\\x01\\x00d\\x00S\\x00'\n"
     ]
    }
   ],
   "source": [
    "# Access the bytecode\n",
    "bytecode = countdown.__code__.co_code\n",
    "print(bytecode)\n"
   ]
  },
  {
   "cell_type": "code",
   "execution_count": 3,
   "metadata": {},
   "outputs": [
    {
     "name": "stdout",
     "output_type": "stream",
     "text": [
      "RESUME\n",
      "CACHE\n"
     ]
    }
   ],
   "source": [
    "import opcode\n",
    "\n",
    "# Extract first opcode\n",
    "c = countdown.__code__.co_code\n",
    "print(opcode.opname[c[0]])  # First opcode\n",
    "print(opcode.opname[c[3]])  # Second opcode\n"
   ]
  },
  {
   "cell_type": "code",
   "execution_count": 4,
   "metadata": {},
   "outputs": [
    {
     "name": "stdout",
     "output_type": "stream",
     "text": [
      "151 RESUME 31744\n",
      "0 CACHE None\n",
      "100 LOAD_CONST 27393\n",
      "4 <4> None\n",
      "0 CACHE None\n",
      "0 CACHE None\n",
      "0 CACHE None\n",
      "0 CACHE None\n",
      "114 POP_JUMP_FORWARD_IF_FALSE 29723\n",
      "1 POP_TOP None\n",
      "0 CACHE None\n",
      "0 CACHE None\n",
      "0 CACHE None\n",
      "0 CACHE None\n",
      "0 CACHE None\n",
      "0 CACHE None\n",
      "0 CACHE None\n",
      "0 CACHE None\n",
      "0 CACHE None\n",
      "0 CACHE None\n",
      "100 LOAD_CONST 31746\n",
      "0 CACHE None\n",
      "166 PRECALL 2\n",
      "0 CACHE None\n",
      "171 CALL 2\n",
      "0 CACHE None\n",
      "0 CACHE None\n",
      "0 CACHE None\n",
      "0 CACHE None\n",
      "0 CACHE None\n",
      "0 CACHE None\n",
      "0 CACHE None\n",
      "1 POP_TOP None\n",
      "0 CACHE None\n",
      "124 LOAD_FAST 25600\n",
      "3 <3> None\n",
      "122 BINARY_OP 23\n",
      "0 CACHE None\n",
      "125 STORE_FAST 31744\n",
      "0 CACHE None\n",
      "100 LOAD_CONST 27393\n",
      "4 <4> None\n",
      "0 CACHE None\n",
      "0 CACHE None\n",
      "0 CACHE None\n",
      "0 CACHE None\n",
      "176 POP_JUMP_BACKWARD_IF_TRUE 29723\n",
      "1 POP_TOP None\n",
      "0 CACHE None\n",
      "0 CACHE None\n",
      "0 CACHE None\n",
      "0 CACHE None\n",
      "0 CACHE None\n",
      "0 CACHE None\n",
      "0 CACHE None\n",
      "0 CACHE None\n",
      "0 CACHE None\n",
      "0 CACHE None\n",
      "100 LOAD_CONST 42500\n",
      "1 POP_TOP None\n",
      "0 CACHE None\n",
      "0 CACHE None\n",
      "171 CALL 1\n",
      "0 CACHE None\n",
      "0 CACHE None\n",
      "0 CACHE None\n",
      "0 CACHE None\n",
      "0 CACHE None\n",
      "0 CACHE None\n",
      "0 CACHE None\n",
      "1 POP_TOP None\n",
      "0 CACHE None\n",
      "100 LOAD_CONST 21248\n",
      "0 CACHE None\n"
     ]
    }
   ],
   "source": [
    "import opcode\n",
    "\n",
    "def generate_opcodes(codebytes):\n",
    "    extended_arg = 0\n",
    "    i = 0\n",
    "    n = len(codebytes)\n",
    "\n",
    "    while i < n:\n",
    "        op = codebytes[i]\n",
    "        i += 1\n",
    "        if op >= opcode.HAVE_ARGUMENT:\n",
    "            oparg = codebytes[i] + codebytes[i+1]*256 + extended_arg\n",
    "            extended_arg = 0\n",
    "            i += 2\n",
    "            if op == opcode.EXTENDED_ARG:\n",
    "                extended_arg = oparg * 65536\n",
    "                continue\n",
    "        else:\n",
    "            oparg = None\n",
    "\n",
    "        yield (op, oparg)\n",
    "\n",
    "# Use the function to parse countdown's bytecode\n",
    "for op, oparg in generate_opcodes(countdown.__code__.co_code):\n",
    "    print(op, opcode.opname[op], oparg)\n"
   ]
  },
  {
   "cell_type": "code",
   "execution_count": 13,
   "metadata": {},
   "outputs": [
    {
     "name": "stdout",
     "output_type": "stream",
     "text": [
      "Original function disassembly:\n",
      "  4           0 RESUME                   0\n",
      "\n",
      "  5           2 LOAD_FAST                0 (x)\n",
      "              4 LOAD_FAST                1 (y)\n",
      "              6 BINARY_OP                0 (+)\n",
      "             10 RETURN_VALUE\n",
      "\n",
      "Original bytecode: b'\\x97\\x00|\\x00|\\x01z\\x00\\x00\\x00S\\x00'\n"
     ]
    },
    {
     "ename": "TypeError",
     "evalue": "code() argument 13 must be str, not int",
     "output_type": "error",
     "traceback": [
      "\u001b[0;31m---------------------------------------------------------------------------\u001b[0m",
      "\u001b[0;31mTypeError\u001b[0m                                 Traceback (most recent call last)",
      "Cell \u001b[0;32mIn[13], line 26\u001b[0m\n\u001b[1;32m     23\u001b[0m newbytecode \u001b[38;5;241m=\u001b[39m \u001b[38;5;124mb\u001b[39m\u001b[38;5;124m'\u001b[39m\u001b[38;5;124m|\u001b[39m\u001b[38;5;130;01m\\x00\u001b[39;00m\u001b[38;5;124m|\u001b[39m\u001b[38;5;130;01m\\x01\u001b[39;00m\u001b[38;5;130;01m\\x17\u001b[39;00m\u001b[38;5;124mS\u001b[39m\u001b[38;5;124m'\u001b[39m\n\u001b[1;32m     25\u001b[0m \u001b[38;5;66;03m# Create a new code object with all necessary arguments\u001b[39;00m\n\u001b[0;32m---> 26\u001b[0m nc \u001b[38;5;241m=\u001b[39m \u001b[43mtypes\u001b[49m\u001b[38;5;241;43m.\u001b[39;49m\u001b[43mCodeType\u001b[49m\u001b[43m(\u001b[49m\n\u001b[1;32m     27\u001b[0m \u001b[43m    \u001b[49m\u001b[43mc\u001b[49m\u001b[38;5;241;43m.\u001b[39;49m\u001b[43mco_argcount\u001b[49m\u001b[43m,\u001b[49m\n\u001b[1;32m     28\u001b[0m \u001b[43m    \u001b[49m\u001b[43mc\u001b[49m\u001b[38;5;241;43m.\u001b[39;49m\u001b[43mco_posonlyargcount\u001b[49m\u001b[43m,\u001b[49m\n\u001b[1;32m     29\u001b[0m \u001b[43m    \u001b[49m\u001b[43mc\u001b[49m\u001b[38;5;241;43m.\u001b[39;49m\u001b[43mco_kwonlyargcount\u001b[49m\u001b[43m,\u001b[49m\n\u001b[1;32m     30\u001b[0m \u001b[43m    \u001b[49m\u001b[43mc\u001b[49m\u001b[38;5;241;43m.\u001b[39;49m\u001b[43mco_nlocals\u001b[49m\u001b[43m,\u001b[49m\n\u001b[1;32m     31\u001b[0m \u001b[43m    \u001b[49m\u001b[43mc\u001b[49m\u001b[38;5;241;43m.\u001b[39;49m\u001b[43mco_stacksize\u001b[49m\u001b[43m,\u001b[49m\n\u001b[1;32m     32\u001b[0m \u001b[43m    \u001b[49m\u001b[43mc\u001b[49m\u001b[38;5;241;43m.\u001b[39;49m\u001b[43mco_flags\u001b[49m\u001b[43m,\u001b[49m\n\u001b[1;32m     33\u001b[0m \u001b[43m    \u001b[49m\u001b[43mnewbytecode\u001b[49m\u001b[43m,\u001b[49m\n\u001b[1;32m     34\u001b[0m \u001b[43m    \u001b[49m\u001b[43mc\u001b[49m\u001b[38;5;241;43m.\u001b[39;49m\u001b[43mco_consts\u001b[49m\u001b[43m,\u001b[49m\n\u001b[1;32m     35\u001b[0m \u001b[43m    \u001b[49m\u001b[43mc\u001b[49m\u001b[38;5;241;43m.\u001b[39;49m\u001b[43mco_names\u001b[49m\u001b[43m,\u001b[49m\n\u001b[1;32m     36\u001b[0m \u001b[43m    \u001b[49m\u001b[43mc\u001b[49m\u001b[38;5;241;43m.\u001b[39;49m\u001b[43mco_varnames\u001b[49m\u001b[43m,\u001b[49m\n\u001b[1;32m     37\u001b[0m \u001b[43m    \u001b[49m\u001b[43mc\u001b[49m\u001b[38;5;241;43m.\u001b[39;49m\u001b[43mco_filename\u001b[49m\u001b[43m,\u001b[49m\n\u001b[1;32m     38\u001b[0m \u001b[43m    \u001b[49m\u001b[43mc\u001b[49m\u001b[38;5;241;43m.\u001b[39;49m\u001b[43mco_name\u001b[49m\u001b[43m,\u001b[49m\n\u001b[1;32m     39\u001b[0m \u001b[43m    \u001b[49m\u001b[43mc\u001b[49m\u001b[38;5;241;43m.\u001b[39;49m\u001b[43mco_firstlineno\u001b[49m\u001b[43m,\u001b[49m\n\u001b[1;32m     40\u001b[0m \u001b[43m    \u001b[49m\u001b[43mc\u001b[49m\u001b[38;5;241;43m.\u001b[39;49m\u001b[43mco_lnotab\u001b[49m\u001b[43m,\u001b[49m\n\u001b[1;32m     41\u001b[0m \u001b[43m    \u001b[49m\u001b[43mc\u001b[49m\u001b[38;5;241;43m.\u001b[39;49m\u001b[43mco_freevars\u001b[49m\u001b[43m,\u001b[49m\n\u001b[1;32m     42\u001b[0m \u001b[43m    \u001b[49m\u001b[43mc\u001b[49m\u001b[38;5;241;43m.\u001b[39;49m\u001b[43mco_cellvars\u001b[49m\n\u001b[1;32m     43\u001b[0m \u001b[43m)\u001b[49m\n\u001b[1;32m     45\u001b[0m \u001b[38;5;66;03m# Replace function's code object\u001b[39;00m\n\u001b[1;32m     46\u001b[0m add\u001b[38;5;241m.\u001b[39m\u001b[38;5;18m__code__\u001b[39m \u001b[38;5;241m=\u001b[39m nc\n",
      "\u001b[0;31mTypeError\u001b[0m: code() argument 13 must be str, not int"
     ]
    }
   ],
   "source": [
    "import types\n",
    "import dis\n",
    "\n",
    "def add(x, y):\n",
    "    return x + y\n",
    "\n",
    "# Print the disassembly of the original function to understand the bytecode\n",
    "print(\"Original function disassembly:\")\n",
    "dis.dis(add)\n",
    "\n",
    "# Get the code object\n",
    "c = add.__code__\n",
    "\n",
    "# Print original bytecode\n",
    "print(\"\\nOriginal bytecode:\", c.co_code)\n",
    "\n",
    "# Create a new bytecode sequence\n",
    "# In Python 3.x, the bytecode for a simple add and return should be:\n",
    "# LOAD_FAST(124) for x\n",
    "# LOAD_FAST(124) for y\n",
    "# BINARY_ADD(23)\n",
    "# RETURN_VALUE(83)\n",
    "newbytecode = b'|\\x00|\\x01\\x17S'\n",
    "\n",
    "# Create a new code object with all necessary arguments\n",
    "nc = types.CodeType(\n",
    "    c.co_argcount,\n",
    "    c.co_posonlyargcount,\n",
    "    c.co_kwonlyargcount,\n",
    "    c.co_nlocals,\n",
    "    c.co_stacksize,\n",
    "    c.co_flags,\n",
    "    newbytecode,\n",
    "    c.co_consts,\n",
    "    c.co_names,\n",
    "    c.co_varnames,\n",
    "    c.co_filename,\n",
    "    c.co_name,\n",
    "    c.co_firstlineno,\n",
    "    c.co_lnotab,\n",
    "    c.co_freevars,\n",
    "    c.co_cellvars\n",
    ")\n",
    "\n",
    "# Replace function's code object\n",
    "add.__code__ = nc\n",
    "\n",
    "# Test the modified function\n",
    "print(\"\\nModified function output:\", add(2, 3))  # Should print 5\n",
    "\n",
    "# Verify the new bytecode\n",
    "print(\"\\nModified function disassembly:\")\n",
    "dis.dis(add)"
   ]
  }
 ],
 "metadata": {
  "kernelspec": {
   "display_name": "py-env",
   "language": "python",
   "name": "python3"
  },
  "language_info": {
   "codemirror_mode": {
    "name": "ipython",
    "version": 3
   },
   "file_extension": ".py",
   "mimetype": "text/x-python",
   "name": "python",
   "nbconvert_exporter": "python",
   "pygments_lexer": "ipython3",
   "version": "3.11.11"
  }
 },
 "nbformat": 4,
 "nbformat_minor": 2
}
