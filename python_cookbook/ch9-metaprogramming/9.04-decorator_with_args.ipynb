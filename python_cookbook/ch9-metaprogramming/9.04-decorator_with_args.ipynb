{
 "cells": [
  {
   "cell_type": "code",
   "execution_count": 1,
   "metadata": {},
   "outputs": [
    {
     "name": "stderr",
     "output_type": "stream",
     "text": [
      "DEBUG:__main__:add\n",
      "CRITICAL:example:spam\n"
     ]
    },
    {
     "name": "stdout",
     "output_type": "stream",
     "text": [
      "30\n",
      "Spam!\n"
     ]
    }
   ],
   "source": [
    "from functools import wraps\n",
    "import logging\n",
    "\n",
    "def logged(level, name=None, message=None):\n",
    "    \"\"\"\n",
    "    Add logging to a function. \n",
    "    - level: The logging level.\n",
    "    - name: The logger name (defaults to the function's module).\n",
    "    - message: The log message (defaults to the function's name).\n",
    "    \"\"\"\n",
    "    def decorate(func):\n",
    "        logname = name if name else func.__module__\n",
    "        log = logging.getLogger(logname)\n",
    "        logmsg = message if message else func.__name__\n",
    "\n",
    "        @wraps(func)\n",
    "        def wrapper(*args, **kwargs):\n",
    "            log.log(level, logmsg)\n",
    "            return func(*args, **kwargs)\n",
    "        return wrapper\n",
    "    return decorate\n",
    "\n",
    "# Example use:\n",
    "if __name__ == \"__main__\":\n",
    "    logging.basicConfig(level=logging.DEBUG)\n",
    "\n",
    "    @logged(logging.DEBUG)\n",
    "    def add(x, y):\n",
    "        return x + y\n",
    "\n",
    "    @logged(logging.CRITICAL, 'example')\n",
    "    def spam():\n",
    "        print('Spam!')\n",
    "\n",
    "    print(add(10, 20))  # Logs a DEBUG message\n",
    "    spam()  # Logs a CRITICAL message and prints \"Spam!\"\n"
   ]
  },
  {
   "cell_type": "code",
   "execution_count": 1,
   "metadata": {},
   "outputs": [
    {
     "name": "stdout",
     "output_type": "stream",
     "text": [
      "Hello, Alice!\n",
      "Hello, Alice!\n",
      "Hello, Alice!\n"
     ]
    }
   ],
   "source": [
    "from functools import wraps\n",
    "\n",
    "def repeat(times):\n",
    "    \"\"\"\n",
    "    A decorator that repeats the execution of a function 'times' times.\n",
    "    \"\"\"\n",
    "    def decorator(func):\n",
    "        @wraps(func)\n",
    "        def wrapper(*args, **kwargs):\n",
    "            for _ in range(times):\n",
    "                result = func(*args, **kwargs)\n",
    "            return result\n",
    "        return wrapper\n",
    "    return decorator\n",
    "\n",
    "# Example use:\n",
    "if __name__ == \"__main__\":\n",
    "    @repeat(3)\n",
    "    def greet(name):\n",
    "        print(f\"Hello, {name}!\")\n",
    "\n",
    "    greet(\"Alice\")  # Prints \"Hello, Alice!\" three times\n"
   ]
  },
  {
   "cell_type": "code",
   "execution_count": 4,
   "metadata": {},
   "outputs": [
    {
     "name": "stdout",
     "output_type": "stream",
     "text": [
      "Function Name: greet\n",
      "Docstring: This function greets the person with their name.\n"
     ]
    }
   ],
   "source": [
    "from functools import wraps\n",
    "\n",
    "def repeat(times):\n",
    "    \"\"\"\n",
    "    A decorator that repeats the execution of a function 'times' times.\n",
    "    \"\"\"\n",
    "    def decorator(func):\n",
    "        @wraps(func)\n",
    "        def wrapper(*args, **kwargs):\n",
    "            for _ in range(times):\n",
    "                result = func(*args, **kwargs)\n",
    "            return result\n",
    "        return wrapper\n",
    "    return decorator\n",
    "\n",
    "@repeat(3)\n",
    "def greet(name):\n",
    "    \"\"\"This function greets the person with their name.\"\"\"\n",
    "    print(f\"Hello, {name}!\")\n",
    "\n",
    "# Check the metadata of the decorated function\n",
    "print(f\"Function Name: {greet.__name__}\")\n",
    "print(f\"Docstring: {greet.__doc__}\")\n"
   ]
  }
 ],
 "metadata": {
  "kernelspec": {
   "display_name": "py-env",
   "language": "python",
   "name": "python3"
  },
  "language_info": {
   "codemirror_mode": {
    "name": "ipython",
    "version": 3
   },
   "file_extension": ".py",
   "mimetype": "text/x-python",
   "name": "python",
   "nbconvert_exporter": "python",
   "pygments_lexer": "ipython3",
   "version": "3.11.11"
  }
 },
 "nbformat": 4,
 "nbformat_minor": 2
}
