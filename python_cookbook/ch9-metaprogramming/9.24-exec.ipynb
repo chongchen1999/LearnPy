{
 "cells": [
  {
   "cell_type": "code",
   "execution_count": 2,
   "metadata": {},
   "outputs": [
    {
     "name": "stdout",
     "output_type": "stream",
     "text": [
      "14\n"
     ]
    }
   ],
   "source": [
    "a = 13\n",
    "exec('b = a + 1')  # Executing code dynamically\n",
    "print(b)  # Output: 14\n"
   ]
  },
  {
   "cell_type": "code",
   "execution_count": 3,
   "metadata": {},
   "outputs": [
    {
     "name": "stdout",
     "output_type": "stream",
     "text": [
      "14\n"
     ]
    }
   ],
   "source": [
    "def test():\n",
    "    a = 13\n",
    "    exec('b = a + 1')\n",
    "    print(b)  # NameError: b is not defined\n",
    "\n",
    "test()\n"
   ]
  },
  {
   "cell_type": "code",
   "execution_count": 5,
   "metadata": {},
   "outputs": [
    {
     "name": "stdout",
     "output_type": "stream",
     "text": [
      "14\n"
     ]
    }
   ],
   "source": [
    "def test():\n",
    "    a = 13\n",
    "    loc = locals()  # Capture local variables\n",
    "    exec('b = a + 1')  \n",
    "    b = loc['b']  # Extract updated value\n",
    "    print(b)  # Output: 14\n",
    "\n",
    "test()\n"
   ]
  },
  {
   "cell_type": "code",
   "execution_count": 6,
   "metadata": {},
   "outputs": [
    {
     "name": "stdout",
     "output_type": "stream",
     "text": [
      "0\n"
     ]
    }
   ],
   "source": [
    "def test1():\n",
    "    x = 0\n",
    "    exec('x += 1')  # Modifies a copy, not actual `x`\n",
    "    print(x)  # Output: 0\n",
    "\n",
    "test1()\n"
   ]
  },
  {
   "cell_type": "code",
   "execution_count": 7,
   "metadata": {},
   "outputs": [
    {
     "name": "stdout",
     "output_type": "stream",
     "text": [
      "before: {'x': 0}\n",
      "after: {'x': 1, 'loc': {...}}\n",
      "x = 0\n"
     ]
    }
   ],
   "source": [
    "def test2():\n",
    "    x = 0\n",
    "    loc = locals()\n",
    "    print('before:', loc)  # {'x': 0}\n",
    "    exec('x += 1')\n",
    "    print('after:', loc)  # {'x': 1}\n",
    "    print('x =', x)  # x is still 0 because exec() modified a copy\n",
    "\n",
    "test2()\n"
   ]
  },
  {
   "cell_type": "code",
   "execution_count": 8,
   "metadata": {},
   "outputs": [
    {
     "name": "stdout",
     "output_type": "stream",
     "text": [
      "{'x': 0}\n",
      "{'x': 1, 'loc': {...}}\n",
      "{'x': 0, 'loc': {...}}\n"
     ]
    }
   ],
   "source": [
    "def test3():\n",
    "    x = 0\n",
    "    loc = locals()\n",
    "    print(loc)  # {'x': 0}\n",
    "    exec('x += 1')\n",
    "    print(loc)  # {'x': 1}\n",
    "    locals()  # Recalculates locals, resetting x\n",
    "    print(loc)  # {'x': 0} (x reset)\n",
    "\n",
    "test3()\n"
   ]
  },
  {
   "cell_type": "code",
   "execution_count": 9,
   "metadata": {},
   "outputs": [
    {
     "name": "stdout",
     "output_type": "stream",
     "text": [
      "14\n"
     ]
    }
   ],
   "source": [
    "def test4():\n",
    "    a = 13\n",
    "    loc = {'a': a}  # Custom local dictionary\n",
    "    glb = {}  # Empty global dictionary\n",
    "    exec('b = a + 1', glb, loc)  \n",
    "    b = loc['b']  # Retrieve modified value\n",
    "    print(b)  # Output: 14\n",
    "\n",
    "test4()\n"
   ]
  }
 ],
 "metadata": {
  "kernelspec": {
   "display_name": "py-env",
   "language": "python",
   "name": "python3"
  },
  "language_info": {
   "codemirror_mode": {
    "name": "ipython",
    "version": 3
   },
   "file_extension": ".py",
   "mimetype": "text/x-python",
   "name": "python",
   "nbconvert_exporter": "python",
   "pygments_lexer": "ipython3",
   "version": "3.11.11"
  }
 },
 "nbformat": 4,
 "nbformat_minor": 2
}
