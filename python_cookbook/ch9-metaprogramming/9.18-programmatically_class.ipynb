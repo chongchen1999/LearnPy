{
 "cells": [
  {
   "cell_type": "code",
   "execution_count": 1,
   "metadata": {},
   "outputs": [
    {
     "name": "stdout",
     "output_type": "stream",
     "text": [
      "4555.0\n",
      "<class 'abc.ABCMeta'>\n",
      "4 5\n"
     ]
    }
   ],
   "source": [
    "import types\n",
    "import abc\n",
    "import sys\n",
    "import operator\n",
    "\n",
    "def create_stock_class():\n",
    "    # Define methods for the class\n",
    "    def __init__(self, name, shares, price):\n",
    "        self.name = name\n",
    "        self.shares = shares\n",
    "        self.price = price\n",
    "\n",
    "    def cost(self):\n",
    "        return self.shares * self.price\n",
    "\n",
    "    # Dictionary of class attributes\n",
    "    cls_dict = {\n",
    "        '__init__': __init__,\n",
    "        'cost': cost,\n",
    "    }\n",
    "    \n",
    "    # Create a new class dynamically\n",
    "    Stock = types.new_class('Stock', (), {}, lambda ns: ns.update(cls_dict))\n",
    "    Stock.__module__ = __name__  # Set the module attribute\n",
    "    return Stock\n",
    "\n",
    "Stock = create_stock_class()\n",
    "s = Stock('ACME', 50, 91.1)\n",
    "print(s.cost())  # Output: 4555.0\n",
    "\n",
    "# Example using a metaclass\n",
    "def create_abstract_stock_class():\n",
    "    cls_dict = {\n",
    "        '__init__': lambda self, name, shares, price: setattr(self, 'data', (name, shares, price)),\n",
    "        'cost': lambda self: self.data[1] * self.data[2],\n",
    "    }\n",
    "    \n",
    "    AbstractStock = types.new_class('AbstractStock', (), {'metaclass': abc.ABCMeta}, lambda ns: ns.update(cls_dict))\n",
    "    AbstractStock.__module__ = __name__\n",
    "    return AbstractStock\n",
    "\n",
    "AbstractStock = create_abstract_stock_class()\n",
    "print(type(AbstractStock))  # Output: <class 'abc.ABCMeta'>\n",
    "\n",
    "# Named tuple-like structure\n",
    "def named_tuple(classname, fieldnames):\n",
    "    cls_dict = {name: property(operator.itemgetter(n)) for n, name in enumerate(fieldnames)}\n",
    "    \n",
    "    def __new__(cls, *args):\n",
    "        if len(args) != len(fieldnames):\n",
    "            raise TypeError(f'Expected {len(fieldnames)} arguments')\n",
    "        return tuple.__new__(cls, args)\n",
    "    \n",
    "    cls_dict['__new__'] = __new__\n",
    "    \n",
    "    cls = types.new_class(classname, (tuple,), {}, lambda ns: ns.update(cls_dict))\n",
    "    cls.__module__ = sys._getframe(1).f_globals['__name__']  # Set caller module\n",
    "    return cls\n",
    "\n",
    "Point = named_tuple('Point', ['x', 'y'])\n",
    "p = Point(4, 5)\n",
    "print(p.x, p.y)  # Output: 4 5\n"
   ]
  }
 ],
 "metadata": {
  "kernelspec": {
   "display_name": "py-env",
   "language": "python",
   "name": "python3"
  },
  "language_info": {
   "codemirror_mode": {
    "name": "ipython",
    "version": 3
   },
   "file_extension": ".py",
   "mimetype": "text/x-python",
   "name": "python",
   "nbconvert_exporter": "python",
   "pygments_lexer": "ipython3",
   "version": "3.11.11"
  }
 },
 "nbformat": 4,
 "nbformat_minor": 2
}
