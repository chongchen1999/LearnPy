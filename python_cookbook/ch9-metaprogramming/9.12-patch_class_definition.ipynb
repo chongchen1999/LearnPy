{
 "cells": [
  {
   "cell_type": "code",
   "execution_count": 1,
   "metadata": {},
   "outputs": [
    {
     "name": "stdout",
     "output_type": "stream",
     "text": [
      "Existing method is being modified.\n",
      "Original existing method.\n",
      "New method added to MyClass\n"
     ]
    }
   ],
   "source": [
    "def patch_class(cls):\n",
    "    \"\"\"A decorator to patch or modify class behavior.\"\"\"\n",
    "    # Add a new method to the class\n",
    "    def new_method(self):\n",
    "        return f\"New method added to {self.__class__.__name__}\"\n",
    "    \n",
    "    cls.new_method = new_method\n",
    "    \n",
    "    # Modify an existing method\n",
    "    if hasattr(cls, 'existing_method'):\n",
    "        original_method = cls.existing_method\n",
    "        \n",
    "        def modified_method(self, *args, **kwargs):\n",
    "            print(\"Existing method is being modified.\")\n",
    "            return original_method(self, *args, **kwargs)\n",
    "        \n",
    "        cls.existing_method = modified_method\n",
    "    \n",
    "    return cls\n",
    "\n",
    "# Original class definition\n",
    "@patch_class\n",
    "class MyClass:\n",
    "    def existing_method(self):\n",
    "        return \"Original existing method.\"\n",
    "\n",
    "# Testing the patched class\n",
    "obj = MyClass()\n",
    "print(obj.existing_method())  # Modified behavior\n",
    "print(obj.new_method())       # Newly added method\n"
   ]
  }
 ],
 "metadata": {
  "kernelspec": {
   "display_name": "py-env",
   "language": "python",
   "name": "python3"
  },
  "language_info": {
   "codemirror_mode": {
    "name": "ipython",
    "version": 3
   },
   "file_extension": ".py",
   "mimetype": "text/x-python",
   "name": "python",
   "nbconvert_exporter": "python",
   "pygments_lexer": "ipython3",
   "version": "3.11.11"
  }
 },
 "nbformat": 4,
 "nbformat_minor": 2
}
