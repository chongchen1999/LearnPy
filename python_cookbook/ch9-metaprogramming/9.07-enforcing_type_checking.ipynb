{
 "cells": [
  {
   "cell_type": "code",
   "execution_count": 1,
   "metadata": {},
   "outputs": [],
   "source": [
    "from inspect import signature\n",
    "from functools import wraps\n",
    "\n",
    "def typeassert(*ty_args, **ty_kwargs):\n",
    "    def decorate(func):\n",
    "        # If in optimized mode, disable type checking\n",
    "        if not __debug__:\n",
    "            return func\n",
    "\n",
    "        # Map function argument names to supplied types\n",
    "        sig = signature(func)\n",
    "        bound_types = sig.bind_partial(*ty_args, **ty_kwargs).arguments\n",
    "\n",
    "        @wraps(func)\n",
    "        def wrapper(*args, **kwargs):\n",
    "            bound_values = sig.bind(*args, **kwargs)\n",
    "            # Enforce type assertions across supplied arguments\n",
    "            for name, value in bound_values.arguments.items():\n",
    "                if name in bound_types:\n",
    "                    if not isinstance(value, bound_types[name]):\n",
    "                        raise TypeError(\n",
    "                            f\"Argument {name} must be {bound_types[name]}\"\n",
    "                        )\n",
    "            return func(*args, **kwargs)\n",
    "\n",
    "        return wrapper\n",
    "    return decorate\n"
   ]
  },
  {
   "cell_type": "code",
   "execution_count": 4,
   "metadata": {},
   "outputs": [
    {
     "name": "stdout",
     "output_type": "stream",
     "text": [
      "5\n",
      "Argument y must be <class 'int'>\n",
      "1 2 3\n",
      "1 hello 3\n",
      "Argument z must be <class 'int'>\n"
     ]
    }
   ],
   "source": [
    "@typeassert(int, int)\n",
    "def add(x, y):\n",
    "    return x + y\n",
    "\n",
    "print(add(2, 3))  # Outputs: 5\n",
    "\n",
    "try:\n",
    "    print(add(2, 'hello'))  # Raises TypeError: Argument y must be <class 'int'>\n",
    "except TypeError as e:\n",
    "    print(e)\n",
    "\n",
    "@typeassert(int, z=int)\n",
    "def spam(x, y, z=42):\n",
    "    print(x, y, z)\n",
    "\n",
    "spam(1, 2, 3)  # Outputs: 1 2 3\n",
    "spam(1, 'hello', 3)  # Outputs: 1 hello 3\n",
    "\n",
    "try:\n",
    "    spam(1, 'hello', 'world')  # Raises TypeError: Argument z must be <class 'int'>\n",
    "except TypeError as e:\n",
    "    print(e)\n"
   ]
  }
 ],
 "metadata": {
  "kernelspec": {
   "display_name": "py-env",
   "language": "python",
   "name": "python3"
  },
  "language_info": {
   "codemirror_mode": {
    "name": "ipython",
    "version": 3
   },
   "file_extension": ".py",
   "mimetype": "text/x-python",
   "name": "python",
   "nbconvert_exporter": "python",
   "pygments_lexer": "ipython3",
   "version": "3.11.11"
  }
 },
 "nbformat": 4,
 "nbformat_minor": 2
}
