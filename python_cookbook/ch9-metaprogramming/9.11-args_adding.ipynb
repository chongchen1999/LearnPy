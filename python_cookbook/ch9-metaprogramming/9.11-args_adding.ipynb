{
 "cells": [
  {
   "cell_type": "code",
   "execution_count": 1,
   "metadata": {},
   "outputs": [
    {
     "name": "stdout",
     "output_type": "stream",
     "text": [
      "x: 1, y: 2, extra_arg: default_value\n",
      "x: 1, y: 2, extra_arg: test\n"
     ]
    }
   ],
   "source": [
    "import functools\n",
    "\n",
    "def add_argument(arg_name, default_value):\n",
    "    \"\"\"\n",
    "    A decorator that adds an extra argument to the wrapped function.\n",
    "    \n",
    "    :param arg_name: Name of the new argument.\n",
    "    :param default_value: Default value of the new argument.\n",
    "    \"\"\"\n",
    "    def decorator(func):\n",
    "        @functools.wraps(func)\n",
    "        def wrapper(*args, **kwargs):\n",
    "            # Add the new argument to kwargs if it's not already provided\n",
    "            if arg_name not in kwargs:\n",
    "                kwargs[arg_name] = default_value\n",
    "            return func(*args, **kwargs)\n",
    "        return wrapper\n",
    "    return decorator\n",
    "\n",
    "# Example usage\n",
    "@add_argument('extra_arg', 'default_value')\n",
    "def example_function(x, y, extra_arg=None):\n",
    "    print(f\"x: {x}, y: {y}, extra_arg: {extra_arg}\")\n",
    "\n",
    "# Test calls\n",
    "example_function(1, 2)                    # Uses the default value for extra_arg\n",
    "example_function(1, 2, extra_arg=\"test\")  # Overrides the default value\n"
   ]
  }
 ],
 "metadata": {
  "kernelspec": {
   "display_name": "py-env",
   "language": "python",
   "name": "python3"
  },
  "language_info": {
   "codemirror_mode": {
    "name": "ipython",
    "version": 3
   },
   "file_extension": ".py",
   "mimetype": "text/x-python",
   "name": "python",
   "nbconvert_exporter": "python",
   "pygments_lexer": "ipython3",
   "version": "3.11.11"
  }
 },
 "nbformat": 4,
 "nbformat_minor": 2
}
