{
 "cells": [
  {
   "cell_type": "code",
   "execution_count": 1,
   "metadata": {},
   "outputs": [],
   "source": [
    "import time\n",
    "from functools import wraps\n",
    "\n",
    "def timethis(func):\n",
    "    '''\n",
    "    Decorator that reports the execution time.\n",
    "    '''\n",
    "    @wraps(func)\n",
    "    def wrapper(*args, **kwargs):\n",
    "        start = time.time()\n",
    "        result = func(*args, **kwargs)\n",
    "        end = time.time()\n",
    "        print(func.__name__, end-start)\n",
    "        return result\n",
    "    return wrapper"
   ]
  },
  {
   "cell_type": "code",
   "execution_count": 2,
   "metadata": {},
   "outputs": [
    {
     "name": "stdout",
     "output_type": "stream",
     "text": [
      "countdown 0.004286289215087891\n",
      "countdown\n",
      "\n",
      "    Counts down\n",
      "    \n",
      "{'n': <class 'int'>}\n"
     ]
    }
   ],
   "source": [
    "@timethis\n",
    "def countdown(n: int):\n",
    "    '''\n",
    "    Counts down\n",
    "    '''\n",
    "    while n > 0:\n",
    "        n -= 1\n",
    "\n",
    "countdown(100000)\n",
    "print(countdown.__name__)        # Output: countdown\n",
    "print(countdown.__doc__)         # Output: Counts down\n",
    "print(countdown.__annotations__) # Output: {'n': <class 'int'>}"
   ]
  }
 ],
 "metadata": {
  "kernelspec": {
   "display_name": "py-env",
   "language": "python",
   "name": "python3"
  },
  "language_info": {
   "codemirror_mode": {
    "name": "ipython",
    "version": 3
   },
   "file_extension": ".py",
   "mimetype": "text/x-python",
   "name": "python",
   "nbconvert_exporter": "python",
   "pygments_lexer": "ipython3",
   "version": "3.11.11"
  }
 },
 "nbformat": 4,
 "nbformat_minor": 2
}
