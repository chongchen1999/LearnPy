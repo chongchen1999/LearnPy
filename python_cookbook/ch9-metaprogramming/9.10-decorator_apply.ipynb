{
 "cells": [
  {
   "cell_type": "code",
   "execution_count": 1,
   "metadata": {},
   "outputs": [],
   "source": [
    "import time\n",
    "from functools import wraps\n",
    "\n",
    "# Custom decorator to measure execution time\n",
    "def timethis(func):\n",
    "    @wraps(func)\n",
    "    def wrapper(*args, **kwargs):\n",
    "        start = time.time()\n",
    "        result = func(*args, **kwargs)\n",
    "        end = time.time()\n",
    "        print(f\"Execution time: {end - start} seconds\")\n",
    "        return result\n",
    "    return wrapper\n",
    "\n",
    "# Class with decorated methods\n",
    "class Spam:\n",
    "    @timethis\n",
    "    def instance_method(self, n):\n",
    "        print(self, n)\n",
    "        while n > 0:\n",
    "            n -= 1\n",
    "\n",
    "    @classmethod\n",
    "    @timethis\n",
    "    def class_method(cls, n):\n",
    "        print(cls, n)\n",
    "        while n > 0:\n",
    "            n -= 1\n",
    "\n",
    "    @staticmethod\n",
    "    @timethis\n",
    "    def static_method(n):\n",
    "        print(n)\n",
    "        while n > 0:\n",
    "            n -= 1\n"
   ]
  },
  {
   "cell_type": "code",
   "execution_count": 2,
   "metadata": {},
   "outputs": [
    {
     "name": "stdout",
     "output_type": "stream",
     "text": [
      "Instance Method:\n",
      "<__main__.Spam object at 0x7ff3dc0be4d0> 1000000\n",
      "Execution time: 0.03846597671508789 seconds\n",
      "\n",
      "Class Method:\n",
      "<class '__main__.Spam'> 1000000\n",
      "Execution time: 0.033271074295043945 seconds\n",
      "\n",
      "Static Method:\n",
      "1000000\n",
      "Execution time: 0.038697004318237305 seconds\n"
     ]
    }
   ],
   "source": [
    "# Create an instance of the Spam class\n",
    "s = Spam()\n",
    "\n",
    "# Call the instance method\n",
    "print(\"Instance Method:\")\n",
    "s.instance_method(1_000_000)\n",
    "\n",
    "# Call the class method\n",
    "print(\"\\nClass Method:\")\n",
    "Spam.class_method(1_000_000)\n",
    "\n",
    "# Call the static method\n",
    "print(\"\\nStatic Method:\")\n",
    "Spam.static_method(1_000_000)\n"
   ]
  }
 ],
 "metadata": {
  "kernelspec": {
   "display_name": "py-env",
   "language": "python",
   "name": "python3"
  },
  "language_info": {
   "codemirror_mode": {
    "name": "ipython",
    "version": 3
   },
   "file_extension": ".py",
   "mimetype": "text/x-python",
   "name": "python",
   "nbconvert_exporter": "python",
   "pygments_lexer": "ipython3",
   "version": "3.11.11"
  }
 },
 "nbformat": 4,
 "nbformat_minor": 2
}
