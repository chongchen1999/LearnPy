{
 "cells": [
  {
   "cell_type": "code",
   "execution_count": 1,
   "metadata": {},
   "outputs": [
    {
     "name": "stdout",
     "output_type": "stream",
     "text": [
      "Standalone function:\n",
      "Before calling standalone_function\n",
      "Function is running with x=5 and y=10\n",
      "After calling standalone_function\n",
      "Result: 15\n",
      "\n",
      "Method in another class:\n",
      "Before calling another_method\n",
      "Method is running with name=John\n",
      "After calling another_method\n"
     ]
    }
   ],
   "source": [
    "class MyClass:\n",
    "    # Define a decorator inside the class\n",
    "    @staticmethod\n",
    "    def my_decorator(func):\n",
    "        def wrapper(*args, **kwargs):\n",
    "            print(f\"Before calling {func.__name__}\")\n",
    "            result = func(*args, **kwargs)\n",
    "            print(f\"After calling {func.__name__}\")\n",
    "            return result\n",
    "        return wrapper\n",
    "\n",
    "# Apply the decorator to a standalone function\n",
    "@MyClass.my_decorator\n",
    "def standalone_function(x, y):\n",
    "    print(f\"Function is running with x={x} and y={y}\")\n",
    "    return x + y\n",
    "\n",
    "# Apply the decorator to a method inside another class\n",
    "class AnotherClass:\n",
    "    @MyClass.my_decorator\n",
    "    def another_method(self, name):\n",
    "        print(f\"Method is running with name={name}\")\n",
    "\n",
    "# Test the examples\n",
    "print(\"Standalone function:\")\n",
    "result = standalone_function(5, 10)\n",
    "print(f\"Result: {result}\\n\")\n",
    "\n",
    "print(\"Method in another class:\")\n",
    "another_instance = AnotherClass()\n",
    "another_instance.another_method(\"John\")\n"
   ]
  }
 ],
 "metadata": {
  "kernelspec": {
   "display_name": "py-env",
   "language": "python",
   "name": "python3"
  },
  "language_info": {
   "codemirror_mode": {
    "name": "ipython",
    "version": 3
   },
   "file_extension": ".py",
   "mimetype": "text/x-python",
   "name": "python",
   "nbconvert_exporter": "python",
   "pygments_lexer": "ipython3",
   "version": "3.11.11"
  }
 },
 "nbformat": 4,
 "nbformat_minor": 2
}
