{
 "cells": [
  {
   "cell_type": "code",
   "execution_count": 1,
   "metadata": {},
   "outputs": [
    {
     "name": "stdout",
     "output_type": "stream",
     "text": [
      "ACME 100 123.45\n"
     ]
    }
   ],
   "source": [
    "record = ('ACME', 100, 123.45)\n",
    "name = record[0]\n",
    "shares = record[1]\n",
    "price = record[2]\n",
    "print(name, shares, price)"
   ]
  },
  {
   "cell_type": "code",
   "execution_count": 5,
   "metadata": {},
   "outputs": [
    {
     "name": "stdout",
     "output_type": "stream",
     "text": [
      "ACME\n",
      "100\n",
      "123.45\n",
      "Stock(name='ACME', shares=75, price=123.45)\n"
     ]
    }
   ],
   "source": [
    "# Creating a namedtuple\n",
    "from collections import namedtuple\n",
    "\n",
    "# Define a namedtuple type called 'Stock' with fields 'name', 'shares', and 'price'\n",
    "Stock = namedtuple('Stock', ['name', 'shares', 'price'])\n",
    "\n",
    "# Create an instance of Stock\n",
    "s = Stock('ACME', 100, 123.45)\n",
    "\n",
    "# Access fields by name\n",
    "print(s.name)   # Output: ACME\n",
    "print(s.shares) # Output: 100\n",
    "print(s.price)  # Output: 123.45\n",
    "\n",
    "s = s._replace(shares=75)\n",
    "print(s)  # Output: Stock(name='ACME', shares=75, price=123.45)"
   ]
  },
  {
   "cell_type": "code",
   "execution_count": 4,
   "metadata": {},
   "outputs": [
    {
     "name": "stdout",
     "output_type": "stream",
     "text": [
      "78660.0\n"
     ]
    }
   ],
   "source": [
    "# Example: Using namedtuple in a Function\n",
    "def compute_cost(records):\n",
    "    total = 0.0\n",
    "    for rec in records:\n",
    "        s = Stock(*rec)  # Convert tuple to namedtuple\n",
    "        total += s.shares * s.price\n",
    "    return total\n",
    "\n",
    "records = [('GOOG', 100, 490.1), ('AAPL', 50, 593.0)]\n",
    "print(compute_cost(records))"
   ]
  },
  {
   "cell_type": "code",
   "execution_count": 8,
   "metadata": {},
   "outputs": [],
   "source": [
    "Stock = namedtuple('Stock', ['name', 'shares', 'price', 'date', 'time'])\n",
    "stock_prototype = Stock('', 0, 0.0, None, None)\n",
    "\n",
    "def dict_to_stock(s):\n",
    "    return stock_prototype._replace(**s)"
   ]
  },
  {
   "cell_type": "code",
   "execution_count": 9,
   "metadata": {},
   "outputs": [
    {
     "data": {
      "text/plain": [
       "Stock(name='ACME', shares=100, price=123.45, date=None, time=None)"
      ]
     },
     "execution_count": 9,
     "metadata": {},
     "output_type": "execute_result"
    }
   ],
   "source": [
    "a = {'name': 'ACME', 'shares': 100, 'price': 123.45}\n",
    "dict_to_stock(a)\n",
    "# Output: Stock(name='ACME', shares=100, price=123.45, date=None, time=None)"
   ]
  },
  {
   "cell_type": "code",
   "execution_count": 10,
   "metadata": {},
   "outputs": [
    {
     "data": {
      "text/plain": [
       "Stock(name='ACME', shares=100, price=123.45, date='12/17/2012', time=None)"
      ]
     },
     "execution_count": 10,
     "metadata": {},
     "output_type": "execute_result"
    }
   ],
   "source": [
    "b = {'name': 'ACME', 'shares': 100, 'price': 123.45, 'date': '12/17/2012'}\n",
    "dict_to_stock(b)\n",
    "# Output: Stock(name='ACME', shares=100, price=123.45, date='12/17/2012', time=None)"
   ]
  },
  {
   "cell_type": "code",
   "execution_count": 17,
   "metadata": {},
   "outputs": [
    {
     "name": "stdout",
     "output_type": "stream",
     "text": [
      "string_23333\n",
      "<class 'tuple'>\n",
      "('name', 'shares', 'price', 'date', 'time')\n"
     ]
    }
   ],
   "source": [
    "Stock = namedtuple('string_23333', ['name', 'shares', 'price', 'date', 'time'])\n",
    "print(Stock.__name__)\n",
    "print(type(Stock._fields))\n",
    "print(Stock._fields)"
   ]
  }
 ],
 "metadata": {
  "kernelspec": {
   "display_name": "py-env",
   "language": "python",
   "name": "python3"
  },
  "language_info": {
   "codemirror_mode": {
    "name": "ipython",
    "version": 3
   },
   "file_extension": ".py",
   "mimetype": "text/x-python",
   "name": "python",
   "nbconvert_exporter": "python",
   "pygments_lexer": "ipython3",
   "version": "3.11.11"
  }
 },
 "nbformat": 4,
 "nbformat_minor": 2
}
