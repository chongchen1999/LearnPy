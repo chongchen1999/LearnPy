{
 "cells": [
  {
   "cell_type": "code",
   "execution_count": 1,
   "metadata": {},
   "outputs": [
    {
     "name": "stdout",
     "output_type": "stream",
     "text": [
      "True\n"
     ]
    }
   ],
   "source": [
    "import os\n",
    "print(os.path.exists('/etc/passwd'))  # True if the file exists"
   ]
  },
  {
   "cell_type": "code",
   "execution_count": 2,
   "metadata": {},
   "outputs": [
    {
     "name": "stdout",
     "output_type": "stream",
     "text": [
      "True\n"
     ]
    }
   ],
   "source": [
    "print(os.path.isfile('/etc/passwd'))  # True if it is a file"
   ]
  },
  {
   "cell_type": "code",
   "execution_count": 3,
   "metadata": {},
   "outputs": [
    {
     "name": "stdout",
     "output_type": "stream",
     "text": [
      "False\n"
     ]
    }
   ],
   "source": [
    "print(os.path.isdir('/etc/passwd'))  # False if it is not a directory"
   ]
  },
  {
   "cell_type": "code",
   "execution_count": 4,
   "metadata": {},
   "outputs": [
    {
     "name": "stdout",
     "output_type": "stream",
     "text": [
      "False\n"
     ]
    }
   ],
   "source": [
    "print(os.path.islink('/usr/local/bin/python3'))  # True if it is a symbolic link"
   ]
  },
  {
   "cell_type": "code",
   "execution_count": 5,
   "metadata": {},
   "outputs": [
    {
     "name": "stdout",
     "output_type": "stream",
     "text": [
      "/usr/local/bin/python3\n"
     ]
    }
   ],
   "source": [
    "print(os.path.realpath('/usr/local/bin/python3'))  # Returns the actual file path"
   ]
  },
  {
   "cell_type": "code",
   "execution_count": 6,
   "metadata": {},
   "outputs": [
    {
     "name": "stdout",
     "output_type": "stream",
     "text": [
      "1469\n"
     ]
    }
   ],
   "source": [
    "print(os.path.getsize('/etc/passwd'))  # Returns the file size in bytes"
   ]
  },
  {
   "cell_type": "code",
   "execution_count": 7,
   "metadata": {},
   "outputs": [
    {
     "name": "stdout",
     "output_type": "stream",
     "text": [
      "Sat May 25 22:14:46 2024\n"
     ]
    }
   ],
   "source": [
    "import time\n",
    "mtime = os.path.getmtime('/etc/passwd')\n",
    "print(time.ctime(mtime))  # Converts timestamp to a readable format"
   ]
  },
  {
   "cell_type": "code",
   "execution_count": 9,
   "metadata": {},
   "outputs": [
    {
     "name": "stdout",
     "output_type": "stream",
     "text": [
      "11\n"
     ]
    }
   ],
   "source": [
    "try:\n",
    "    print(os.path.getsize('/home/tourist/diy/LearnPy/data/somefile.bin'))\n",
    "except PermissionError:\n",
    "    print(\"Permission denied: You do not have access to this file.\")"
   ]
  },
  {
   "cell_type": "code",
   "execution_count": 10,
   "metadata": {},
   "outputs": [
    {
     "name": "stdout",
     "output_type": "stream",
     "text": [
      "/etc/passwd exists.\n",
      "/etc/passwd is a file.\n",
      "Size: 1469 bytes\n",
      "Last modified: Sat May 25 22:14:46 2024\n"
     ]
    }
   ],
   "source": [
    "import os\n",
    "import time\n",
    "\n",
    "file_path = '/etc/passwd'\n",
    "\n",
    "if os.path.exists(file_path):\n",
    "    print(f\"{file_path} exists.\")\n",
    "    if os.path.isfile(file_path):\n",
    "        print(f\"{file_path} is a file.\")\n",
    "    elif os.path.isdir(file_path):\n",
    "        print(f\"{file_path} is a directory.\")\n",
    "    \n",
    "    if os.path.islink(file_path):\n",
    "        print(f\"{file_path} is a symbolic link.\")\n",
    "        print(f\"Linked to: {os.path.realpath(file_path)}\")\n",
    "    \n",
    "    print(f\"Size: {os.path.getsize(file_path)} bytes\")\n",
    "    print(f\"Last modified: {time.ctime(os.path.getmtime(file_path))}\")\n",
    "else:\n",
    "    print(f\"{file_path} does not exist.\")"
   ]
  }
 ],
 "metadata": {
  "kernelspec": {
   "display_name": "py-env",
   "language": "python",
   "name": "python3"
  },
  "language_info": {
   "codemirror_mode": {
    "name": "ipython",
    "version": 3
   },
   "file_extension": ".py",
   "mimetype": "text/x-python",
   "name": "python",
   "nbconvert_exporter": "python",
   "pygments_lexer": "ipython3",
   "version": "3.11.11"
  }
 },
 "nbformat": 4,
 "nbformat_minor": 2
}
