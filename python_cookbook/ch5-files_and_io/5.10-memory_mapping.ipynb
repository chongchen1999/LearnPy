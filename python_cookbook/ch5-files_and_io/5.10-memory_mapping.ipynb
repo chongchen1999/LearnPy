{
 "cells": [
  {
   "cell_type": "code",
   "execution_count": 1,
   "metadata": {},
   "outputs": [],
   "source": [
    "import os\n",
    "import mmap\n",
    "\n",
    "def memory_map(filename, access=mmap.ACCESS_WRITE):\n",
    "    size = os.path.getsize(filename)\n",
    "    fd = os.open(filename, os.O_RDWR)\n",
    "    return mmap.mmap(fd, size, access=access)"
   ]
  },
  {
   "cell_type": "code",
   "execution_count": 2,
   "metadata": {},
   "outputs": [],
   "source": [
    "size = 1000000\n",
    "folder_path = \"/home/tourist/diy/LearnPy/data/\"\n",
    "with open(folder_path + 'data', 'wb') as f:\n",
    "    f.seek(size - 1)\n",
    "    f.write(b'\\x00')"
   ]
  },
  {
   "cell_type": "code",
   "execution_count": 4,
   "metadata": {},
   "outputs": [
    {
     "name": "stdout",
     "output_type": "stream",
     "text": [
      "1000000\n",
      "b'Hello Worl'\n",
      "72\n",
      "b'Hello World'\n"
     ]
    }
   ],
   "source": [
    "m = memory_map(folder_path + 'data')\n",
    "print(len(m))  # Output: 1000000\n",
    "print(m[0:10])  # Output: b'\\x00\\x00\\x00\\x00\\x00\\x00\\x00\\x00\\x00\\x00'\n",
    "print(m[0])  # Output: 0\n",
    "\n",
    "# Reassign a slice\n",
    "m[0:11] = b'Hello World'\n",
    "m.close()\n",
    "\n",
    "# Verify that changes were made\n",
    "with open(folder_path + 'data', 'rb') as f:\n",
    "    print(f.read(11))  # Output: b'Hello World'"
   ]
  },
  {
   "cell_type": "code",
   "execution_count": 5,
   "metadata": {},
   "outputs": [
    {
     "name": "stdout",
     "output_type": "stream",
     "text": [
      "1000000\n",
      "b'Hello Worl'\n",
      "True\n"
     ]
    }
   ],
   "source": [
    "with memory_map(folder_path + 'data') as m:\n",
    "    print(len(m))  # Output: 1000000\n",
    "    print(m[0:10])  # Output: b'Hello World'\n",
    "\n",
    "print(m.closed)  # Output: True"
   ]
  },
  {
   "cell_type": "code",
   "execution_count": 6,
   "metadata": {},
   "outputs": [
    {
     "name": "stdout",
     "output_type": "stream",
     "text": [
      "b'\\x07\\x00\\x00\\x00'\n",
      "263\n"
     ]
    }
   ],
   "source": [
    "m = memory_map(folder_path + 'data')\n",
    "v = memoryview(m).cast('I')  # Memoryview of unsigned integers\n",
    "v[0] = 7\n",
    "print(m[0:4])  # Output: b'\\x07\\x00\\x00\\x00'\n",
    "m[0:4] = b'\\x07\\x01\\x00\\x00'\n",
    "print(v[0])  # Output: 263"
   ]
  }
 ],
 "metadata": {
  "kernelspec": {
   "display_name": "py-env",
   "language": "python",
   "name": "python3"
  },
  "language_info": {
   "codemirror_mode": {
    "name": "ipython",
    "version": 3
   },
   "file_extension": ".py",
   "mimetype": "text/x-python",
   "name": "python",
   "nbconvert_exporter": "python",
   "pygments_lexer": "ipython3",
   "version": "3.11.11"
  }
 },
 "nbformat": 4,
 "nbformat_minor": 2
}
