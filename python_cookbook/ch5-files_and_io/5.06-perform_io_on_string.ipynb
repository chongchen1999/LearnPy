{
 "cells": [
  {
   "cell_type": "code",
   "execution_count": 1,
   "metadata": {},
   "outputs": [
    {
     "name": "stdout",
     "output_type": "stream",
     "text": [
      "Hello World\n",
      "This is a test\n",
      "\n",
      "Hell\n",
      "o\n",
      "World\n",
      "\n"
     ]
    }
   ],
   "source": [
    "import io\n",
    "\n",
    "# Create a StringIO object\n",
    "s = io.StringIO()\n",
    "\n",
    "# Write some text to the StringIO object\n",
    "s.write('Hello World\\n')\n",
    "s.write('This is a test\\n')\n",
    "\n",
    "# Get the value written so far\n",
    "print(s.getvalue())\n",
    "\n",
    "# Wrap a file interface around an existing string\n",
    "s = io.StringIO('Hello\\nWorld\\n')\n",
    "\n",
    "# Read from the StringIO object\n",
    "print(s.read(4))  # Reads the first 4 characters: 'Hell'\n",
    "print(s.read())   # Reads the rest: 'o\\nWorld\\n'"
   ]
  },
  {
   "cell_type": "code",
   "execution_count": 2,
   "metadata": {},
   "outputs": [
    {
     "name": "stdout",
     "output_type": "stream",
     "text": [
      "b'binary data'\n"
     ]
    }
   ],
   "source": [
    "import io\n",
    "\n",
    "# Create a BytesIO object\n",
    "s = io.BytesIO()\n",
    "\n",
    "# Write some binary data to the BytesIO object\n",
    "s.write(b'binary data')\n",
    "\n",
    "# Get the value written so far\n",
    "print(s.getvalue())  # Outputs: b'binary data'"
   ]
  },
  {
   "cell_type": "code",
   "execution_count": 3,
   "metadata": {},
   "outputs": [
    {
     "name": "stdout",
     "output_type": "stream",
     "text": [
      "Some data\n",
      "More data\n",
      "\n"
     ]
    }
   ],
   "source": [
    "def write_to_file(file_obj):\n",
    "    file_obj.write('Some data\\n')\n",
    "    file_obj.write('More data\\n')\n",
    "\n",
    "# Instead of writing to a file, capture the output in a string\n",
    "output = io.StringIO()\n",
    "write_to_file(output)\n",
    "print(output.getvalue())  # Outputs: 'Some data\\nMore data\\n'"
   ]
  }
 ],
 "metadata": {
  "kernelspec": {
   "display_name": "py-env",
   "language": "python",
   "name": "python3"
  },
  "language_info": {
   "codemirror_mode": {
    "name": "ipython",
    "version": 3
   },
   "file_extension": ".py",
   "mimetype": "text/x-python",
   "name": "python",
   "nbconvert_exporter": "python",
   "pygments_lexer": "ipython3",
   "version": "3.11.11"
  }
 },
 "nbformat": 4,
 "nbformat_minor": 2
}
