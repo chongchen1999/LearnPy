{
 "cells": [
  {
   "cell_type": "code",
   "execution_count": 19,
   "metadata": {},
   "outputs": [],
   "source": [
    "with open('/home/tourist/diy/LearnPy/data/somefile.bin', 'wb') as f:\n",
    "    f.write(b'Hello World')  # Writes a byte string to the file"
   ]
  },
  {
   "cell_type": "code",
   "execution_count": 20,
   "metadata": {},
   "outputs": [
    {
     "data": {
      "text/plain": [
       "b'Hello World'"
      ]
     },
     "execution_count": 20,
     "metadata": {},
     "output_type": "execute_result"
    }
   ],
   "source": [
    "with open('/home/tourist/diy/LearnPy/data/somefile.bin', 'rb') as f:\n",
    "    data = f.read()  # Reads the entire file as a byte string\n",
    "data"
   ]
  },
  {
   "cell_type": "code",
   "execution_count": 21,
   "metadata": {},
   "outputs": [
    {
     "data": {
      "text/plain": [
       "'Hello World'"
      ]
     },
     "execution_count": 21,
     "metadata": {},
     "output_type": "execute_result"
    }
   ],
   "source": [
    "# Writing text as binary data\n",
    "with open('/home/tourist/diy/LearnPy/data/somefile.bin', 'wb') as f:\n",
    "    text = 'Hello World'\n",
    "    f.write(text.encode('utf-8'))  # Encode text to bytes before writing\n",
    "\n",
    "# Reading binary data as text\n",
    "with open('/home/tourist/diy/LearnPy/data/somefile.bin', 'rb') as f:\n",
    "    data = f.read(16)  # Read a chunk of binary data\n",
    "    text = data.decode('utf-8')  # Decode bytes to text\n",
    "\n",
    "text"
   ]
  },
  {
   "cell_type": "code",
   "execution_count": 22,
   "metadata": {},
   "outputs": [
    {
     "data": {
      "text/plain": [
       "<_io.BufferedWriter name='/home/tourist/diy/LearnPy/data/data.bin'>"
      ]
     },
     "execution_count": 22,
     "metadata": {},
     "output_type": "execute_result"
    }
   ],
   "source": [
    "import array\n",
    "nums = array.array('i', [1, 2, 3, 4])  # Array of integers\n",
    "with open('/home/tourist/diy/LearnPy/data/data.bin', 'wb') as f:\n",
    "    f.write(nums)  # Write the array directly to the file\n",
    "f"
   ]
  },
  {
   "cell_type": "code",
   "execution_count": 23,
   "metadata": {},
   "outputs": [
    {
     "name": "stdout",
     "output_type": "stream",
     "text": [
      "array('i', [1, 2, 3, 4, 0, 0, 0, 0])\n"
     ]
    }
   ],
   "source": [
    "import array\n",
    "a = array.array('i', [0, 0, 0, 0, 0, 0, 0, 0])  # Pre-allocated array\n",
    "with open('/home/tourist/diy/LearnPy/data/data.bin', 'rb') as f:\n",
    "    f.readinto(a)  # Read binary data directly into the array\n",
    "print(a)  # Output: array('i', [1, 2, 3, 4, 0, 0, 0, 0])"
   ]
  },
  {
   "cell_type": "code",
   "execution_count": 24,
   "metadata": {},
   "outputs": [
    {
     "name": "stdout",
     "output_type": "stream",
     "text": [
      "b'\\x01\\x02\\x03\\x04'\n"
     ]
    }
   ],
   "source": [
    "# Writing binary data\n",
    "with open('/home/tourist/diy/LearnPy/data/example.bin', 'wb') as f:\n",
    "    f.write(b'\\x01\\x02\\x03\\x04')  # Write bytes to the file\n",
    "\n",
    "# Reading binary data\n",
    "with open('/home/tourist/diy/LearnPy/data/example.bin', 'rb') as f:\n",
    "    data = f.read()  # Read the bytes\n",
    "    print(data)  # Output: b'\\x01\\x02\\x03\\x04'"
   ]
  },
  {
   "cell_type": "code",
   "execution_count": 25,
   "metadata": {},
   "outputs": [
    {
     "name": "stdout",
     "output_type": "stream",
     "text": [
      "array('i', [10, 20, 30, 40])\n"
     ]
    }
   ],
   "source": [
    "import array\n",
    "\n",
    "# Writing an array to a binary file\n",
    "nums = array.array('i', [10, 20, 30, 40])\n",
    "with open('/home/tourist/diy/LearnPy/data/array.bin', 'wb') as f:\n",
    "    f.write(nums)\n",
    "\n",
    "# Reading binary data into an array\n",
    "a = array.array('i', [0, 0, 0, 0])\n",
    "with open('/home/tourist/diy/LearnPy/data/array.bin', 'rb') as f:\n",
    "    f.readinto(a)\n",
    "print(a)  # Output: array('i', [10, 20, 30, 40])"
   ]
  }
 ],
 "metadata": {
  "kernelspec": {
   "display_name": "py-env",
   "language": "python",
   "name": "python3"
  },
  "language_info": {
   "codemirror_mode": {
    "name": "ipython",
    "version": 3
   },
   "file_extension": ".py",
   "mimetype": "text/x-python",
   "name": "python",
   "nbconvert_exporter": "python",
   "pygments_lexer": "ipython3",
   "version": "3.11.11"
  }
 },
 "nbformat": 4,
 "nbformat_minor": 2
}
