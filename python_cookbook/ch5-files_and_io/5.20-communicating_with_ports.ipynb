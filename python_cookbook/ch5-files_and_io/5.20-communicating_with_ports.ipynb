{
 "cells": [
  {
   "cell_type": "code",
   "execution_count": 5,
   "metadata": {},
   "outputs": [
    {
     "name": "stdout",
     "output_type": "stream",
     "text": [
      "None\n"
     ]
    },
    {
     "ename": "AttributeError",
     "evalue": "module 'serial' has no attribute 'SerialException'",
     "output_type": "error",
     "traceback": [
      "\u001b[0;31m---------------------------------------------------------------------------\u001b[0m",
      "\u001b[0;31mAttributeError\u001b[0m                            Traceback (most recent call last)",
      "Cell \u001b[0;32mIn[5], line 12\u001b[0m\n\u001b[1;32m     10\u001b[0m \u001b[38;5;28;01mtry\u001b[39;00m:\n\u001b[1;32m     11\u001b[0m     \u001b[38;5;66;03m# Open the serial port\u001b[39;00m\n\u001b[0;32m---> 12\u001b[0m     ser \u001b[38;5;241m=\u001b[39m \u001b[43mserial\u001b[49m\u001b[38;5;241;43m.\u001b[39;49m\u001b[43mSerial\u001b[49m(SERIAL_PORT, BAUD_RATE, timeout\u001b[38;5;241m=\u001b[39m\u001b[38;5;241m1\u001b[39m)\n\u001b[1;32m     13\u001b[0m     \u001b[38;5;28mprint\u001b[39m(\u001b[38;5;124mf\u001b[39m\u001b[38;5;124m\"\u001b[39m\u001b[38;5;124mConnected to \u001b[39m\u001b[38;5;132;01m{\u001b[39;00mSERIAL_PORT\u001b[38;5;132;01m}\u001b[39;00m\u001b[38;5;124m at \u001b[39m\u001b[38;5;132;01m{\u001b[39;00mBAUD_RATE\u001b[38;5;132;01m}\u001b[39;00m\u001b[38;5;124m baud.\u001b[39m\u001b[38;5;124m\"\u001b[39m)\n",
      "\u001b[0;31mAttributeError\u001b[0m: module 'serial' has no attribute 'Serial'",
      "\nDuring handling of the above exception, another exception occurred:\n",
      "\u001b[0;31mAttributeError\u001b[0m                            Traceback (most recent call last)",
      "Cell \u001b[0;32mIn[5], line 31\u001b[0m\n\u001b[1;32m     28\u001b[0m     ser\u001b[38;5;241m.\u001b[39mclose()\n\u001b[1;32m     29\u001b[0m     \u001b[38;5;28mprint\u001b[39m(\u001b[38;5;124m\"\u001b[39m\u001b[38;5;124mSerial port closed.\u001b[39m\u001b[38;5;124m\"\u001b[39m)\n\u001b[0;32m---> 31\u001b[0m \u001b[38;5;28;01mexcept\u001b[39;00m \u001b[43mserial\u001b[49m\u001b[38;5;241;43m.\u001b[39;49m\u001b[43mSerialException\u001b[49m \u001b[38;5;28;01mas\u001b[39;00m e:  \u001b[38;5;66;03m# Correct exception handling\u001b[39;00m\n\u001b[1;32m     32\u001b[0m     \u001b[38;5;28mprint\u001b[39m(\u001b[38;5;124mf\u001b[39m\u001b[38;5;124m\"\u001b[39m\u001b[38;5;124mError opening serial port: \u001b[39m\u001b[38;5;132;01m{\u001b[39;00me\u001b[38;5;132;01m}\u001b[39;00m\u001b[38;5;124m\"\u001b[39m)\n\u001b[1;32m     33\u001b[0m \u001b[38;5;28;01mexcept\u001b[39;00m \u001b[38;5;167;01mKeyboardInterrupt\u001b[39;00m:\n",
      "\u001b[0;31mAttributeError\u001b[0m: module 'serial' has no attribute 'SerialException'"
     ]
    }
   ],
   "source": [
    "import serial  # Ensure this imports pyserial\n",
    "import time\n",
    "\n",
    "print(serial.__file__)\n",
    "\n",
    "# Configure the serial port\n",
    "SERIAL_PORT = '/dev/ttyUSB0'  # Change this to your serial port (e.g., '/dev/ttyUSB0' on Linux/macOS)\n",
    "BAUD_RATE = 9600      # Match this to your device's baud rate\n",
    "\n",
    "try:\n",
    "    # Open the serial port\n",
    "    ser = serial.Serial(SERIAL_PORT, BAUD_RATE, timeout=1)\n",
    "    print(f\"Connected to {SERIAL_PORT} at {BAUD_RATE} baud.\")\n",
    "\n",
    "    # Wait for the serial connection to initialize\n",
    "    time.sleep(2)\n",
    "\n",
    "    # Send data to the serial port\n",
    "    message = \"Hello, Serial Device!\\r\\n\"\n",
    "    ser.write(message.encode('utf-8'))  # Encode string to bytes\n",
    "    print(f\"Sent: {message.strip()}\")\n",
    "\n",
    "    # Read data from the serial port\n",
    "    response = ser.readline().decode('utf-8').strip()  # Decode bytes to string\n",
    "    print(f\"Received: {response}\")\n",
    "\n",
    "    # Close the serial port\n",
    "    ser.close()\n",
    "    print(\"Serial port closed.\")\n",
    "\n",
    "except serial.SerialException as e:  # Correct exception handling\n",
    "    print(f\"Error opening serial port: {e}\")\n",
    "except KeyboardInterrupt:\n",
    "    print(\"Program interrupted by user.\")\n",
    "except Exception as e:\n",
    "    print(f\"An unexpected error occurred: {e}\")\n",
    "finally:\n",
    "    if 'ser' in locals() and ser.is_open:\n",
    "        ser.close()\n",
    "        print(\"Serial port closed.\")\n"
   ]
  }
 ],
 "metadata": {
  "kernelspec": {
   "display_name": "py-env",
   "language": "python",
   "name": "python3"
  },
  "language_info": {
   "codemirror_mode": {
    "name": "ipython",
    "version": 3
   },
   "file_extension": ".py",
   "mimetype": "text/x-python",
   "name": "python",
   "nbconvert_exporter": "python",
   "pygments_lexer": "ipython3",
   "version": "3.11.11"
  }
 },
 "nbformat": 4,
 "nbformat_minor": 2
}
