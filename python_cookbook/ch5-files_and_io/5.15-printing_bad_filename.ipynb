{
 "cells": [
  {
   "cell_type": "code",
   "execution_count": 1,
   "metadata": {},
   "outputs": [
    {
     "name": "stdout",
     "output_type": "stream",
     "text": [
      "Using repr approach:\n",
      "spam.py\n",
      "b�d.txt\n",
      "foo.txt\n",
      "\n",
      "Using re-encode approach:\n",
      "spam.py\n",
      "b�d.txt\n",
      "foo.txt\n"
     ]
    }
   ],
   "source": [
    "import os\n",
    "import sys\n",
    "\n",
    "def bad_filename_repr(filename):\n",
    "    \"\"\"Handle bad filenames using repr.\"\"\"\n",
    "    return repr(filename)[1:-1]\n",
    "\n",
    "def bad_filename_reencode(filename):\n",
    "    \"\"\"Handle bad filenames by re-encoding.\"\"\"\n",
    "    temp = filename.encode(sys.getfilesystemencoding(), errors='surrogateescape')\n",
    "    return temp.decode('latin-1')\n",
    "\n",
    "# Simulate a directory listing with a bad filename\n",
    "files = ['spam.py', 'b\\udce4d.txt', 'foo.txt']\n",
    "\n",
    "# Print filenames using the repr approach\n",
    "print(\"Using repr approach:\")\n",
    "for name in files:\n",
    "    try:\n",
    "        print(name)\n",
    "    except UnicodeEncodeError:\n",
    "        print(bad_filename_repr(name))\n",
    "\n",
    "# Print filenames using the re-encode approach\n",
    "print(\"\\nUsing re-encode approach:\")\n",
    "for name in files:\n",
    "    try:\n",
    "        print(name)\n",
    "    except UnicodeEncodeError:\n",
    "        print(bad_filename_reencode(name))"
   ]
  },
  {
   "cell_type": "code",
   "execution_count": 2,
   "metadata": {},
   "outputs": [
    {
     "name": "stdout",
     "output_type": "stream",
     "text": [
      "Raw bytes in filenames:\n",
      "b'spam.py'\n",
      "b'b\\xe4d.txt'\n",
      "b'foo.txt'\n",
      "\n",
      "Using repr approach:\n",
      "spam.py\n",
      "b�d.txt\n",
      "foo.txt\n",
      "\n",
      "Using re-encode approach:\n",
      "spam.py\n",
      "b�d.txt\n",
      "foo.txt\n"
     ]
    }
   ],
   "source": [
    "import os\n",
    "import sys\n",
    "\n",
    "def bad_filename_repr(filename):\n",
    "    \"\"\"Handle bad filenames using repr.\"\"\"\n",
    "    return repr(filename)[1:-1]\n",
    "\n",
    "def bad_filename_reencode(filename):\n",
    "    \"\"\"Handle bad filenames by re-encoding.\"\"\"\n",
    "    temp = filename.encode(sys.getfilesystemencoding(), errors='surrogateescape')\n",
    "    return temp.decode('latin-1', errors='replace')\n",
    "\n",
    "# Simulate a directory listing with a bad filename\n",
    "files = ['spam.py', 'b\\udce4d.txt', 'foo.txt']\n",
    "\n",
    "# Print raw bytes for debugging\n",
    "print(\"Raw bytes in filenames:\")\n",
    "for name in files:\n",
    "    print(name.encode('utf-8', errors='surrogateescape'))\n",
    "\n",
    "# Print filenames using the repr approach\n",
    "print(\"\\nUsing repr approach:\")\n",
    "for name in files:\n",
    "    try:\n",
    "        print(name)\n",
    "    except UnicodeEncodeError:\n",
    "        print(bad_filename_repr(name))\n",
    "\n",
    "# Print filenames using the re-encode approach\n",
    "print(\"\\nUsing re-encode approach:\")\n",
    "for name in files:\n",
    "    try:\n",
    "        print(name)\n",
    "    except UnicodeEncodeError:\n",
    "        print(bad_filename_reencode(name))"
   ]
  }
 ],
 "metadata": {
  "kernelspec": {
   "display_name": "py-env",
   "language": "python",
   "name": "python3"
  },
  "language_info": {
   "codemirror_mode": {
    "name": "ipython",
    "version": 3
   },
   "file_extension": ".py",
   "mimetype": "text/x-python",
   "name": "python",
   "nbconvert_exporter": "python",
   "pygments_lexer": "ipython3",
   "version": "3.11.11"
  }
 },
 "nbformat": 4,
 "nbformat_minor": 2
}
