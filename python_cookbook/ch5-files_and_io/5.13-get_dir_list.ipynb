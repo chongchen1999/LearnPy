{
 "cells": [
  {
   "cell_type": "code",
   "execution_count": 8,
   "metadata": {},
   "outputs": [
    {
     "data": {
      "text/plain": [
       "['example.bin',\n",
       " 'sample.bin',\n",
       " 'output_concatenated.txt',\n",
       " 'file_python.txt',\n",
       " 'data.bin',\n",
       " 'output_separate.txt',\n",
       " 'somefile.txt',\n",
       " 'somefile.bin',\n",
       " 'somefile.data',\n",
       " 'example.txt.gz',\n",
       " 'test.txt',\n",
       " 'data.txt',\n",
       " 'example.txt',\n",
       " 'newsample.bin',\n",
       " 'somefile',\n",
       " 'data',\n",
       " 'sample.txt',\n",
       " 'array.bin']"
      ]
     },
     "execution_count": 8,
     "metadata": {},
     "output_type": "execute_result"
    }
   ],
   "source": [
    "import os\n",
    "\n",
    "dir_path = \"/home/tourist/diy/LearnPy/data/\"\n",
    "names = os.listdir(dir_path)\n",
    "names"
   ]
  },
  {
   "cell_type": "code",
   "execution_count": 5,
   "metadata": {},
   "outputs": [
    {
     "data": {
      "text/plain": [
       "['example.bin',\n",
       " 'sample.bin',\n",
       " 'output_concatenated.txt',\n",
       " 'file_python.txt',\n",
       " 'data.bin',\n",
       " 'output_separate.txt',\n",
       " 'somefile.txt',\n",
       " 'somefile.bin',\n",
       " 'somefile.data',\n",
       " 'example.txt.gz',\n",
       " 'test.txt',\n",
       " 'data.txt',\n",
       " 'example.txt',\n",
       " 'newsample.bin',\n",
       " 'somefile',\n",
       " 'data',\n",
       " 'sample.txt',\n",
       " 'array.bin']"
      ]
     },
     "execution_count": 5,
     "metadata": {},
     "output_type": "execute_result"
    }
   ],
   "source": [
    "files = [name for name in os.listdir(dir_path) \n",
    "         if os.path.isfile(os.path.join(dir_path, name))]\n",
    "files"
   ]
  },
  {
   "cell_type": "code",
   "execution_count": 7,
   "metadata": {},
   "outputs": [
    {
     "data": {
      "text/plain": [
       "['example.bin',\n",
       " 'sample.bin',\n",
       " 'data.bin',\n",
       " 'somefile.bin',\n",
       " 'newsample.bin',\n",
       " 'array.bin']"
      ]
     },
     "execution_count": 7,
     "metadata": {},
     "output_type": "execute_result"
    }
   ],
   "source": [
    "bin_files = [name for name in os.listdir(dir_path) \n",
    "           if name.endswith('.bin')]\n",
    "bin_files"
   ]
  },
  {
   "cell_type": "code",
   "execution_count": 10,
   "metadata": {},
   "outputs": [
    {
     "name": "stdout",
     "output_type": "stream",
     "text": [
      "File: /home/tourist/diy/LearnPy/data/example.bin, Size: 4 bytes, Last Modified: 1737836978.1077116\n",
      "File: /home/tourist/diy/LearnPy/data/sample.bin, Size: 11 bytes, Last Modified: 1737910714.709276\n",
      "File: /home/tourist/diy/LearnPy/data/data.bin, Size: 16 bytes, Last Modified: 1737836978.0277116\n",
      "File: /home/tourist/diy/LearnPy/data/somefile.bin, Size: 11 bytes, Last Modified: 1737836978.0077116\n",
      "File: /home/tourist/diy/LearnPy/data/newsample.bin, Size: 11 bytes, Last Modified: 1737910714.709276\n",
      "File: /home/tourist/diy/LearnPy/data/array.bin, Size: 16 bytes, Last Modified: 1737836978.1477115\n"
     ]
    }
   ],
   "source": [
    "import os\n",
    "import os.path\n",
    "import glob\n",
    "\n",
    "# Get all .py files in the directory\n",
    "pyfiles = glob.glob(dir_path + '*.bin')\n",
    "\n",
    "# Retrieve file metadata (name, size, modification time)\n",
    "file_metadata = [(name, os.path.getsize(name), os.path.getmtime(name)) \n",
    "                 for name in pyfiles]\n",
    "\n",
    "# Print the results\n",
    "for name, size, mtime in file_metadata:\n",
    "    print(f\"File: {name}, Size: {size} bytes, Last Modified: {mtime}\")"
   ]
  }
 ],
 "metadata": {
  "kernelspec": {
   "display_name": "py-env",
   "language": "python",
   "name": "python3"
  },
  "language_info": {
   "codemirror_mode": {
    "name": "ipython",
    "version": 3
   },
   "file_extension": ".py",
   "mimetype": "text/x-python",
   "name": "python",
   "nbconvert_exporter": "python",
   "pygments_lexer": "ipython3",
   "version": "3.11.11"
  }
 },
 "nbformat": 4,
 "nbformat_minor": 2
}
