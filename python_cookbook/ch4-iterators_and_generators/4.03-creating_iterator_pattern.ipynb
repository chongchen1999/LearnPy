{
 "cells": [
  {
   "cell_type": "code",
   "execution_count": 1,
   "metadata": {},
   "outputs": [],
   "source": [
    "def frange(start, stop, increment):\n",
    "    x = start\n",
    "    while x < stop:\n",
    "        yield x\n",
    "        x += increment"
   ]
  },
  {
   "cell_type": "code",
   "execution_count": 2,
   "metadata": {},
   "outputs": [
    {
     "name": "stdout",
     "output_type": "stream",
     "text": [
      "0\n",
      "0.5\n",
      "1.0\n",
      "1.5\n",
      "2.0\n",
      "2.5\n",
      "3.0\n",
      "3.5\n",
      "[0, 0.125, 0.25, 0.375, 0.5, 0.625, 0.75, 0.875]\n"
     ]
    }
   ],
   "source": [
    "# Using a for loop to iterate over the generator\n",
    "for n in frange(0, 4, 0.5):\n",
    "    print(n)\n",
    "\n",
    "# Output:\n",
    "# 0\n",
    "# 0.5\n",
    "# 1.0\n",
    "# 1.5\n",
    "# 2.0\n",
    "# 2.5\n",
    "# 3.0\n",
    "# 3.5\n",
    "\n",
    "# Converting the generator to a list\n",
    "print(list(frange(0, 1, 0.125)))\n",
    "\n",
    "# Output:\n",
    "# [0, 0.125, 0.25, 0.375, 0.5, 0.625, 0.75, 0.875]"
   ]
  },
  {
   "cell_type": "code",
   "execution_count": 4,
   "metadata": {},
   "outputs": [
    {
     "name": "stdout",
     "output_type": "stream",
     "text": [
      "Starting to count from 3\n",
      "3\n",
      "2\n",
      "1\n",
      "Done!\n"
     ]
    }
   ],
   "source": [
    "def countdown(n):\n",
    "    print('Starting to count from', n)\n",
    "    while n > 0:\n",
    "        yield n\n",
    "        n -= 1\n",
    "    print('Done!')\n",
    "\n",
    "# Create the generator object\n",
    "c = countdown(3)\n",
    "\n",
    "# Manually iterate using next()\n",
    "print(next(c))  # Output: Starting to count from 3, then 3\n",
    "print(next(c))  # Output: 2\n",
    "print(next(c))  # Output: 1\n",
    "\n",
    "# Attempting to call next() again will raise StopIteration\n",
    "try:\n",
    "    print(next(c))\n",
    "except StopIteration:\n",
    "    pass"
   ]
  }
 ],
 "metadata": {
  "kernelspec": {
   "display_name": "py-env",
   "language": "python",
   "name": "python3"
  },
  "language_info": {
   "codemirror_mode": {
    "name": "ipython",
    "version": 3
   },
   "file_extension": ".py",
   "mimetype": "text/x-python",
   "name": "python",
   "nbconvert_exporter": "python",
   "pygments_lexer": "ipython3",
   "version": "3.11.11"
  }
 },
 "nbformat": 4,
 "nbformat_minor": 2
}
