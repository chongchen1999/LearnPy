{
 "cells": [
  {
   "cell_type": "code",
   "execution_count": 2,
   "metadata": {},
   "outputs": [
    {
     "name": "stdout",
     "output_type": "stream",
     "text": [
      "Node(1)\n",
      "Node(2)\n",
      "Node(0)\n"
     ]
    }
   ],
   "source": [
    "class Node:\n",
    "    def __init__(self, value):\n",
    "        self._value = value\n",
    "        self._children = []  # Internal list to hold child nodes\n",
    "\n",
    "    def __repr__(self):\n",
    "        return 'Node({!r})'.format(self._value)\n",
    "\n",
    "    def add_child(self, node):\n",
    "        self._children.append(node)  # Add a child node\n",
    "\n",
    "    def __iter__(self):\n",
    "        return iter(self._children)  # Delegate iteration to the _children list\n",
    "\n",
    "# Example usage\n",
    "if __name__ == '__main__':\n",
    "    root = Node(0)  # Create root node\n",
    "    child1 = Node(1)  # Create child node 1\n",
    "    child2 = Node(2)  # Create child node 2\n",
    "\n",
    "    root.add_child(child1)  # Add child1 to root\n",
    "    root.add_child(child2)  # Add child2 to root\n",
    "\n",
    "    # Iterate over the root node (which iterates over its children)\n",
    "    for ch in root:\n",
    "        print(ch)  # Outputs Node(1), Node(2)"
   ]
  }
 ],
 "metadata": {
  "kernelspec": {
   "display_name": "py-env",
   "language": "python",
   "name": "python3"
  },
  "language_info": {
   "codemirror_mode": {
    "name": "ipython",
    "version": 3
   },
   "file_extension": ".py",
   "mimetype": "text/x-python",
   "name": "python",
   "nbconvert_exporter": "python",
   "pygments_lexer": "ipython3",
   "version": "3.11.11"
  }
 },
 "nbformat": 4,
 "nbformat_minor": 2
}
