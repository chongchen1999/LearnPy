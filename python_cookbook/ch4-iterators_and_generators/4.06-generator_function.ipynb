{
 "cells": [
  {
   "cell_type": "code",
   "execution_count": 5,
   "metadata": {},
   "outputs": [
    {
     "name": "stdout",
     "output_type": "stream",
     "text": [
      "1:This is a test file.\n",
      "2:Python is a great programming language.\n",
      "1:This is a test file.\n",
      "2:Python is a great programming language.\n",
      "3:I love using Python for data analysis.\n",
      "3:I love using Python for data analysis.\n",
      "4:Here is another line without the keyword.\n",
      "5:Python is also used for web development.\n",
      "********************************************************************************\n",
      "This is a test file.\n",
      "\n",
      "Python is a great programming language.\n",
      "\n"
     ]
    }
   ],
   "source": [
    "from collections import deque\n",
    "\n",
    "class LineHistory:\n",
    "    def __init__(self, lines, histlen=3):\n",
    "        self.lines = lines\n",
    "        self.history = deque(maxlen=histlen)\n",
    "\n",
    "    def __iter__(self):\n",
    "        for lineno, line in enumerate(self.lines, 1):\n",
    "            self.history.append((lineno, line))\n",
    "            yield line\n",
    "\n",
    "    def clear(self):\n",
    "        self.history.clear()\n",
    "\n",
    "# Usage\n",
    "with open('/home/tourist/diy/LearnPy/data/file_python.txt') as f:\n",
    "    lines = LineHistory(f)\n",
    "    for line in lines:\n",
    "        if 'Python' in line:\n",
    "            for lineno, hline in lines.history:\n",
    "                print('{}:{}'.format(lineno, hline), end='')\n",
    "\n",
    "print(\"*\" * 80)\n",
    "\n",
    "# Manual iteration example\n",
    "f = open('/home/tourist/diy/LearnPy/data/file_python.txt')\n",
    "lines = LineHistory(f)\n",
    "it = iter(lines)  # Must call iter() first\n",
    "print(next(it))  # Prints the first line\n",
    "print(next(it))  # Prints the second line"
   ]
  }
 ],
 "metadata": {
  "kernelspec": {
   "display_name": "py-env",
   "language": "python",
   "name": "python3"
  },
  "language_info": {
   "codemirror_mode": {
    "name": "ipython",
    "version": 3
   },
   "file_extension": ".py",
   "mimetype": "text/x-python",
   "name": "python",
   "nbconvert_exporter": "python",
   "pygments_lexer": "ipython3",
   "version": "3.11.11"
  }
 },
 "nbformat": 4,
 "nbformat_minor": 2
}
