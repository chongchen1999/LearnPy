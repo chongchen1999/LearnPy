{
 "cells": [
  {
   "cell_type": "code",
   "execution_count": 1,
   "metadata": {},
   "outputs": [
    {
     "name": "stdout",
     "output_type": "stream",
     "text": [
      "0 a\n",
      "1 b\n",
      "2 c\n"
     ]
    }
   ],
   "source": [
    "my_list = ['a', 'b', 'c']\n",
    "for idx, val in enumerate(my_list):\n",
    "    print(idx, val)"
   ]
  },
  {
   "cell_type": "code",
   "execution_count": 2,
   "metadata": {},
   "outputs": [
    {
     "name": "stdout",
     "output_type": "stream",
     "text": [
      "1 a\n",
      "2 b\n",
      "3 c\n"
     ]
    }
   ],
   "source": [
    "my_list = ['a', 'b', 'c']\n",
    "for idx, val in enumerate(my_list, 1):\n",
    "    print(idx, val)"
   ]
  },
  {
   "cell_type": "code",
   "execution_count": 3,
   "metadata": {},
   "outputs": [],
   "source": [
    "def parse_data(filename):\n",
    "    with open(filename, 'rt') as f:\n",
    "        for lineno, line in enumerate(f, 1):\n",
    "            fields = line.split()\n",
    "            try:\n",
    "                count = int(fields[1])\n",
    "            except ValueError as e:\n",
    "                print(f'Line {lineno}: Parse error: {e}')"
   ]
  },
  {
   "cell_type": "code",
   "execution_count": 5,
   "metadata": {},
   "outputs": [
    {
     "data": {
      "text/plain": [
       "defaultdict(list,\n",
       "            {'this': [0, 5],\n",
       "             'is': [0, 1, 3, 4, 5],\n",
       "             'a': [0, 1],\n",
       "             'test': [0],\n",
       "             'file.': [0],\n",
       "             'python': [1, 2, 4],\n",
       "             'great': [1],\n",
       "             'programming': [1],\n",
       "             'language.': [1],\n",
       "             'i': [2],\n",
       "             'love': [2],\n",
       "             'using': [2],\n",
       "             'for': [2, 4],\n",
       "             'data': [2],\n",
       "             'analysis.': [2],\n",
       "             'here': [3],\n",
       "             'another': [3],\n",
       "             'line': [3],\n",
       "             'without': [3],\n",
       "             'the': [3, 5],\n",
       "             'keyword.': [3],\n",
       "             'also': [4],\n",
       "             'used': [4],\n",
       "             'web': [4],\n",
       "             'development.': [4],\n",
       "             'last': [5],\n",
       "             'line.': [5]})"
      ]
     },
     "execution_count": 5,
     "metadata": {},
     "output_type": "execute_result"
    }
   ],
   "source": [
    "from collections import defaultdict\n",
    "\n",
    "word_summary = defaultdict(list)\n",
    "with open('/home/tourist/diy/LearnPy/data/file_python.txt', 'r') as f:\n",
    "    lines = f.readlines()\n",
    "    for idx, line in enumerate(lines):\n",
    "        words = [w.strip().lower() for w in line.split()]\n",
    "        for word in words:\n",
    "            word_summary[word].append(idx)\n",
    "\n",
    "word_summary"
   ]
  },
  {
   "cell_type": "code",
   "execution_count": 6,
   "metadata": {},
   "outputs": [
    {
     "name": "stdout",
     "output_type": "stream",
     "text": [
      "0 1 2\n",
      "1 3 4\n",
      "2 5 6\n",
      "3 7 8\n"
     ]
    }
   ],
   "source": [
    "data = [(1, 2), (3, 4), (5, 6), (7, 8)]\n",
    "\n",
    "# Correct way\n",
    "for n, (x, y) in enumerate(data):\n",
    "    print(n, x, y)\n",
    "\n",
    "# Incorrect way (will raise an error)\n",
    "# for n, x, y in enumerate(data):\n",
    "#     print(n, x, y)"
   ]
  }
 ],
 "metadata": {
  "kernelspec": {
   "display_name": "py-env",
   "language": "python",
   "name": "python3"
  },
  "language_info": {
   "codemirror_mode": {
    "name": "ipython",
    "version": 3
   },
   "file_extension": ".py",
   "mimetype": "text/x-python",
   "name": "python",
   "nbconvert_exporter": "python",
   "pygments_lexer": "ipython3",
   "version": "3.11.11"
  }
 },
 "nbformat": 4,
 "nbformat_minor": 2
}
