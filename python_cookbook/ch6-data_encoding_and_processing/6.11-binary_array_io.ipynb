{
 "cells": [
  {
   "cell_type": "code",
   "execution_count": 2,
   "metadata": {},
   "outputs": [
    {
     "name": "stdout",
     "output_type": "stream",
     "text": [
      "Data written to /home/tourist/diy/LearnPy/data/data.b\n"
     ]
    }
   ],
   "source": [
    "import os\n",
    "from struct import Struct\n",
    "\n",
    "# Ensure the directory exists\n",
    "os.makedirs(\"/home/tourist/diy/LearnPy/data/\", exist_ok=True)\n",
    "\n",
    "def write_records(records, format, filepath):\n",
    "    '''\n",
    "    Write a sequence of tuples to a binary file of structures.\n",
    "    '''\n",
    "    record_struct = Struct(format)\n",
    "    with open(filepath, 'wb') as f:\n",
    "        for r in records:\n",
    "            f.write(record_struct.pack(*r))\n",
    "\n",
    "# Example\n",
    "if __name__ == '__main__':\n",
    "    records = [ (1, 2.3, 4.5),\n",
    "                (6, 7.8, 9.0),\n",
    "                (12, 13.4, 56.7) ]\n",
    "    filepath = \"/home/tourist/diy/LearnPy/data/data.b\"\n",
    "    write_records(records, '<idd', filepath)\n",
    "    print(f\"Data written to {filepath}\")"
   ]
  },
  {
   "cell_type": "code",
   "execution_count": 3,
   "metadata": {},
   "outputs": [
    {
     "name": "stdout",
     "output_type": "stream",
     "text": [
      "(1, 2.3, 4.5)\n",
      "(6, 7.8, 9.0)\n",
      "(12, 13.4, 56.7)\n"
     ]
    }
   ],
   "source": [
    "from struct import Struct\n",
    "\n",
    "def read_records(format, filepath):\n",
    "    '''\n",
    "    Read a binary file incrementally and yield tuples.\n",
    "    '''\n",
    "    record_struct = Struct(format)\n",
    "    with open(filepath, 'rb') as f:\n",
    "        chunks = iter(lambda: f.read(record_struct.size), b'')\n",
    "        for chunk in chunks:\n",
    "            yield record_struct.unpack(chunk)\n",
    "\n",
    "# Example\n",
    "if __name__ == '__main__':\n",
    "    filepath = \"/home/tourist/diy/LearnPy/data/data.b\"\n",
    "    for rec in read_records('<idd', filepath):\n",
    "        print(rec)"
   ]
  },
  {
   "cell_type": "code",
   "execution_count": 4,
   "metadata": {},
   "outputs": [
    {
     "name": "stdout",
     "output_type": "stream",
     "text": [
      "(1, 2.3, 4.5)\n",
      "(6, 7.8, 9.0)\n",
      "(12, 13.4, 56.7)\n"
     ]
    }
   ],
   "source": [
    "from struct import Struct\n",
    "\n",
    "def unpack_records(format, filepath):\n",
    "    '''\n",
    "    Read the entire binary file and unpack it into tuples.\n",
    "    '''\n",
    "    record_struct = Struct(format)\n",
    "    with open(filepath, 'rb') as f:\n",
    "        data = f.read()\n",
    "    return (record_struct.unpack_from(data, offset)\n",
    "            for offset in range(0, len(data), record_struct.size))\n",
    "\n",
    "# Example\n",
    "if __name__ == '__main__':\n",
    "    filepath = \"/home/tourist/diy/LearnPy/data/data.b\"\n",
    "    for rec in unpack_records('<idd', filepath):\n",
    "        print(rec)"
   ]
  },
  {
   "cell_type": "code",
   "execution_count": 5,
   "metadata": {},
   "outputs": [
    {
     "name": "stdout",
     "output_type": "stream",
     "text": [
      "1 2.3 4.5\n",
      "6 7.8 9.0\n",
      "12 13.4 56.7\n"
     ]
    }
   ],
   "source": [
    "from collections import namedtuple\n",
    "from struct import Struct\n",
    "\n",
    "def read_records(format, filepath):\n",
    "    '''\n",
    "    Read a binary file and yield namedtuples.\n",
    "    '''\n",
    "    record_struct = Struct(format)\n",
    "    Record = namedtuple('Record', ['kind', 'x', 'y'])\n",
    "    with open(filepath, 'rb') as f:\n",
    "        chunks = iter(lambda: f.read(record_struct.size), b'')\n",
    "        for chunk in chunks:\n",
    "            yield Record(*record_struct.unpack(chunk))\n",
    "\n",
    "# Example\n",
    "if __name__ == '__main__':\n",
    "    filepath = \"/home/tourist/diy/LearnPy/data/data.b\"\n",
    "    for rec in read_records('<idd', filepath):\n",
    "        print(rec.kind, rec.x, rec.y)"
   ]
  },
  {
   "cell_type": "code",
   "execution_count": 6,
   "metadata": {},
   "outputs": [
    {
     "name": "stdout",
     "output_type": "stream",
     "text": [
      "[( 1,  2.3,  4.5) ( 6,  7.8,  9. ) (12, 13.4, 56.7)]\n",
      "(1, 2.3, 4.5)\n"
     ]
    }
   ],
   "source": [
    "import numpy as np\n",
    "\n",
    "def read_records_numpy(filepath):\n",
    "    '''\n",
    "    Read a binary file into a numpy structured array.\n",
    "    '''\n",
    "    dtype = np.dtype([('kind', '<i4'), ('x', '<f8'), ('y', '<f8')])\n",
    "    return np.fromfile(filepath, dtype=dtype)\n",
    "\n",
    "# Example\n",
    "if __name__ == '__main__':\n",
    "    filepath = \"/home/tourist/diy/LearnPy/data/data.b\"\n",
    "    records = read_records_numpy(filepath)\n",
    "    print(records)\n",
    "    print(records[0])  # Access the first record"
   ]
  },
  {
   "cell_type": "code",
   "execution_count": 7,
   "metadata": {},
   "outputs": [],
   "source": [
    "import os\n",
    "\n",
    "# Create the directory if it doesn't exist\n",
    "os.makedirs(\"/home/tourist/diy/LearnPy/data/\", exist_ok=True)"
   ]
  }
 ],
 "metadata": {
  "kernelspec": {
   "display_name": "py-env",
   "language": "python",
   "name": "python3"
  },
  "language_info": {
   "codemirror_mode": {
    "name": "ipython",
    "version": 3
   },
   "file_extension": ".py",
   "mimetype": "text/x-python",
   "name": "python",
   "nbconvert_exporter": "python",
   "pygments_lexer": "ipython3",
   "version": "3.11.11"
  }
 },
 "nbformat": 4,
 "nbformat_minor": 2
}
