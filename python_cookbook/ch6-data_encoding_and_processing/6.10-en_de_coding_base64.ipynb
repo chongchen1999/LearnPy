{
 "cells": [
  {
   "cell_type": "code",
   "execution_count": 1,
   "metadata": {},
   "outputs": [
    {
     "name": "stdout",
     "output_type": "stream",
     "text": [
      "b'aGVsbG8='\n"
     ]
    }
   ],
   "source": [
    "import base64\n",
    "\n",
    "# Some byte data\n",
    "s = b'hello'\n",
    "\n",
    "# Encode as Base64\n",
    "a = base64.b64encode(s)\n",
    "print(a)  # Output: b'aGVsbG8='"
   ]
  },
  {
   "cell_type": "code",
   "execution_count": 2,
   "metadata": {},
   "outputs": [
    {
     "name": "stdout",
     "output_type": "stream",
     "text": [
      "b'hello'\n"
     ]
    }
   ],
   "source": [
    "# Decode from Base64\n",
    "decoded_data = base64.b64decode(a)\n",
    "print(decoded_data)  # Output: b'hello'"
   ]
  },
  {
   "cell_type": "code",
   "execution_count": 3,
   "metadata": {},
   "outputs": [
    {
     "name": "stdout",
     "output_type": "stream",
     "text": [
      "aGVsbG8=\n"
     ]
    }
   ],
   "source": [
    "# Encode as Base64 and decode to Unicode string\n",
    "a_unicode = base64.b64encode(s).decode('ascii')\n",
    "print(a_unicode)  # Output: 'aGVsbG8='"
   ]
  },
  {
   "cell_type": "code",
   "execution_count": 4,
   "metadata": {},
   "outputs": [
    {
     "name": "stdout",
     "output_type": "stream",
     "text": [
      "b'hello'\n"
     ]
    }
   ],
   "source": [
    "# Decode from Base64 Unicode string\n",
    "decoded_data_from_unicode = base64.b64decode(a_unicode)\n",
    "print(decoded_data_from_unicode)  # Output: b'hello'"
   ]
  }
 ],
 "metadata": {
  "kernelspec": {
   "display_name": "py-env",
   "language": "python",
   "name": "python3"
  },
  "language_info": {
   "codemirror_mode": {
    "name": "ipython",
    "version": 3
   },
   "file_extension": ".py",
   "mimetype": "text/x-python",
   "name": "python",
   "nbconvert_exporter": "python",
   "pygments_lexer": "ipython3",
   "version": "3.11.11"
  }
 },
 "nbformat": 4,
 "nbformat_minor": 2
}
