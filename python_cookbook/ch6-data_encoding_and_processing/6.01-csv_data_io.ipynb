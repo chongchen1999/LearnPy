{
 "cells": [
  {
   "cell_type": "code",
   "execution_count": 2,
   "metadata": {},
   "outputs": [
    {
     "name": "stdout",
     "output_type": "stream",
     "text": [
      "Data has been written to /home/tourist/diy/LearnPy/data/stocks.csv\n"
     ]
    }
   ],
   "source": [
    "import csv\n",
    "import os\n",
    "\n",
    "# Define the file path\n",
    "file_path = '/home/tourist/diy/LearnPy/data/stocks.csv'\n",
    "\n",
    "# Ensure the directory exists\n",
    "os.makedirs(os.path.dirname(file_path), exist_ok=True)\n",
    "\n",
    "# Define the headers and data\n",
    "headers = ['Symbol', 'Price', 'Date', 'Time', 'Change', 'Volume']\n",
    "rows = [\n",
    "    ('AA', 39.48, '6/11/2007', '9:36am', -0.18, 181800),\n",
    "    ('AIG', 71.38, '6/11/2007', '9:36am', -0.15, 195500),\n",
    "    ('AXP', 62.58, '6/11/2007', '9:36am', -0.46, 935000),\n",
    "    ('BA', 98.31, '6/11/2007', '9:36am', +0.12, 104800),\n",
    "    ('C', 53.08, '6/11/2007', '9:36am', -0.25, 360900),\n",
    "    ('CAT', 78.29, '6/11/2007', '9:36am', -0.23, 225400),\n",
    "]\n",
    "\n",
    "# Write the data to the CSV file\n",
    "with open(file_path, 'w', newline='') as f:\n",
    "    f_csv = csv.writer(f)\n",
    "    f_csv.writerow(headers)  # Write the header row\n",
    "    f_csv.writerows(rows)  # Write the data rows\n",
    "\n",
    "print(f\"Data has been written to {file_path}\")"
   ]
  },
  {
   "cell_type": "code",
   "execution_count": 3,
   "metadata": {},
   "outputs": [
    {
     "name": "stdout",
     "output_type": "stream",
     "text": [
      "['AA', '39.48', '6/11/2007', '9:36am', '-0.18', '181800']\n",
      "['AIG', '71.38', '6/11/2007', '9:36am', '-0.15', '195500']\n",
      "['AXP', '62.58', '6/11/2007', '9:36am', '-0.46', '935000']\n",
      "['BA', '98.31', '6/11/2007', '9:36am', '0.12', '104800']\n",
      "['C', '53.08', '6/11/2007', '9:36am', '-0.25', '360900']\n",
      "['CAT', '78.29', '6/11/2007', '9:36am', '-0.23', '225400']\n"
     ]
    }
   ],
   "source": [
    "import csv\n",
    "\n",
    "file_path = '/home/tourist/diy/LearnPy/data/stocks.csv'\n",
    "\n",
    "with open(file_path) as f:\n",
    "    f_csv = csv.reader(f)\n",
    "    headers = next(f_csv)  # Read the header row\n",
    "    for row in f_csv:\n",
    "        # Process each row as a tuple\n",
    "        print(row)  # Example: row[0] for Symbol, row[4] for Change"
   ]
  },
  {
   "cell_type": "code",
   "execution_count": 1,
   "metadata": {},
   "outputs": [],
   "source": [
    "import csv\n",
    "\n",
    "file_path = '/home/tourist/diy/LearnPy/data/stocks_output_dict.csv'\n",
    "headers = ['Symbol', 'Price', 'Date', 'Time', 'Change', 'Volume']\n",
    "rows = [\n",
    "    {'Symbol': 'AA', 'Price': 39.48, 'Date': '6/11/2007', 'Time': '9:36am', 'Change': -0.18, 'Volume': 181800},\n",
    "    {'Symbol': 'AIG', 'Price': 71.38, 'Date': '6/11/2007', 'Time': '9:36am', 'Change': -0.15, 'Volume': 195500},\n",
    "    {'Symbol': 'AXP', 'Price': 62.58, 'Date': '6/11/2007', 'Time': '9:36am', 'Change': -0.46, 'Volume': 935000},\n",
    "]\n",
    "\n",
    "with open(file_path, 'w') as f:\n",
    "    f_csv = csv.DictWriter(f, headers)\n",
    "    f_csv.writeheader()  # Write the header row\n",
    "    f_csv.writerows(rows)  # Write the data rows"
   ]
  },
  {
   "cell_type": "code",
   "execution_count": 2,
   "metadata": {},
   "outputs": [
    {
     "name": "stdout",
     "output_type": "stream",
     "text": [
      "('AA', 39.48, '6/11/2007', '9:36am', -0.18, 181800)\n",
      "('AIG', 71.38, '6/11/2007', '9:36am', -0.15, 195500)\n",
      "('AXP', 62.58, '6/11/2007', '9:36am', -0.46, 935000)\n",
      "('BA', 98.31, '6/11/2007', '9:36am', 0.12, 104800)\n",
      "('C', 53.08, '6/11/2007', '9:36am', -0.25, 360900)\n",
      "('CAT', 78.29, '6/11/2007', '9:36am', -0.23, 225400)\n"
     ]
    }
   ],
   "source": [
    "import csv\n",
    "\n",
    "file_path = '/home/tourist/diy/LearnPy/data/stocks.csv'\n",
    "col_types = [str, float, str, str, float, int]  # Define types for each column\n",
    "\n",
    "with open(file_path) as f:\n",
    "    f_csv = csv.reader(f)\n",
    "    headers = next(f_csv)\n",
    "    for row in f_csv:\n",
    "        row = tuple(convert(value) for convert, value in zip(col_types, row))  # Apply conversions\n",
    "        print(row)"
   ]
  },
  {
   "cell_type": "code",
   "execution_count": 4,
   "metadata": {},
   "outputs": [
    {
     "name": "stdout",
     "output_type": "stream",
     "text": [
      "  Symbol  Price       Date    Time  Change  Volume\n",
      "0     AA  39.48  6/11/2007  9:36am   -0.18  181800\n",
      "1    AIG  71.38  6/11/2007  9:36am   -0.15  195500\n",
      "2    AXP  62.58  6/11/2007  9:36am   -0.46  935000\n",
      "3     BA  98.31  6/11/2007  9:36am    0.12  104800\n",
      "4      C  53.08  6/11/2007  9:36am   -0.25  360900\n",
      "-0.19166666666666668\n"
     ]
    }
   ],
   "source": [
    "import pandas as pd\n",
    "\n",
    "file_path = '/home/tourist/diy/LearnPy/data/stocks.csv'\n",
    "df = pd.read_csv(file_path)  # Read CSV into a DataFrame\n",
    "print(df.head())  # Display the first few rows\n",
    "print(df['Change'].mean())  # Perform operations like calculating the mean"
   ]
  }
 ],
 "metadata": {
  "kernelspec": {
   "display_name": "py-env",
   "language": "python",
   "name": "python3"
  },
  "language_info": {
   "codemirror_mode": {
    "name": "ipython",
    "version": 3
   },
   "file_extension": ".py",
   "mimetype": "text/x-python",
   "name": "python",
   "nbconvert_exporter": "python",
   "pygments_lexer": "ipython3",
   "version": "3.11.11"
  }
 },
 "nbformat": 4,
 "nbformat_minor": 2
}
