{
 "cells": [
  {
   "cell_type": "code",
   "execution_count": 2,
   "metadata": {},
   "outputs": [],
   "source": [
    "import os\n",
    "\n",
    "# Define the directory path\n",
    "directory = \"/home/tourist/diy/LearnPy/data/\"\n",
    "\n",
    "# Create the directory if it doesn't exist\n",
    "os.makedirs(directory, exist_ok=True)"
   ]
  },
  {
   "cell_type": "code",
   "execution_count": 3,
   "metadata": {},
   "outputs": [
    {
     "name": "stdout",
     "output_type": "stream",
     "text": [
      "Data written to /home/tourist/diy/LearnPy/data/data.json\n"
     ]
    }
   ],
   "source": [
    "import json\n",
    "\n",
    "# Define the data\n",
    "data = {\n",
    "    'name': 'ACME',\n",
    "    'shares': 100,\n",
    "    'price': 542.23\n",
    "}\n",
    "\n",
    "# Define the file path\n",
    "file_path = os.path.join(directory, 'data.json')\n",
    "\n",
    "# Write JSON data to a file\n",
    "with open(file_path, 'w') as f:\n",
    "    json.dump(data, f)\n",
    "\n",
    "print(f\"Data written to {file_path}\")"
   ]
  },
  {
   "cell_type": "code",
   "execution_count": 4,
   "metadata": {},
   "outputs": [
    {
     "name": "stdout",
     "output_type": "stream",
     "text": [
      "Data read from file:\n",
      "{'name': 'ACME', 'shares': 100, 'price': 542.23}\n"
     ]
    }
   ],
   "source": [
    "# Read JSON data from a file\n",
    "with open(file_path, 'r') as f:\n",
    "    loaded_data = json.load(f)\n",
    "\n",
    "print(\"Data read from file:\")\n",
    "print(loaded_data)"
   ]
  },
  {
   "cell_type": "code",
   "execution_count": 5,
   "metadata": {},
   "outputs": [
    {
     "name": "stdout",
     "output_type": "stream",
     "text": [
      "JSON string:\n",
      "{\"name\": \"ACME\", \"shares\": 100, \"price\": 542.23}\n",
      "Python object:\n",
      "{'name': 'ACME', 'shares': 100, 'price': 542.23}\n"
     ]
    }
   ],
   "source": [
    "# Convert Python object to JSON string\n",
    "json_str = json.dumps(data)\n",
    "print(\"JSON string:\")\n",
    "print(json_str)\n",
    "\n",
    "# Convert JSON string back to Python object\n",
    "python_obj = json.loads(json_str)\n",
    "print(\"Python object:\")\n",
    "print(python_obj)"
   ]
  },
  {
   "cell_type": "code",
   "execution_count": 6,
   "metadata": {},
   "outputs": [
    {
     "name": "stdout",
     "output_type": "stream",
     "text": [
      "Pretty-printed JSON:\n",
      "{\n",
      "    \"name\": \"ACME\",\n",
      "    \"price\": 542.23,\n",
      "    \"shares\": 100\n",
      "}\n"
     ]
    }
   ],
   "source": [
    "# Pretty-print JSON data\n",
    "pretty_json = json.dumps(data, indent=4, sort_keys=True)\n",
    "print(\"Pretty-printed JSON:\")\n",
    "print(pretty_json)"
   ]
  },
  {
   "cell_type": "code",
   "execution_count": 7,
   "metadata": {},
   "outputs": [
    {
     "name": "stdout",
     "output_type": "stream",
     "text": [
      "Serialized object:\n",
      "{\"__classname__\": \"Point\", \"x\": 2, \"y\": 3}\n",
      "Deserialized object attributes:\n",
      "x: 2, y: 3\n"
     ]
    }
   ],
   "source": [
    "class Point:\n",
    "    def __init__(self, x, y):\n",
    "        self.x = x\n",
    "        self.y = y\n",
    "\n",
    "# Custom serialization function\n",
    "def serialize_instance(obj):\n",
    "    d = {'__classname__': type(obj).__name__}\n",
    "    d.update(vars(obj))\n",
    "    return d\n",
    "\n",
    "# Custom deserialization function\n",
    "def unserialize_object(d):\n",
    "    clsname = d.pop('__classname__', None)\n",
    "    if clsname:\n",
    "        cls = globals()[clsname]\n",
    "        obj = cls.__new__(cls)\n",
    "        for key, value in d.items():\n",
    "            setattr(obj, key, value)\n",
    "        return obj\n",
    "    else:\n",
    "        return d\n",
    "\n",
    "# Serialize an instance of Point\n",
    "p = Point(2, 3)\n",
    "serialized = json.dumps(p, default=serialize_instance)\n",
    "print(\"Serialized object:\")\n",
    "print(serialized)\n",
    "\n",
    "# Deserialize back to a Point object\n",
    "deserialized = json.loads(serialized, object_hook=unserialize_object)\n",
    "print(\"Deserialized object attributes:\")\n",
    "print(f\"x: {deserialized.x}, y: {deserialized.y}\")"
   ]
  },
  {
   "cell_type": "code",
   "execution_count": 8,
   "metadata": {},
   "outputs": [
    {
     "name": "stdout",
     "output_type": "stream",
     "text": [
      "{'name': 'ACME', 'price': 542.23, 'shares': 100}\n"
     ]
    }
   ],
   "source": [
    "from pprint import pprint\n",
    "\n",
    "# Pretty-print JSON data\n",
    "pprint(loaded_data)"
   ]
  },
  {
   "cell_type": "code",
   "execution_count": 9,
   "metadata": {},
   "outputs": [
    {
     "name": "stdout",
     "output_type": "stream",
     "text": [
      "Data with preserved key order:\n",
      "OrderedDict([('name', 'ACME'), ('shares', 100), ('price', 542.23)])\n"
     ]
    }
   ],
   "source": [
    "from collections import OrderedDict\n",
    "\n",
    "# Load JSON data while preserving key order\n",
    "with open(file_path, 'r') as f:\n",
    "    ordered_data = json.load(f, object_pairs_hook=OrderedDict)\n",
    "\n",
    "print(\"Data with preserved key order:\")\n",
    "print(ordered_data)"
   ]
  }
 ],
 "metadata": {
  "kernelspec": {
   "display_name": "py-env",
   "language": "python",
   "name": "python3"
  },
  "language_info": {
   "codemirror_mode": {
    "name": "ipython",
    "version": 3
   },
   "file_extension": ".py",
   "mimetype": "text/x-python",
   "name": "python",
   "nbconvert_exporter": "python",
   "pygments_lexer": "ipython3",
   "version": "3.11.11"
  }
 },
 "nbformat": 4,
 "nbformat_minor": 2
}
