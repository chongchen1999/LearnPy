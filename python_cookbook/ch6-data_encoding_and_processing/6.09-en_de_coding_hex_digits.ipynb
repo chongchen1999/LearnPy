{
 "cells": [
  {
   "cell_type": "code",
   "execution_count": 1,
   "metadata": {},
   "outputs": [
    {
     "name": "stdout",
     "output_type": "stream",
     "text": [
      "b'68656c6c6f'\n"
     ]
    }
   ],
   "source": [
    "import binascii\n",
    "\n",
    "# Initial byte string\n",
    "s = b'hello'\n",
    "\n",
    "# Encode as hex\n",
    "h = binascii.b2a_hex(s)\n",
    "print(h)  # Output: b'68656c6c6f'"
   ]
  },
  {
   "cell_type": "code",
   "execution_count": 2,
   "metadata": {},
   "outputs": [
    {
     "name": "stdout",
     "output_type": "stream",
     "text": [
      "b'hello'\n"
     ]
    }
   ],
   "source": [
    "# Decode back to bytes\n",
    "decoded_s = binascii.a2b_hex(h)\n",
    "print(decoded_s)  # Output: b'hello'"
   ]
  },
  {
   "cell_type": "code",
   "execution_count": 3,
   "metadata": {},
   "outputs": [
    {
     "name": "stdout",
     "output_type": "stream",
     "text": [
      "b'68656C6C6F'\n"
     ]
    }
   ],
   "source": [
    "import base64\n",
    "\n",
    "# Initial byte string\n",
    "s = b'hello'\n",
    "\n",
    "# Encode as hex\n",
    "h = base64.b16encode(s)\n",
    "print(h)  # Output: b'68656C6C6F'"
   ]
  },
  {
   "cell_type": "code",
   "execution_count": 4,
   "metadata": {},
   "outputs": [
    {
     "name": "stdout",
     "output_type": "stream",
     "text": [
      "b'hello'\n"
     ]
    }
   ],
   "source": [
    "# Decode back to bytes\n",
    "decoded_s = base64.b16decode(h)\n",
    "print(decoded_s)  # Output: b'hello'"
   ]
  },
  {
   "cell_type": "code",
   "execution_count": 5,
   "metadata": {},
   "outputs": [
    {
     "name": "stdout",
     "output_type": "stream",
     "text": [
      "b'68656C6C6F'\n",
      "68656C6C6F\n"
     ]
    }
   ],
   "source": [
    "h = base64.b16encode(s)\n",
    "print(h)  # Output: b'68656C6C6F'\n",
    "print(h.decode('ascii'))  # Output: 68656C6C6F"
   ]
  },
  {
   "cell_type": "code",
   "execution_count": 6,
   "metadata": {},
   "outputs": [
    {
     "name": "stdout",
     "output_type": "stream",
     "text": [
      "b'68656c6c6f'\n",
      "hello\n"
     ]
    }
   ],
   "source": [
    "# Encoding a Unicode string\n",
    "s = 'hello'.encode('utf-8')  # Convert to byte string\n",
    "h = binascii.b2a_hex(s)\n",
    "print(h)  # Output: b'68656c6c6f'\n",
    "\n",
    "# Decoding back to Unicode\n",
    "decoded_s = binascii.a2b_hex(h).decode('utf-8')\n",
    "print(decoded_s)  # Output: hello"
   ]
  }
 ],
 "metadata": {
  "kernelspec": {
   "display_name": "py-env",
   "language": "python",
   "name": "python3"
  },
  "language_info": {
   "codemirror_mode": {
    "name": "ipython",
    "version": 3
   },
   "file_extension": ".py",
   "mimetype": "text/x-python",
   "name": "python",
   "nbconvert_exporter": "python",
   "pygments_lexer": "ipython3",
   "version": "3.11.11"
  }
 },
 "nbformat": 4,
 "nbformat_minor": 2
}
