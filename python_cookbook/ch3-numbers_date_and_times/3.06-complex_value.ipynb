{
 "cells": [
  {
   "cell_type": "code",
   "execution_count": 1,
   "metadata": {},
   "outputs": [],
   "source": [
    "a = complex(2, 4)  # Using the complex function\n",
    "b = 3 - 5j         # Directly specifying with 'j'"
   ]
  },
  {
   "cell_type": "code",
   "execution_count": 2,
   "metadata": {},
   "outputs": [
    {
     "name": "stdout",
     "output_type": "stream",
     "text": [
      "2.0\n",
      "4.0\n",
      "(2-4j)\n"
     ]
    }
   ],
   "source": [
    "print(a.real)          # Output: 2.0\n",
    "print(a.imag)          # Output: 4.0\n",
    "print(a.conjugate())   # Output: (2-4j)"
   ]
  },
  {
   "cell_type": "code",
   "execution_count": 3,
   "metadata": {},
   "outputs": [
    {
     "name": "stdout",
     "output_type": "stream",
     "text": [
      "(5-1j)\n",
      "(26+2j)\n",
      "(-0.4117647058823529+0.6470588235294118j)\n",
      "4.47213595499958\n"
     ]
    }
   ],
   "source": [
    "print(a + b)  # Output: (5-1j)\n",
    "print(a * b)  # Output: (26+2j)\n",
    "print(a / b)  # Output: (-0.4117647058823529+0.6470588235294118j)\n",
    "print(abs(a)) # Output: 4.47213595499958"
   ]
  },
  {
   "cell_type": "code",
   "execution_count": 4,
   "metadata": {},
   "outputs": [
    {
     "name": "stdout",
     "output_type": "stream",
     "text": [
      "(24.83130584894638-11.356612711218173j)\n",
      "(-11.36423470640106-24.814651485634183j)\n",
      "(-4.829809383269385-5.5920560936409816j)\n"
     ]
    }
   ],
   "source": [
    "import cmath\n",
    "\n",
    "print(cmath.sin(a))  # Output: (24.83130584894638-11.356612711218174j)\n",
    "print(cmath.cos(a))  # Output: (-11.36423470640106-24.814651485634187j)\n",
    "print(cmath.exp(a))  # Output: (-4.829809383269385-5.5920560936409816j)"
   ]
  },
  {
   "cell_type": "code",
   "execution_count": 5,
   "metadata": {},
   "outputs": [
    {
     "name": "stdout",
     "output_type": "stream",
     "text": [
      "[2.+3.j 4.+5.j 6.-7.j 8.+9.j]\n",
      "[ 4.+3.j  6.+5.j  8.-7.j 10.+9.j]\n",
      "[   9.15449915  -4.16890696j  -56.16227422 -48.50245524j\n",
      " -153.20827755-526.47684926j 4008.42651446-589.49948373j]\n"
     ]
    }
   ],
   "source": [
    "import numpy as np\n",
    "\n",
    "a = np.array([2+3j, 4+5j, 6-7j, 8+9j])\n",
    "print(a)            # Output: array([ 2.+3.j, 4.+5.j, 6.-7.j, 8.+9.j])\n",
    "print(a + 2)        # Output: array([ 4.+3.j, 6.+5.j, 8.-7.j, 10.+9.j])\n",
    "print(np.sin(a))    # Output: array([ 9.15449915 -4.16890696j, -56.16227422 -48.50245524j, -153.20827755-526.47684926j, 4008.42651446-589.49948373j])"
   ]
  },
  {
   "cell_type": "code",
   "execution_count": null,
   "metadata": {},
   "outputs": [],
   "source": [
    "# import math\n",
    "# math.sqrt(-1)  # Raises ValueError: math domain error"
   ]
  },
  {
   "cell_type": "code",
   "execution_count": 7,
   "metadata": {},
   "outputs": [
    {
     "name": "stdout",
     "output_type": "stream",
     "text": [
      "1j\n"
     ]
    }
   ],
   "source": [
    "import cmath\n",
    "print(cmath.sqrt(-1))  # Output: 1j"
   ]
  }
 ],
 "metadata": {
  "kernelspec": {
   "display_name": "py-env",
   "language": "python",
   "name": "python3"
  },
  "language_info": {
   "codemirror_mode": {
    "name": "ipython",
    "version": 3
   },
   "file_extension": ".py",
   "mimetype": "text/x-python",
   "name": "python",
   "nbconvert_exporter": "python",
   "pygments_lexer": "ipython3",
   "version": "3.11.11"
  }
 },
 "nbformat": 4,
 "nbformat_minor": 2
}
