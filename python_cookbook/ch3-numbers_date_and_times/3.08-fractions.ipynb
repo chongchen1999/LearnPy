{
 "cells": [
  {
   "cell_type": "code",
   "execution_count": 1,
   "metadata": {},
   "outputs": [
    {
     "name": "stdout",
     "output_type": "stream",
     "text": [
      "Sum: 27/16\n",
      "Difference: 13/16\n",
      "Product: 35/64\n",
      "Quotient: 20/7\n"
     ]
    }
   ],
   "source": [
    "from fractions import Fraction\n",
    "\n",
    "# Creating fractions\n",
    "a = Fraction(5, 4)  # 5/4\n",
    "b = Fraction(7, 16) # 7/16\n",
    "\n",
    "# Addition\n",
    "sum_result = a + b\n",
    "print(f\"Sum: {sum_result}\")  # Output: Sum: 27/16\n",
    "\n",
    "# Subtraction\n",
    "diff_result = a - b\n",
    "print(f\"Difference: {diff_result}\")  # Output: Difference: 13/16\n",
    "\n",
    "# Multiplication\n",
    "prod_result = a * b\n",
    "print(f\"Product: {prod_result}\")  # Output: Product: 35/64\n",
    "\n",
    "# Division\n",
    "quot_result = a / b\n",
    "print(f\"Quotient: {quot_result}\")  # Output: Quotient: 20/7"
   ]
  },
  {
   "cell_type": "code",
   "execution_count": 2,
   "metadata": {},
   "outputs": [
    {
     "name": "stdout",
     "output_type": "stream",
     "text": [
      "Numerator: 35\n",
      "Denominator: 64\n"
     ]
    }
   ],
   "source": [
    "c = a * b\n",
    "print(f\"Numerator: {c.numerator}\")  # Output: Numerator: 35\n",
    "print(f\"Denominator: {c.denominator}\")  # Output: Denominator: 64"
   ]
  },
  {
   "cell_type": "code",
   "execution_count": 3,
   "metadata": {},
   "outputs": [
    {
     "name": "stdout",
     "output_type": "stream",
     "text": [
      "Float value: 0.546875\n"
     ]
    }
   ],
   "source": [
    "float_value = float(c)\n",
    "print(f\"Float value: {float_value}\")  # Output: Float value: 0.546875"
   ]
  },
  {
   "cell_type": "code",
   "execution_count": 4,
   "metadata": {},
   "outputs": [
    {
     "name": "stdout",
     "output_type": "stream",
     "text": [
      "Approximated fraction: 4/7\n"
     ]
    }
   ],
   "source": [
    "approx_fraction = c.limit_denominator(8)\n",
    "print(f\"Approximated fraction: {approx_fraction}\")  # Output: Approximated fraction: 4/7"
   ]
  },
  {
   "cell_type": "code",
   "execution_count": 5,
   "metadata": {},
   "outputs": [
    {
     "name": "stdout",
     "output_type": "stream",
     "text": [
      "Fraction from float: 15/4\n"
     ]
    }
   ],
   "source": [
    "x = 3.75\n",
    "y = Fraction(*x.as_integer_ratio())\n",
    "print(f\"Fraction from float: {y}\")  # Output: Fraction from float: 15/4"
   ]
  },
  {
   "cell_type": "code",
   "execution_count": 6,
   "metadata": {},
   "outputs": [
    {
     "name": "stdout",
     "output_type": "stream",
     "text": [
      "Total length: 7/8 inches\n"
     ]
    }
   ],
   "source": [
    "piece1 = Fraction('3/4')  # 3/4 inch\n",
    "piece2 = Fraction('1/8')  # 1/8 inch\n",
    "\n",
    "total_length = piece1 + piece2\n",
    "print(f\"Total length: {total_length} inches\")  # Output: Total length: 7/8 inches"
   ]
  }
 ],
 "metadata": {
  "kernelspec": {
   "display_name": "py-env",
   "language": "python",
   "name": "python3"
  },
  "language_info": {
   "codemirror_mode": {
    "name": "ipython",
    "version": 3
   },
   "file_extension": ".py",
   "mimetype": "text/x-python",
   "name": "python",
   "nbconvert_exporter": "python",
   "pygments_lexer": "ipython3",
   "version": "3.11.11"
  }
 },
 "nbformat": 4,
 "nbformat_minor": 2
}
