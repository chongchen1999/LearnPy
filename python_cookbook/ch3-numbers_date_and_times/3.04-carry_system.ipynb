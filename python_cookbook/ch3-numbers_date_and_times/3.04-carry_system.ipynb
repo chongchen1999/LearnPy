{
 "cells": [
  {
   "cell_type": "code",
   "execution_count": 1,
   "metadata": {},
   "outputs": [
    {
     "name": "stdout",
     "output_type": "stream",
     "text": [
      "0b10011010010\n",
      "0o2322\n",
      "0x4d2\n"
     ]
    }
   ],
   "source": [
    "x = 1234\n",
    "print(bin(x))  # '0b10011010010'\n",
    "print(oct(x))  # '0o2322'\n",
    "print(hex(x))  # '0x4d2'"
   ]
  },
  {
   "cell_type": "code",
   "execution_count": 2,
   "metadata": {},
   "outputs": [
    {
     "name": "stdout",
     "output_type": "stream",
     "text": [
      "10011010010\n",
      "2322\n",
      "4d2\n"
     ]
    }
   ],
   "source": [
    "print(format(x, 'b'))  # '10011010010'\n",
    "print(format(x, 'o'))  # '2322'\n",
    "print(format(x, 'x'))  # '4d2'"
   ]
  },
  {
   "cell_type": "code",
   "execution_count": 3,
   "metadata": {},
   "outputs": [
    {
     "name": "stdout",
     "output_type": "stream",
     "text": [
      "-10011010010\n",
      "-4d2\n"
     ]
    }
   ],
   "source": [
    "x = -1234\n",
    "print(format(x, 'b'))  # '-10011010010'\n",
    "print(format(x, 'x'))  # '-4d2'"
   ]
  },
  {
   "cell_type": "code",
   "execution_count": 4,
   "metadata": {},
   "outputs": [
    {
     "name": "stdout",
     "output_type": "stream",
     "text": [
      "11111111111111111111101100101110\n",
      "fffffb2e\n"
     ]
    }
   ],
   "source": [
    "print(format(2**32 + x, 'b'))  # '11111111111111111111101100101110'\n",
    "print(format(2**32 + x, 'x'))  # 'fffffb2e'"
   ]
  },
  {
   "cell_type": "code",
   "execution_count": 5,
   "metadata": {},
   "outputs": [
    {
     "name": "stdout",
     "output_type": "stream",
     "text": [
      "1234\n",
      "1234\n"
     ]
    }
   ],
   "source": [
    "print(int('4d2', 16))  # 1234\n",
    "print(int('10011010010', 2))  # 1234"
   ]
  },
  {
   "cell_type": "code",
   "execution_count": 7,
   "metadata": {},
   "outputs": [],
   "source": [
    "import os\n",
    "os.chmod('script.py', 0o755)  # Correct\n",
    "# os.chmod('script.py', 0755)  # SyntaxError"
   ]
  }
 ],
 "metadata": {
  "kernelspec": {
   "display_name": "py-env",
   "language": "python",
   "name": "python3"
  },
  "language_info": {
   "codemirror_mode": {
    "name": "ipython",
    "version": 3
   },
   "file_extension": ".py",
   "mimetype": "text/x-python",
   "name": "python",
   "nbconvert_exporter": "python",
   "pygments_lexer": "ipython3",
   "version": "3.11.11"
  }
 },
 "nbformat": 4,
 "nbformat_minor": 2
}
