{
 "cells": [
  {
   "cell_type": "code",
   "execution_count": 1,
   "metadata": {},
   "outputs": [
    {
     "name": "stdout",
     "output_type": "stream",
     "text": [
      "inf\n",
      "-inf\n",
      "nan\n"
     ]
    }
   ],
   "source": [
    "# Creating infinity and NaN\n",
    "a = float('inf')  # Positive infinity\n",
    "b = float('-inf') # Negative infinity\n",
    "c = float('nan')  # NaN (Not a Number)\n",
    "\n",
    "print(a)  # Output: inf\n",
    "print(b)  # Output: -inf\n",
    "print(c)  # Output: nan"
   ]
  },
  {
   "cell_type": "code",
   "execution_count": 2,
   "metadata": {},
   "outputs": [
    {
     "name": "stdout",
     "output_type": "stream",
     "text": [
      "True\n",
      "True\n",
      "True\n"
     ]
    }
   ],
   "source": [
    "import math\n",
    "\n",
    "# Testing for infinity and NaN\n",
    "print(math.isinf(a))  # Output: True\n",
    "print(math.isinf(b))  # Output: True\n",
    "print(math.isnan(c))  # Output: True"
   ]
  },
  {
   "cell_type": "code",
   "execution_count": 3,
   "metadata": {},
   "outputs": [
    {
     "name": "stdout",
     "output_type": "stream",
     "text": [
      "inf\n",
      "inf\n",
      "0.0\n"
     ]
    }
   ],
   "source": [
    "a = float('inf')\n",
    "print(a + 45)  # Output: inf\n",
    "print(a * 10)  # Output: inf\n",
    "print(10 / a)  # Output: 0.0"
   ]
  },
  {
   "cell_type": "code",
   "execution_count": 4,
   "metadata": {},
   "outputs": [
    {
     "name": "stdout",
     "output_type": "stream",
     "text": [
      "nan\n",
      "nan\n"
     ]
    }
   ],
   "source": [
    "print(a / a)  # Output: nan\n",
    "b = float('-inf')\n",
    "print(a + b)  # Output: nan"
   ]
  },
  {
   "cell_type": "code",
   "execution_count": 5,
   "metadata": {},
   "outputs": [
    {
     "name": "stdout",
     "output_type": "stream",
     "text": [
      "nan\n",
      "nan\n",
      "nan\n",
      "nan\n"
     ]
    }
   ],
   "source": [
    "c = float('nan')\n",
    "print(c + 23)  # Output: nan\n",
    "print(c / 2)   # Output: nan\n",
    "print(c * 2)   # Output: nan\n",
    "print(math.sqrt(c))  # Output: nan"
   ]
  },
  {
   "cell_type": "code",
   "execution_count": 6,
   "metadata": {},
   "outputs": [
    {
     "name": "stdout",
     "output_type": "stream",
     "text": [
      "False\n",
      "False\n"
     ]
    }
   ],
   "source": [
    "c = float('nan')\n",
    "d = float('nan')\n",
    "print(c == d)  # Output: False\n",
    "print(c is d)  # Output: False"
   ]
  },
  {
   "cell_type": "code",
   "execution_count": 7,
   "metadata": {},
   "outputs": [
    {
     "name": "stdout",
     "output_type": "stream",
     "text": [
      "True\n"
     ]
    }
   ],
   "source": [
    "print(math.isnan(c))  # Output: True"
   ]
  }
 ],
 "metadata": {
  "kernelspec": {
   "display_name": "py-env",
   "language": "python",
   "name": "python3"
  },
  "language_info": {
   "codemirror_mode": {
    "name": "ipython",
    "version": 3
   },
   "file_extension": ".py",
   "mimetype": "text/x-python",
   "name": "python",
   "nbconvert_exporter": "python",
   "pygments_lexer": "ipython3",
   "version": "3.11.11"
  }
 },
 "nbformat": 4,
 "nbformat_minor": 2
}
