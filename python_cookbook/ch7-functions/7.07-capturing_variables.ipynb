{
 "cells": [
  {
   "cell_type": "code",
   "execution_count": 1,
   "metadata": {},
   "outputs": [
    {
     "name": "stdout",
     "output_type": "stream",
     "text": [
      "30\n",
      "30\n"
     ]
    }
   ],
   "source": [
    "x = 10\n",
    "a = lambda y: x + y  # x is a free variable\n",
    "x = 20\n",
    "b = lambda y: x + y  # x is still a free variable\n",
    "\n",
    "print(a(10))  # Output: 30 (uses the current value of x, which is 20)\n",
    "print(b(10))  # Output: 30 (uses the current value of x, which is 20)"
   ]
  },
  {
   "cell_type": "code",
   "execution_count": 2,
   "metadata": {},
   "outputs": [
    {
     "name": "stdout",
     "output_type": "stream",
     "text": [
      "20\n",
      "30\n"
     ]
    }
   ],
   "source": [
    "x = 10\n",
    "a = lambda y, x=x: x + y  # x is captured at definition time\n",
    "x = 20\n",
    "b = lambda y, x=x: x + y  # x is captured at definition time\n",
    "\n",
    "print(a(10))  # Output: 20 (uses the value of x at the time of definition, which is 10)\n",
    "print(b(10))  # Output: 30 (uses the value of x at the time of definition, which is 20)"
   ]
  },
  {
   "cell_type": "code",
   "execution_count": 3,
   "metadata": {},
   "outputs": [
    {
     "name": "stdout",
     "output_type": "stream",
     "text": [
      "4\n",
      "4\n",
      "4\n",
      "4\n",
      "4\n",
      "0\n",
      "1\n",
      "2\n",
      "3\n",
      "4\n"
     ]
    }
   ],
   "source": [
    "# Incorrect way: All lambdas use the last value of n\n",
    "funcs = [lambda x: x + n for n in range(5)]\n",
    "for f in funcs:\n",
    "    print(f(0))  # Output: 4 4 4 4 4\n",
    "\n",
    "# Correct way: Each lambda captures the current value of n\n",
    "funcs = [lambda x, n=n: x + n for n in range(5)]\n",
    "for f in funcs:\n",
    "    print(f(0))  # Output: 0 1 2 3 4"
   ]
  }
 ],
 "metadata": {
  "kernelspec": {
   "display_name": "py-env",
   "language": "python",
   "name": "python3"
  },
  "language_info": {
   "codemirror_mode": {
    "name": "ipython",
    "version": 3
   },
   "file_extension": ".py",
   "mimetype": "text/x-python",
   "name": "python",
   "nbconvert_exporter": "python",
   "pygments_lexer": "ipython3",
   "version": "3.11.11"
  }
 },
 "nbformat": 4,
 "nbformat_minor": 2
}
