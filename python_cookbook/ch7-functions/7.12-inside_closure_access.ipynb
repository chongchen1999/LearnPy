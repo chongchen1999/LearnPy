{
 "cells": [
  {
   "cell_type": "code",
   "execution_count": 7,
   "metadata": {},
   "outputs": [
    {
     "name": "stdout",
     "output_type": "stream",
     "text": [
      "n= 0\n",
      "n= 10\n",
      "10\n"
     ]
    }
   ],
   "source": [
    "def sample():\n",
    "    n = 0\n",
    "    def func():\n",
    "        print('n=', n)\n",
    "\n",
    "    def set_n(value):\n",
    "        nonlocal n\n",
    "        n = value\n",
    "\n",
    "    func.n_getter = lambda: n\n",
    "    func.n_setter = set_n\n",
    "\n",
    "    return func\n",
    "\n",
    "f = sample()\n",
    "f()          # Output: n= 0\n",
    "f.n_setter(10)\n",
    "f()          # Output: n= 10\n",
    "print(f.n_getter())  # Output: 10"
   ]
  },
  {
   "cell_type": "code",
   "execution_count": 8,
   "metadata": {},
   "outputs": [
    {
     "name": "stdout",
     "output_type": "stream",
     "text": [
      "2\n",
      "20\n",
      "10\n"
     ]
    }
   ],
   "source": [
    "import sys\n",
    "\n",
    "class ClosureInstance:\n",
    "    def __init__(self, locals=None):\n",
    "        if locals is None:\n",
    "            locals = sys._getframe(1).f_locals\n",
    "        self.__dict__.update((key, value) for key, value in locals.items() if callable(value))\n",
    "    def __len__(self):\n",
    "        return self.__dict__['__len__']()\n",
    "\n",
    "def Stack():\n",
    "    items = []\n",
    "    def push(item):\n",
    "        items.append(item)\n",
    "    def pop():\n",
    "        return items.pop()\n",
    "    def __len__():\n",
    "        return len(items)\n",
    "    return ClosureInstance()\n",
    "\n",
    "s = Stack()\n",
    "s.push(10)\n",
    "s.push(20)\n",
    "print(len(s))  # Output: 2\n",
    "print(s.pop()) # Output: 20\n",
    "print(s.pop()) # Output: 10"
   ]
  },
  {
   "cell_type": "code",
   "execution_count": 10,
   "metadata": {},
   "outputs": [
    {
     "name": "stdout",
     "output_type": "stream",
     "text": [
      "0.20181966699965415\n",
      "0.14277623599991784\n"
     ]
    }
   ],
   "source": [
    "from timeit import timeit\n",
    "\n",
    "s = Stack()\n",
    "print(timeit('s.push(1); s.pop()', 'from __main__ import s'))  # Faster\n",
    "\n",
    "class Stack2:\n",
    "    def __init__(self):\n",
    "        self.items = []\n",
    "    def push(self, item):\n",
    "        self.items.append(item)\n",
    "    def pop(self):\n",
    "        return self.items.pop()\n",
    "    def __len__(self):\n",
    "        return len(self.items)\n",
    "\n",
    "s = Stack2()\n",
    "print(timeit('s.push(1); s.pop()', 'from __main__ import s'))  # Slower"
   ]
  }
 ],
 "metadata": {
  "kernelspec": {
   "display_name": "py-env",
   "language": "python",
   "name": "python3"
  },
  "language_info": {
   "codemirror_mode": {
    "name": "ipython",
    "version": 3
   },
   "file_extension": ".py",
   "mimetype": "text/x-python",
   "name": "python",
   "nbconvert_exporter": "python",
   "pygments_lexer": "ipython3",
   "version": "3.11.11"
  }
 },
 "nbformat": 4,
 "nbformat_minor": 2
}
