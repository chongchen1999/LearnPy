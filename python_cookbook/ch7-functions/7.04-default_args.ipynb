{
 "cells": [
  {
   "cell_type": "code",
   "execution_count": 1,
   "metadata": {},
   "outputs": [
    {
     "name": "stdout",
     "output_type": "stream",
     "text": [
      "1 42\n",
      "1 2\n"
     ]
    }
   ],
   "source": [
    "def spam(a, b=42):\n",
    "    print(a, b)\n",
    "\n",
    "spam(1)      # Output: 1 42\n",
    "spam(1, 2)   # Output: 1 2"
   ]
  },
  {
   "cell_type": "code",
   "execution_count": 2,
   "metadata": {},
   "outputs": [
    {
     "name": "stdout",
     "output_type": "stream",
     "text": [
      "[]\n",
      "[99, 'Yow!']\n",
      "[]\n"
     ]
    },
    {
     "data": {
      "text/plain": [
       "[]"
      ]
     },
     "execution_count": 2,
     "metadata": {},
     "output_type": "execute_result"
    }
   ],
   "source": [
    "def spam(a, b=None):\n",
    "    if b is None:\n",
    "        b = []\n",
    "    print(b)\n",
    "    return b\n",
    "\n",
    "x = spam(1)  # Output: []\n",
    "x.append(99)\n",
    "x.append('Yow!')\n",
    "print(x)     # Output: [99, 'Yow!']\n",
    "\n",
    "spam(1)      # Output: [] (The default list is not modified)"
   ]
  },
  {
   "cell_type": "code",
   "execution_count": 3,
   "metadata": {},
   "outputs": [
    {
     "name": "stdout",
     "output_type": "stream",
     "text": [
      "No b value supplied\n",
      "b value supplied: 2\n",
      "b value supplied: None\n"
     ]
    }
   ],
   "source": [
    "_no_value = object()\n",
    "\n",
    "def spam(a, b=_no_value):\n",
    "    if b is _no_value:\n",
    "        print('No b value supplied')\n",
    "    else:\n",
    "        print('b value supplied:', b)\n",
    "\n",
    "spam(1)          # Output: No b value supplied\n",
    "spam(1, 2)       # Output: b value supplied: 2\n",
    "spam(1, None)    # Output: b value supplied: None"
   ]
  },
  {
   "cell_type": "code",
   "execution_count": 4,
   "metadata": {},
   "outputs": [
    {
     "name": "stdout",
     "output_type": "stream",
     "text": [
      "1 42\n",
      "1 42\n"
     ]
    }
   ],
   "source": [
    "x = 42\n",
    "def spam(a, b=x):\n",
    "    print(a, b)\n",
    "\n",
    "spam(1)  # Output: 1 42\n",
    "x = 23\n",
    "spam(1)  # Output: 1 42 (x change has no effect)"
   ]
  },
  {
   "cell_type": "code",
   "execution_count": 5,
   "metadata": {},
   "outputs": [
    {
     "name": "stdout",
     "output_type": "stream",
     "text": [
      "[]\n",
      "[]\n",
      "0\n"
     ]
    }
   ],
   "source": [
    "def spam(a, b=None):\n",
    "    if b is None:  # Correct way to check for None\n",
    "        b = []\n",
    "    print(b)\n",
    "\n",
    "spam(1)          # Output: []\n",
    "spam(1, [])      # Output: [] (empty list is preserved)\n",
    "spam(1, 0)       # Output: [0] (0 is preserved)"
   ]
  },
  {
   "cell_type": "code",
   "execution_count": 6,
   "metadata": {},
   "outputs": [
    {
     "name": "stdout",
     "output_type": "stream",
     "text": [
      "No b value supplied\n",
      "No b value supplied\n"
     ]
    }
   ],
   "source": [
    "_no_value = object()\n",
    "\n",
    "def spam(a, b=_no_value):\n",
    "    if b is _no_value:\n",
    "        print('No b value supplied')\n",
    "    else:\n",
    "        print('b value supplied:', b)\n",
    "\n",
    "spam(1)          # Output: No b value supplied\n",
    "spam(1, _no_value)  # Output: b value supplied: <object object at 0x...>"
   ]
  }
 ],
 "metadata": {
  "kernelspec": {
   "display_name": "py-env",
   "language": "python",
   "name": "python3"
  },
  "language_info": {
   "codemirror_mode": {
    "name": "ipython",
    "version": 3
   },
   "file_extension": ".py",
   "mimetype": "text/x-python",
   "name": "python",
   "nbconvert_exporter": "python",
   "pygments_lexer": "ipython3",
   "version": "3.11.11"
  }
 },
 "nbformat": 4,
 "nbformat_minor": 2
}
