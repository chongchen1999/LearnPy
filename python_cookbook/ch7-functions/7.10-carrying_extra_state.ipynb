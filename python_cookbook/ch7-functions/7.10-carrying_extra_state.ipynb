{
 "cells": [
  {
   "cell_type": "code",
   "execution_count": 1,
   "metadata": {},
   "outputs": [],
   "source": [
    "def apply_async(func, args, *, callback):\n",
    "    \"\"\"\n",
    "    Simulates an asynchronous operation by computing the result of `func(*args)`\n",
    "    and then invoking the `callback` with the result.\n",
    "\n",
    "    :param func: The function to execute asynchronously.\n",
    "    :param args: A tuple of arguments to pass to `func`.\n",
    "    :param callback: A callback function that accepts the result of `func(*args)`.\n",
    "    \"\"\"\n",
    "    # Compute the result synchronously (for simplicity)\n",
    "    result = func(*args)\n",
    "\n",
    "    # Invoke the callback with the result\n",
    "    callback(result)"
   ]
  },
  {
   "cell_type": "code",
   "execution_count": 3,
   "metadata": {},
   "outputs": [
    {
     "name": "stdout",
     "output_type": "stream",
     "text": [
      "[1] Got: 5\n",
      "[2] Got: helloworld\n"
     ]
    }
   ],
   "source": [
    "class ResultHandler:\n",
    "    def __init__(self):\n",
    "        self.sequence = 0\n",
    "\n",
    "    def handler(self, result):\n",
    "        self.sequence += 1\n",
    "        print(f'[{self.sequence}] Got: {result}')\n",
    "\n",
    "# Create an instance of ResultHandler\n",
    "r = ResultHandler()\n",
    "\n",
    "def add(x, y):\n",
    "    return x + y\n",
    "\n",
    "# Use apply_async with the bound method as the callback\n",
    "apply_async(add, (2, 3), callback=r.handler)\n",
    "apply_async(add, ('hello', 'world'), callback=r.handler)"
   ]
  },
  {
   "cell_type": "code",
   "execution_count": 4,
   "metadata": {},
   "outputs": [
    {
     "name": "stdout",
     "output_type": "stream",
     "text": [
      "[1] Got: 5\n",
      "[2] Got: helloworld\n"
     ]
    }
   ],
   "source": [
    "def make_handler():\n",
    "    sequence = 0\n",
    "    def handler(result):\n",
    "        nonlocal sequence\n",
    "        sequence += 1\n",
    "        print(f'[{sequence}] Got: {result}')\n",
    "    return handler\n",
    "\n",
    "# Create a handler using the closure\n",
    "handler = make_handler()\n",
    "\n",
    "# Use apply_async with the closure as the callback\n",
    "apply_async(add, (2, 3), callback=handler)\n",
    "apply_async(add, ('hello', 'world'), callback=handler)"
   ]
  },
  {
   "cell_type": "code",
   "execution_count": 5,
   "metadata": {},
   "outputs": [
    {
     "name": "stdout",
     "output_type": "stream",
     "text": [
      "[1] Got: 5\n",
      "[2] Got: helloworld\n"
     ]
    }
   ],
   "source": [
    "def make_handler():\n",
    "    sequence = 0\n",
    "    while True:\n",
    "        result = yield\n",
    "        sequence += 1\n",
    "        print(f'[{sequence}] Got: {result}')\n",
    "\n",
    "# Create a coroutine handler\n",
    "handler = make_handler()\n",
    "next(handler)  # Advance to the yield\n",
    "\n",
    "# Use apply_async with the coroutine's send method as the callback\n",
    "apply_async(add, (2, 3), callback=handler.send)\n",
    "apply_async(add, ('hello', 'world'), callback=handler.send)"
   ]
  },
  {
   "cell_type": "code",
   "execution_count": 6,
   "metadata": {},
   "outputs": [
    {
     "name": "stdout",
     "output_type": "stream",
     "text": [
      "[1] Got: 5\n",
      "[2] Got: helloworld\n"
     ]
    }
   ],
   "source": [
    "from functools import partial\n",
    "\n",
    "class SequenceNo:\n",
    "    def __init__(self):\n",
    "        self.sequence = 0\n",
    "\n",
    "def handler(result, seq):\n",
    "    seq.sequence += 1\n",
    "    print(f'[{seq.sequence}] Got: {result}')\n",
    "\n",
    "# Create an instance of SequenceNo\n",
    "seq = SequenceNo()\n",
    "\n",
    "# Use apply_async with partial to pass extra state\n",
    "apply_async(add, (2, 3), callback=partial(handler, seq=seq))\n",
    "apply_async(add, ('hello', 'world'), callback=partial(handler, seq=seq))"
   ]
  },
  {
   "cell_type": "code",
   "execution_count": 7,
   "metadata": {},
   "outputs": [
    {
     "name": "stdout",
     "output_type": "stream",
     "text": [
      "[3] Got: 5\n",
      "[4] Got: helloworld\n"
     ]
    }
   ],
   "source": [
    "# Using the same SequenceNo and handler as above\n",
    "apply_async(add, (2, 3), callback=lambda r: handler(r, seq))\n",
    "apply_async(add, ('hello', 'world'), callback=lambda r: handler(r, seq))"
   ]
  }
 ],
 "metadata": {
  "kernelspec": {
   "display_name": "py-env",
   "language": "python",
   "name": "python3"
  },
  "language_info": {
   "codemirror_mode": {
    "name": "ipython",
    "version": 3
   },
   "file_extension": ".py",
   "mimetype": "text/x-python",
   "name": "python",
   "nbconvert_exporter": "python",
   "pygments_lexer": "ipython3",
   "version": "3.11.11"
  }
 },
 "nbformat": 4,
 "nbformat_minor": 2
}
