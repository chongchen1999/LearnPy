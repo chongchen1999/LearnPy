{
 "cells": [
  {
   "cell_type": "code",
   "execution_count": 1,
   "metadata": {},
   "outputs": [
    {
     "name": "stdout",
     "output_type": "stream",
     "text": [
      "1\n",
      "2\n",
      "3\n"
     ]
    }
   ],
   "source": [
    "def myfun():\n",
    "    return 1, 2, 3\n",
    "\n",
    "a, b, c = myfun()\n",
    "\n",
    "print(a)  # Output: 1\n",
    "print(b)  # Output: 2\n",
    "print(c)  # Output: 3"
   ]
  },
  {
   "cell_type": "code",
   "execution_count": 2,
   "metadata": {},
   "outputs": [
    {
     "name": "stdout",
     "output_type": "stream",
     "text": [
      "Mean: 3.0, Variance: 2.0\n"
     ]
    }
   ],
   "source": [
    "def calculate_stats(data):\n",
    "    mean = sum(data) / len(data)\n",
    "    variance = sum((x - mean) ** 2 for x in data) / len(data)\n",
    "    return mean, variance\n",
    "\n",
    "data = [1, 2, 3, 4, 5]\n",
    "mean, var = calculate_stats(data)\n",
    "print(f\"Mean: {mean}, Variance: {var}\")"
   ]
  }
 ],
 "metadata": {
  "kernelspec": {
   "display_name": "py-env",
   "language": "python",
   "name": "python3"
  },
  "language_info": {
   "codemirror_mode": {
    "name": "ipython",
    "version": 3
   },
   "file_extension": ".py",
   "mimetype": "text/x-python",
   "name": "python",
   "nbconvert_exporter": "python",
   "pygments_lexer": "ipython3",
   "version": "3.11.11"
  }
 },
 "nbformat": 4,
 "nbformat_minor": 2
}
