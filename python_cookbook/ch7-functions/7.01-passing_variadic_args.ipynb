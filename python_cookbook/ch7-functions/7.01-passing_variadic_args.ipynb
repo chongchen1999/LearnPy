{
 "cells": [
  {
   "cell_type": "code",
   "execution_count": 1,
   "metadata": {},
   "outputs": [
    {
     "name": "stdout",
     "output_type": "stream",
     "text": [
      "1.5\n",
      "2.5\n"
     ]
    }
   ],
   "source": [
    "def avg(first, *rest):\n",
    "    return (first + sum(rest)) / (1 + len(rest))\n",
    "\n",
    "# Sample use\n",
    "print(avg(1, 2))          # Output: 1.5\n",
    "print(avg(1, 2, 3, 4))    # Output: 2.5"
   ]
  },
  {
   "cell_type": "code",
   "execution_count": 2,
   "metadata": {},
   "outputs": [
    {
     "name": "stdout",
     "output_type": "stream",
     "text": [
      "<item size=\"large\" quantity=\"6\">Albatross</item>\n",
      "<p>&lt;spam&gt;</p>\n"
     ]
    }
   ],
   "source": [
    "import html\n",
    "\n",
    "def make_element(name, value, **attrs):\n",
    "    keyvals = [' %s=\"%s\"' % item for item in attrs.items()]\n",
    "    attr_str = ''.join(keyvals)\n",
    "    element = '<{name}{attrs}>{value}</{name}>'.format(\n",
    "        name=name,\n",
    "        attrs=attr_str,\n",
    "        value=html.escape(value))\n",
    "    return element\n",
    "\n",
    "# Example\n",
    "print(make_element('item', 'Albatross', size='large', quantity=6))\n",
    "# Output: '<item size=\"large\" quantity=\"6\">Albatross</item>'\n",
    "\n",
    "print(make_element('p', '<spam>'))\n",
    "# Output: '<p>&lt;spam&gt;</p>'"
   ]
  },
  {
   "cell_type": "code",
   "execution_count": 3,
   "metadata": {},
   "outputs": [
    {
     "name": "stdout",
     "output_type": "stream",
     "text": [
      "(1, 2, 3)\n",
      "{'name': 'Alice', 'age': 30}\n"
     ]
    }
   ],
   "source": [
    "def anyargs(*args, **kwargs):\n",
    "    print(args)  # A tuple of positional arguments\n",
    "    print(kwargs)  # A dictionary of keyword arguments\n",
    "\n",
    "# Example\n",
    "anyargs(1, 2, 3, name='Alice', age=30)\n",
    "# Output:\n",
    "# (1, 2, 3)\n",
    "# {'name': 'Alice', 'age': 30}"
   ]
  },
  {
   "cell_type": "code",
   "execution_count": 4,
   "metadata": {},
   "outputs": [
    {
     "name": "stdout",
     "output_type": "stream",
     "text": [
      "1 (2, 3) 10\n",
      "1 (2, 3) 10 {'name': 'Alice', 'age': 30}\n"
     ]
    }
   ],
   "source": [
    "def a(x, *args, y):\n",
    "    print(x, args, y)\n",
    "\n",
    "def b(x, *args, y, **kwargs):\n",
    "    print(x, args, y, kwargs)\n",
    "\n",
    "# Example\n",
    "a(1, 2, 3, y=10)\n",
    "# Output: 1 (2, 3) 10\n",
    "\n",
    "b(1, 2, 3, y=10, name='Alice', age=30)\n",
    "# Output: 1 (2, 3) 10 {'name': 'Alice', 'age': 30}"
   ]
  },
  {
   "cell_type": "code",
   "execution_count": 5,
   "metadata": {},
   "outputs": [
    {
     "name": "stdout",
     "output_type": "stream",
     "text": [
      "1 (2, 3) 10\n",
      "1 (2, 3) 10 {'name': 'Alice', 'age': 30}\n"
     ]
    }
   ],
   "source": [
    "def a(x, *args, y):\n",
    "    print(x, args, y)\n",
    "\n",
    "def b(x, *args, y, **kwargs):\n",
    "    print(x, args, y, kwargs)\n",
    "\n",
    "# Example\n",
    "a(1, 2, 3, y=10)\n",
    "# Output: 1 (2, 3) 10\n",
    "\n",
    "b(1, 2, 3, y=10, name='Alice', age=30)\n",
    "# Output: 1 (2, 3) 10 {'name': 'Alice', 'age': 30}"
   ]
  }
 ],
 "metadata": {
  "kernelspec": {
   "display_name": "py-env",
   "language": "python",
   "name": "python3"
  },
  "language_info": {
   "codemirror_mode": {
    "name": "ipython",
    "version": 3
   },
   "file_extension": ".py",
   "mimetype": "text/x-python",
   "name": "python",
   "nbconvert_exporter": "python",
   "pygments_lexer": "ipython3",
   "version": "3.11.11"
  }
 },
 "nbformat": 4,
 "nbformat_minor": 2
}
