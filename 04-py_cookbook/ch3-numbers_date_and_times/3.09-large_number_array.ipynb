{
 "cells": [
  {
   "cell_type": "code",
   "execution_count": 1,
   "metadata": {},
   "outputs": [
    {
     "name": "stdout",
     "output_type": "stream",
     "text": [
      "[2 4 6 8]\n",
      "[11 12 13 14]\n",
      "[ 6  8 10 12]\n",
      "[ 5 12 21 32]\n",
      "[ 8 15 28 47]\n",
      "[1.         1.41421356 1.73205081 2.        ]\n",
      "[ 0.54030231 -0.41614684 -0.9899925  -0.65364362]\n",
      "[[-0.54402111 -0.54402111 -0.54402111 ... -0.54402111 -0.54402111\n",
      "  -0.54402111]\n",
      " [-0.54402111 -0.54402111 -0.54402111 ... -0.54402111 -0.54402111\n",
      "  -0.54402111]\n",
      " [-0.54402111 -0.54402111 -0.54402111 ... -0.54402111 -0.54402111\n",
      "  -0.54402111]\n",
      " ...\n",
      " [-0.54402111 -0.54402111 -0.54402111 ... -0.54402111 -0.54402111\n",
      "  -0.54402111]\n",
      " [-0.54402111 -0.54402111 -0.54402111 ... -0.54402111 -0.54402111\n",
      "  -0.54402111]\n",
      " [-0.54402111 -0.54402111 -0.54402111 ... -0.54402111 -0.54402111\n",
      "  -0.54402111]]\n",
      "[5 6 7 8]\n",
      "[ 2  6 10]\n",
      "[[ 1  2  3  4]\n",
      " [ 5 16 17  8]\n",
      " [ 9 20 21 12]]\n",
      "[[ 1  2  3  4]\n",
      " [ 5 10 10  8]\n",
      " [ 9 10 10 10]]\n"
     ]
    }
   ],
   "source": [
    "import numpy as np\n",
    "\n",
    "# Creating arrays\n",
    "x = np.array([1, 2, 3, 4])\n",
    "y = np.array([5, 6, 7, 8])\n",
    "\n",
    "# Element-wise operations\n",
    "print(x * 2)        # Output: array([2, 4, 6, 8])\n",
    "print(x + 10)       # Output: array([11, 12, 13, 14])\n",
    "print(x + y)        # Output: array([ 6,  8, 10, 12])\n",
    "print(x * y)        # Output: array([ 5, 12, 21, 32])\n",
    "\n",
    "# Applying a function to an array\n",
    "def f(x):\n",
    "    return 3*x**2 - 2*x + 7\n",
    "\n",
    "print(f(x))         # Output: array([ 8, 15, 28, 47])\n",
    "\n",
    "# Universal functions\n",
    "print(np.sqrt(x))   # Output: array([1.        , 1.41421356, 1.73205081, 2.        ])\n",
    "print(np.cos(x))    # Output: array([ 0.54030231, -0.41614684, -0.9899925 , -0.65364362])\n",
    "\n",
    "# Creating a large 2D array\n",
    "grid = np.zeros(shape=(10000, 10000), dtype=float)\n",
    "grid += 10\n",
    "print(np.sin(grid))  # Applies sin function to all elements\n",
    "\n",
    "# Indexing and slicing\n",
    "a = np.array([[1, 2, 3, 4], [5, 6, 7, 8], [9, 10, 11, 12]])\n",
    "print(a[1])          # Output: array([5, 6, 7, 8])\n",
    "print(a[:, 1])       # Output: array([ 2,  6, 10])\n",
    "a[1:3, 1:3] += 10\n",
    "print(a)             # Output: array([[ 1,  2,  3,  4], [ 5, 16, 17,  8], [ 9, 20, 21, 12]])\n",
    "\n",
    "# Conditional assignment\n",
    "print(np.where(a < 10, a, 10))  # Output: array([[ 1,  2,  3,  4], [ 5, 10, 10,  8], [ 9, 10, 10, 10]])"
   ]
  },
  {
   "cell_type": "code",
   "execution_count": null,
   "metadata": {},
   "outputs": [],
   "source": []
  }
 ],
 "metadata": {
  "kernelspec": {
   "display_name": "py-env",
   "language": "python",
   "name": "python3"
  },
  "language_info": {
   "codemirror_mode": {
    "name": "ipython",
    "version": 3
   },
   "file_extension": ".py",
   "mimetype": "text/x-python",
   "name": "python",
   "nbconvert_exporter": "python",
   "pygments_lexer": "ipython3",
   "version": "3.11.11"
  }
 },
 "nbformat": 4,
 "nbformat_minor": 2
}
