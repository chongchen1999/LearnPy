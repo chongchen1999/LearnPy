{
 "cells": [
  {
   "cell_type": "code",
   "execution_count": 1,
   "metadata": {},
   "outputs": [
    {
     "name": "stdout",
     "output_type": "stream",
     "text": [
      "Little-endian: 69120565665751139577663547927094891008\n",
      "Big-endian: 94522842520747284487117727783387188\n"
     ]
    }
   ],
   "source": [
    "data = b'\\x00\\x124V\\x00x\\x90\\xab\\x00\\xcd\\xef\\x01\\x00#\\x004'\n",
    "\n",
    "# Unpacking to an integer\n",
    "integer_little = int.from_bytes(data, 'little')\n",
    "integer_big = int.from_bytes(data, 'big')\n",
    "\n",
    "print(f\"Little-endian: {integer_little}\")\n",
    "print(f\"Big-endian: {integer_big}\")"
   ]
  },
  {
   "cell_type": "code",
   "execution_count": 2,
   "metadata": {},
   "outputs": [
    {
     "name": "stdout",
     "output_type": "stream",
     "text": [
      "Big-endian: b'\\x00\\x124V\\x00x\\x90\\xab\\x00\\xcd\\xef\\x01\\x00#\\x004'\n",
      "Little-endian: b'4\\x00#\\x00\\x01\\xef\\xcd\\x00\\xab\\x90x\\x00V4\\x12\\x00'\n"
     ]
    }
   ],
   "source": [
    "x = 94522842520747284487117727783387188\n",
    "\n",
    "# Packing to a byte string\n",
    "bytes_big = x.to_bytes(16, 'big')\n",
    "bytes_little = x.to_bytes(16, 'little')\n",
    "\n",
    "print(f\"Big-endian: {bytes_big}\")\n",
    "print(f\"Little-endian: {bytes_little}\")"
   ]
  },
  {
   "cell_type": "code",
   "execution_count": 4,
   "metadata": {},
   "outputs": [
    {
     "name": "stdout",
     "output_type": "stream",
     "text": [
      "208\n",
      "Byte string: b'\\x03X\\xf1\\x82iT\\x96\\xac\\xc7c\\x16\\xf3\\xb9\\xcf\\x18\\xee\\xec\\x91\\xd1\\x98\\xa2\\xc8\\xd9R\\xb5\\xd0'\n"
     ]
    }
   ],
   "source": [
    "x = 523 ** 23\n",
    "print(x.bit_length())\n",
    "\n",
    "# Calculate the number of bytes required\n",
    "nbytes, rem = divmod(x.bit_length(), 8)\n",
    "if rem:\n",
    "    nbytes += 1\n",
    "\n",
    "# Packing to a byte string\n",
    "bytes_little = x.to_bytes(nbytes, 'little')\n",
    "\n",
    "print(f\"Byte string: {bytes_little}\")"
   ]
  },
  {
   "cell_type": "code",
   "execution_count": 5,
   "metadata": {},
   "outputs": [
    {
     "name": "stdout",
     "output_type": "stream",
     "text": [
      "Combined integer: 94522842520747284487117727783387188\n"
     ]
    }
   ],
   "source": [
    "import struct\n",
    "\n",
    "data = b'\\x00\\x124V\\x00x\\x90\\xab\\x00\\xcd\\xef\\x01\\x00#\\x004'\n",
    "\n",
    "# Unpacking using struct\n",
    "hi, lo = struct.unpack('>QQ', data)\n",
    "combined = (hi << 64) + lo\n",
    "\n",
    "print(f\"Combined integer: {combined}\")"
   ]
  }
 ],
 "metadata": {
  "kernelspec": {
   "display_name": "py-env",
   "language": "python",
   "name": "python3"
  },
  "language_info": {
   "codemirror_mode": {
    "name": "ipython",
    "version": 3
   },
   "file_extension": ".py",
   "mimetype": "text/x-python",
   "name": "python",
   "nbconvert_exporter": "python",
   "pygments_lexer": "ipython3",
   "version": "3.11.11"
  }
 },
 "nbformat": 4,
 "nbformat_minor": 2
}
