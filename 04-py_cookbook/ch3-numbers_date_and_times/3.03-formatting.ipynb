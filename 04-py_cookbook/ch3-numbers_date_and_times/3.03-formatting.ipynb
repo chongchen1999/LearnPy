{
 "cells": [
  {
   "cell_type": "code",
   "execution_count": 1,
   "metadata": {},
   "outputs": [
    {
     "name": "stdout",
     "output_type": "stream",
     "text": [
      "1234.57\n",
      "    1234.6\n",
      "1234.6    \n",
      "  1234.6  \n"
     ]
    }
   ],
   "source": [
    "x = 1234.56789\n",
    "# Two decimal places of accuracy\n",
    "print(format(x, '0.2f'))  # Output: '1234.57'\n",
    "\n",
    "# Right justified in 10 chars, one-digit accuracy\n",
    "print(format(x, '>10.1f'))  # Output: '   1234.6'\n",
    "\n",
    "# Left justified\n",
    "print(format(x, '<10.1f'))  # Output: '1234.6   '\n",
    "\n",
    "# Centered\n",
    "print(format(x, '^10.1f'))  # Output: ' 1234.6  '"
   ]
  },
  {
   "cell_type": "code",
   "execution_count": 2,
   "metadata": {},
   "outputs": [
    {
     "name": "stdout",
     "output_type": "stream",
     "text": [
      "1,234.56789\n",
      "1,234.6\n"
     ]
    }
   ],
   "source": [
    "# Inclusion of thousands separator\n",
    "print(format(x, ','))  # Output: '1,234.56789'\n",
    "print(format(x, '0,.1f'))  # Output: '1,234.6'"
   ]
  },
  {
   "cell_type": "code",
   "execution_count": 3,
   "metadata": {},
   "outputs": [
    {
     "name": "stdout",
     "output_type": "stream",
     "text": [
      "1.234568e+03\n",
      "1.23E+03\n"
     ]
    }
   ],
   "source": [
    "# Exponential notation\n",
    "print(format(x, 'e'))  # Output: '1.234568e+03'\n",
    "print(format(x, '0.2E'))  # Output: '1.23E+03'"
   ]
  },
  {
   "cell_type": "code",
   "execution_count": 4,
   "metadata": {},
   "outputs": [
    {
     "name": "stdout",
     "output_type": "stream",
     "text": [
      "The value is 1,234.57\n"
     ]
    }
   ],
   "source": [
    "# Using str.format() method\n",
    "print('The value is {:0,.2f}'.format(x))  # Output: 'The value is 1,234.57'"
   ]
  },
  {
   "cell_type": "code",
   "execution_count": 5,
   "metadata": {},
   "outputs": [
    {
     "name": "stdout",
     "output_type": "stream",
     "text": [
      "1234.6\n",
      "-1234.6\n"
     ]
    }
   ],
   "source": [
    "# Rounding\n",
    "print(format(x, '0.1f'))  # Output: '1234.6'\n",
    "print(format(-x, '0.1f'))  # Output: '-1234.6'"
   ]
  },
  {
   "cell_type": "code",
   "execution_count": 6,
   "metadata": {},
   "outputs": [
    {
     "name": "stdout",
     "output_type": "stream",
     "text": [
      "1.234,56789\n"
     ]
    }
   ],
   "source": [
    "# Swapping separators\n",
    "swap_separators = { ord('.'):',', ord(','):'.' }\n",
    "print(format(x, ',').translate(swap_separators))  # Output: '1.234,56789'"
   ]
  }
 ],
 "metadata": {
  "kernelspec": {
   "display_name": "py-env",
   "language": "python",
   "name": "python3"
  },
  "language_info": {
   "codemirror_mode": {
    "name": "ipython",
    "version": 3
   },
   "file_extension": ".py",
   "mimetype": "text/x-python",
   "name": "python",
   "nbconvert_exporter": "python",
   "pygments_lexer": "ipython3",
   "version": "3.11.11"
  }
 },
 "nbformat": 4,
 "nbformat_minor": 2
}
