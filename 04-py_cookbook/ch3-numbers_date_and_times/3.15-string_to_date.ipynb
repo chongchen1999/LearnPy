{
 "cells": [
  {
   "cell_type": "code",
   "execution_count": 1,
   "metadata": {},
   "outputs": [
    {
     "name": "stdout",
     "output_type": "stream",
     "text": [
      "4508 days, 13:41:34.974478\n"
     ]
    }
   ],
   "source": [
    "from datetime import datetime\n",
    "\n",
    "# Example string representing a date\n",
    "text = '2012-09-20'\n",
    "\n",
    "# Convert the string to a datetime object\n",
    "y = datetime.strptime(text, '%Y-%m-%d')\n",
    "\n",
    "# Get the current datetime\n",
    "z = datetime.now()\n",
    "\n",
    "# Calculate the difference between the two datetimes\n",
    "diff = z - y\n",
    "\n",
    "print(diff)  # Output: datetime.timedelta(days, seconds, microseconds)"
   ]
  },
  {
   "cell_type": "code",
   "execution_count": 2,
   "metadata": {},
   "outputs": [
    {
     "name": "stdout",
     "output_type": "stream",
     "text": [
      "Sunday September 23, 2012\n"
     ]
    }
   ],
   "source": [
    "# Example datetime object\n",
    "z = datetime(2012, 9, 23, 21, 37, 4, 177393)\n",
    "\n",
    "# Format the datetime object into a human-readable string\n",
    "nice_z = datetime.strftime(z, '%A %B %d, %Y')\n",
    "print(nice_z)  # Output: 'Sunday September 23, 2012'"
   ]
  },
  {
   "cell_type": "code",
   "execution_count": 3,
   "metadata": {},
   "outputs": [
    {
     "name": "stdout",
     "output_type": "stream",
     "text": [
      "2012-09-20 00:00:00\n"
     ]
    }
   ],
   "source": [
    "from datetime import datetime\n",
    "\n",
    "def parse_ymd(s):\n",
    "    year_s, mon_s, day_s = s.split('-')\n",
    "    return datetime(int(year_s), int(mon_s), int(day_s))\n",
    "\n",
    "# Example usage\n",
    "date_str = '2012-09-20'\n",
    "date_obj = parse_ymd(date_str)\n",
    "print(date_obj)  # Output: datetime.datetime(2012, 9, 20, 0, 0)"
   ]
  }
 ],
 "metadata": {
  "kernelspec": {
   "display_name": "py-env",
   "language": "python",
   "name": "python3"
  },
  "language_info": {
   "codemirror_mode": {
    "name": "ipython",
    "version": 3
   },
   "file_extension": ".py",
   "mimetype": "text/x-python",
   "name": "python",
   "nbconvert_exporter": "python",
   "pygments_lexer": "ipython3",
   "version": "3.11.11"
  }
 },
 "nbformat": 4,
 "nbformat_minor": 2
}
