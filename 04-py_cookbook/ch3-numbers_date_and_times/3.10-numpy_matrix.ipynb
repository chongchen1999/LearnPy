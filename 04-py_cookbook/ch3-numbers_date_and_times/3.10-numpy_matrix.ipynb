{
 "cells": [
  {
   "cell_type": "code",
   "execution_count": 1,
   "metadata": {},
   "outputs": [
    {
     "name": "stdout",
     "output_type": "stream",
     "text": [
      "Matrix m:\n",
      " [[ 1 -2  3]\n",
      " [ 0  4  5]\n",
      " [ 7  8 -9]]\n",
      "Transpose of m:\n",
      " [[ 1  0  7]\n",
      " [-2  4  8]\n",
      " [ 3  5 -9]]\n",
      "Inverse of m:\n",
      " [[ 0.33043478 -0.02608696  0.09565217]\n",
      " [-0.15217391  0.13043478  0.02173913]\n",
      " [ 0.12173913  0.09565217 -0.0173913 ]]\n"
     ]
    }
   ],
   "source": [
    "import numpy as np\n",
    "\n",
    "# Create a matrix\n",
    "m = np.matrix([[1, -2, 3], [0, 4, 5], [7, 8, -9]])\n",
    "print(\"Matrix m:\\n\", m)\n",
    "\n",
    "# Transpose of the matrix\n",
    "print(\"Transpose of m:\\n\", m.T)\n",
    "\n",
    "# Inverse of the matrix\n",
    "print(\"Inverse of m:\\n\", m.I)"
   ]
  },
  {
   "cell_type": "code",
   "execution_count": 2,
   "metadata": {},
   "outputs": [
    {
     "name": "stdout",
     "output_type": "stream",
     "text": [
      "Vector v:\n",
      " [[2]\n",
      " [3]\n",
      " [4]]\n",
      "Result of m * v:\n",
      " [[ 8]\n",
      " [32]\n",
      " [ 2]]\n"
     ]
    }
   ],
   "source": [
    "# Create a vector\n",
    "v = np.matrix([[2], [3], [4]])\n",
    "print(\"Vector v:\\n\", v)\n",
    "\n",
    "# Matrix multiplication\n",
    "result = m * v\n",
    "print(\"Result of m * v:\\n\", result)"
   ]
  },
  {
   "cell_type": "code",
   "execution_count": 3,
   "metadata": {},
   "outputs": [
    {
     "name": "stdout",
     "output_type": "stream",
     "text": [
      "Determinant of m: -229.99999999999983\n",
      "Eigenvalues of m: [-13.11474312   2.75956154   6.35518158]\n"
     ]
    }
   ],
   "source": [
    "# Determinant of the matrix\n",
    "det = np.linalg.det(m)\n",
    "print(\"Determinant of m:\", det)\n",
    "\n",
    "# Eigenvalues of the matrix\n",
    "eigenvalues = np.linalg.eigvals(m)\n",
    "print(\"Eigenvalues of m:\", eigenvalues)"
   ]
  },
  {
   "cell_type": "code",
   "execution_count": 4,
   "metadata": {},
   "outputs": [
    {
     "name": "stdout",
     "output_type": "stream",
     "text": [
      "Solution x:\n",
      " [[0.96521739]\n",
      " [0.17391304]\n",
      " [0.46086957]]\n",
      "Verification (m * x):\n",
      " [[2.]\n",
      " [3.]\n",
      " [4.]]\n"
     ]
    }
   ],
   "source": [
    "# Solve for x in mx = v\n",
    "x = np.linalg.solve(m, v)\n",
    "print(\"Solution x:\\n\", x)\n",
    "\n",
    "# Verify the solution\n",
    "print(\"Verification (m * x):\\n\", m * x)"
   ]
  }
 ],
 "metadata": {
  "kernelspec": {
   "display_name": "py-env",
   "language": "python",
   "name": "python3"
  },
  "language_info": {
   "codemirror_mode": {
    "name": "ipython",
    "version": 3
   },
   "file_extension": ".py",
   "mimetype": "text/x-python",
   "name": "python",
   "nbconvert_exporter": "python",
   "pygments_lexer": "ipython3",
   "version": "3.11.11"
  }
 },
 "nbformat": 4,
 "nbformat_minor": 2
}
