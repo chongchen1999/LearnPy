{
 "cells": [
  {
   "cell_type": "code",
   "execution_count": 9,
   "metadata": {},
   "outputs": [
    {
     "name": "stdout",
     "output_type": "stream",
     "text": [
      "2012-12-21 09:30:00\n"
     ]
    }
   ],
   "source": [
    "from datetime import datetime\n",
    "from pytz import timezone\n",
    "\n",
    "# Create the datetime object for the scheduled time in Chicago\n",
    "d = datetime(2012, 12, 21, 9, 30, 0)\n",
    "print(d)  # Output: 2012-12-21 09:30:00"
   ]
  },
  {
   "cell_type": "code",
   "execution_count": 10,
   "metadata": {},
   "outputs": [
    {
     "name": "stdout",
     "output_type": "stream",
     "text": [
      "2012-12-21 09:30:00-06:00\n"
     ]
    }
   ],
   "source": [
    "# Localize the date for Chicago\n",
    "central = timezone('US/Central')\n",
    "loc_d = central.localize(d)\n",
    "print(loc_d)  # Output: 2012-12-21 09:30:00-06:00"
   ]
  },
  {
   "cell_type": "code",
   "execution_count": 11,
   "metadata": {},
   "outputs": [
    {
     "name": "stdout",
     "output_type": "stream",
     "text": [
      "2012-12-21 21:00:00+05:30\n"
     ]
    }
   ],
   "source": [
    "# Convert to Bangalore time\n",
    "bang_d = loc_d.astimezone(timezone('Asia/Kolkata'))\n",
    "print(bang_d)  # Output: 2012-12-21 21:00:00+05:30"
   ]
  },
  {
   "cell_type": "code",
   "execution_count": 12,
   "metadata": {},
   "outputs": [
    {
     "name": "stdout",
     "output_type": "stream",
     "text": [
      "2013-03-10 01:45:00-06:00\n",
      "2013-03-10 02:15:00-06:00\n",
      "2013-03-10 03:15:00-05:00\n"
     ]
    }
   ],
   "source": [
    "from datetime import timedelta\n",
    "\n",
    "# Example of handling DST transition\n",
    "d = datetime(2013, 3, 10, 1, 45)\n",
    "loc_d = central.localize(d)\n",
    "print(loc_d)  # Output: 2013-03-10 01:45:00-06:00\n",
    "\n",
    "# Adding time without considering DST\n",
    "later = loc_d + timedelta(minutes=30)\n",
    "print(later)  # Output: 2013-03-10 02:15:00-06:00 (WRONG!)\n",
    "\n",
    "# Correcting for DST using normalize()\n",
    "later = central.normalize(loc_d + timedelta(minutes=30))\n",
    "print(later)  # Output: 2013-03-10 03:15:00-05:00"
   ]
  },
  {
   "cell_type": "code",
   "execution_count": 15,
   "metadata": {},
   "outputs": [
    {
     "name": "stdout",
     "output_type": "stream",
     "text": [
      "2013-03-10 07:45:00+00:00\n",
      "2013-03-10 03:15:00-05:00\n"
     ]
    }
   ],
   "source": [
    "import pytz\n",
    "# Convert localized datetime to UTC\n",
    "utc_d = loc_d.astimezone(pytz.utc)\n",
    "print(utc_d)  # Output: 2013-03-10 07:45:00+00:00\n",
    "\n",
    "# Perform arithmetic in UTC\n",
    "later_utc = utc_d + timedelta(minutes=30)\n",
    "print(later_utc.astimezone(central))  # Output: 2013-03-10 03:15:00-05:00"
   ]
  },
  {
   "cell_type": "code",
   "execution_count": null,
   "metadata": {},
   "outputs": [],
   "source": [
    "print(pytz.country_timezones['IN'])  # Output: ['Asia/Kolkata']"
   ]
  }
 ],
 "metadata": {
  "kernelspec": {
   "display_name": "py-env",
   "language": "python",
   "name": "python3"
  },
  "language_info": {
   "codemirror_mode": {
    "name": "ipython",
    "version": 3
   },
   "file_extension": ".py",
   "mimetype": "text/x-python",
   "name": "python",
   "nbconvert_exporter": "python",
   "pygments_lexer": "ipython3",
   "version": "3.11.11"
  }
 },
 "nbformat": 4,
 "nbformat_minor": 2
}
