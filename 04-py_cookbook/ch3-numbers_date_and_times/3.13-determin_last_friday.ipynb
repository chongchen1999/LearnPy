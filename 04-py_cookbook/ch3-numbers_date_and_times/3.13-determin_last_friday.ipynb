{
 "cells": [
  {
   "cell_type": "code",
   "execution_count": 1,
   "metadata": {},
   "outputs": [
    {
     "name": "stdout",
     "output_type": "stream",
     "text": [
      "2025-01-23 13:38:17.789759\n",
      "2025-01-20 13:38:17.789998\n",
      "2025-01-21 13:38:17.790085\n",
      "2025-01-17 13:38:17.790131\n",
      "2012-12-16 00:00:00\n"
     ]
    }
   ],
   "source": [
    "from datetime import datetime, timedelta\n",
    "\n",
    "weekdays = ['Monday', 'Tuesday', 'Wednesday', 'Thursday', 'Friday', 'Saturday', 'Sunday']\n",
    "\n",
    "def get_previous_byday(dayname, start_date=None):\n",
    "    if start_date is None:\n",
    "        start_date = datetime.today()\n",
    "    day_num = start_date.weekday()\n",
    "    day_num_target = weekdays.index(dayname)\n",
    "    days_ago = (7 + day_num - day_num_target) % 7\n",
    "    if days_ago == 0:\n",
    "        days_ago = 7\n",
    "    target_date = start_date - timedelta(days=days_ago)\n",
    "    return target_date\n",
    "\n",
    "# Example usage:\n",
    "print(datetime.today())  # For reference\n",
    "print(get_previous_byday('Monday'))\n",
    "print(get_previous_byday('Tuesday'))  # Previous week, not today\n",
    "print(get_previous_byday('Friday'))\n",
    "\n",
    "# Using a specific start date\n",
    "print(get_previous_byday('Sunday', datetime(2012, 12, 21)))"
   ]
  },
  {
   "cell_type": "code",
   "execution_count": 2,
   "metadata": {},
   "outputs": [
    {
     "name": "stdout",
     "output_type": "stream",
     "text": [
      "2025-01-23 13:39:34.791657\n",
      "2025-01-24 13:39:34.791657\n",
      "2025-01-17 13:39:34.791657\n"
     ]
    }
   ],
   "source": [
    "from datetime import datetime\n",
    "from dateutil.relativedelta import relativedelta\n",
    "from dateutil.rrule import FR\n",
    "\n",
    "# Get current date and time\n",
    "d = datetime.now()\n",
    "print(d)\n",
    "\n",
    "# Next Friday\n",
    "print(d + relativedelta(weekday=FR))\n",
    "\n",
    "# Last Friday\n",
    "print(d + relativedelta(weekday=FR(-1)))"
   ]
  }
 ],
 "metadata": {
  "kernelspec": {
   "display_name": "py-env",
   "language": "python",
   "name": "python3"
  },
  "language_info": {
   "codemirror_mode": {
    "name": "ipython",
    "version": 3
   },
   "file_extension": ".py",
   "mimetype": "text/x-python",
   "name": "python",
   "nbconvert_exporter": "python",
   "pygments_lexer": "ipython3",
   "version": "3.11.11"
  }
 },
 "nbformat": 4,
 "nbformat_minor": 2
}
