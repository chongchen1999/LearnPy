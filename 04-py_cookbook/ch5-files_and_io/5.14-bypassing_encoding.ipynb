{
 "cells": [
  {
   "cell_type": "code",
   "execution_count": 4,
   "metadata": {},
   "outputs": [
    {
     "data": {
      "text/plain": [
       "<_io.TextIOWrapper name='/home/tourist/diy/LearnPy/data/jalapeño.txt' mode='w' encoding='UTF-8'>"
      ]
     },
     "execution_count": 4,
     "metadata": {},
     "output_type": "execute_result"
    }
   ],
   "source": [
    "folder_path = \"/home/tourist/diy/LearnPy/data/\"\n",
    "\n",
    "# Write a file using a Unicode filename\n",
    "with open(folder_path + 'jalape\\xf1o.txt', 'w') as f:\n",
    "    f.write('Spicy!')\n",
    "f\n"
   ]
  },
  {
   "cell_type": "code",
   "execution_count": 5,
   "metadata": {},
   "outputs": [
    {
     "name": "stdout",
     "output_type": "stream",
     "text": [
      "['5.14-bypassing_encoding.ipynb', '5.03-printing_with_diff_seperator.ipynb', '5.02-printing_to_file.ipynb', '5.09-reading_bin_to_buffer.ipynb', '5.10-memory_mapping.ipynb', '5.04-binary_file_io.ipynb', '5.05-write-to-non-exist-file.ipynb', '5.13-get_dir_list.ipynb', '5.12-test_existance.ipynb', '5.11-manipulate_filepath.ipynb', '5.06-perform_io_on_string.ipynb', '5.01-read_ans_write_data.ipynb', '5.08-iterating_fixed_size_record.ipynb', '5.07-compressed_data_io.ipynb']\n"
     ]
    }
   ],
   "source": [
    "import os\n",
    "# Directory listing (decoded)\n",
    "print(os.listdir('.'))"
   ]
  },
  {
   "cell_type": "code",
   "execution_count": 6,
   "metadata": {},
   "outputs": [
    {
     "name": "stdout",
     "output_type": "stream",
     "text": [
      "[b'5.14-bypassing_encoding.ipynb', b'5.03-printing_with_diff_seperator.ipynb', b'5.02-printing_to_file.ipynb', b'5.09-reading_bin_to_buffer.ipynb', b'5.10-memory_mapping.ipynb', b'5.04-binary_file_io.ipynb', b'5.05-write-to-non-exist-file.ipynb', b'5.13-get_dir_list.ipynb', b'5.12-test_existance.ipynb', b'5.11-manipulate_filepath.ipynb', b'5.06-perform_io_on_string.ipynb', b'5.01-read_ans_write_data.ipynb', b'5.08-iterating_fixed_size_record.ipynb', b'5.07-compressed_data_io.ipynb']\n"
     ]
    }
   ],
   "source": [
    "# Directory listing (raw)\n",
    "print(os.listdir(b'.'))  # Note: byte string"
   ]
  },
  {
   "cell_type": "code",
   "execution_count": 11,
   "metadata": {},
   "outputs": [
    {
     "name": "stdout",
     "output_type": "stream",
     "text": [
      "Spicy!\n"
     ]
    }
   ],
   "source": [
    "import os\n",
    "\n",
    "# Define the folder path (as a regular string)\n",
    "folder_path = '/home/tourist/diy/LearnPy/data/'\n",
    "\n",
    "# Create the folder if it doesn't exist\n",
    "os.makedirs(folder_path, exist_ok=True)\n",
    "\n",
    "# Encode the folder path to bytes\n",
    "folder_path_bytes = folder_path.encode('utf-8')\n",
    "\n",
    "# Define the raw byte filename\n",
    "filename_bytes = b'jalapen\\xcc\\x83o.txt'\n",
    "\n",
    "# Combine folder path and filename\n",
    "file_path_bytes = folder_path_bytes + filename_bytes\n",
    "\n",
    "# Step 1: Create the file under the folder path\n",
    "with open(file_path_bytes, 'wb') as f:  # Use 'wb' mode for writing bytes\n",
    "    f.write(b'Spicy!')  # Write some content to the file\n",
    "\n",
    "# Step 2: Open and read the file using the raw byte filename\n",
    "with open(file_path_bytes, 'rb') as f:  # Use 'rb' mode for reading bytes\n",
    "    content = f.read()\n",
    "    print(content.decode('utf-8'))  # Decode bytes to string for printing"
   ]
  }
 ],
 "metadata": {
  "kernelspec": {
   "display_name": "py-env",
   "language": "python",
   "name": "python3"
  },
  "language_info": {
   "codemirror_mode": {
    "name": "ipython",
    "version": 3
   },
   "file_extension": ".py",
   "mimetype": "text/x-python",
   "name": "python",
   "nbconvert_exporter": "python",
   "pygments_lexer": "ipython3",
   "version": "3.11.11"
  }
 },
 "nbformat": 4,
 "nbformat_minor": 2
}
