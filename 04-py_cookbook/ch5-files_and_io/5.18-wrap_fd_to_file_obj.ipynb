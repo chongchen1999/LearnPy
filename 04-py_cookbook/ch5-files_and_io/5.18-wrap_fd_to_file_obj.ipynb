{
 "cells": [
  {
   "cell_type": "code",
   "execution_count": 2,
   "metadata": {},
   "outputs": [
    {
     "data": {
      "text/plain": [
       "<_io.TextIOWrapper name=69 mode='wt' encoding='UTF-8'>"
      ]
     },
     "execution_count": 2,
     "metadata": {},
     "output_type": "execute_result"
    }
   ],
   "source": [
    "import os\n",
    "\n",
    "folder_path = \"/home/tourist/diy/LearnPy/data/\"\n",
    "\n",
    "# Open a low-level file descriptor\n",
    "fd = os.open(folder_path + 'somefile.txt', os.O_WRONLY | os.O_CREAT)\n",
    "\n",
    "# Wrap the file descriptor in a Python file object\n",
    "f = open(fd, 'wt')\n",
    "f.write('hello world\\n')\n",
    "f.close()\n",
    "f"
   ]
  },
  {
   "cell_type": "code",
   "execution_count": 3,
   "metadata": {},
   "outputs": [],
   "source": [
    "import os\n",
    "\n",
    "# Open a low-level file descriptor\n",
    "fd = os.open(folder_path + 'somefile.txt', os.O_WRONLY | os.O_CREAT)\n",
    "\n",
    "# Wrap the file descriptor in a Python file object, but don't close the underlying fd\n",
    "f = open(fd, 'wt', closefd=False)\n",
    "f.write('hello world\\n')\n",
    "f.close()\n",
    "\n",
    "# The file descriptor is still open and can be used again\n",
    "os.write(fd, b'another line\\n')\n",
    "os.close(fd)"
   ]
  },
  {
   "cell_type": "code",
   "execution_count": null,
   "metadata": {},
   "outputs": [],
   "source": [
    "from socket import socket, AF_INET, SOCK_STREAM\n",
    "\n",
    "def echo_client(client_sock, addr):\n",
    "    print('Got connection from', addr)\n",
    "    \n",
    "    # Make text-mode file wrappers for socket reading/writing\n",
    "    client_in = open(client_sock.fileno(), 'rt', encoding='latin-1', closefd=False)\n",
    "    client_out = open(client_sock.fileno(), 'wt', encoding='latin-1', closefd=False)\n",
    "    \n",
    "    # Echo lines back to the client using file I/O\n",
    "    for line in client_in:\n",
    "        client_out.write(line)\n",
    "        client_out.flush()\n",
    "    \n",
    "    client_sock.close()\n",
    "\n",
    "def echo_server(address):\n",
    "    sock = socket(AF_INET, SOCK_STREAM)\n",
    "    sock.bind(address)\n",
    "    sock.listen(1)\n",
    "    while True:\n",
    "        client, addr = sock.accept()\n",
    "        echo_client(client, addr)\n",
    "\n",
    "# Example usage\n",
    "echo_server(('localhost', 12345))"
   ]
  }
 ],
 "metadata": {
  "kernelspec": {
   "display_name": "py-env",
   "language": "python",
   "name": "python3"
  },
  "language_info": {
   "codemirror_mode": {
    "name": "ipython",
    "version": 3
   },
   "file_extension": ".py",
   "mimetype": "text/x-python",
   "name": "python",
   "nbconvert_exporter": "python",
   "pygments_lexer": "ipython3",
   "version": "3.11.11"
  }
 },
 "nbformat": 4,
 "nbformat_minor": 2
}
