{
 "cells": [
  {
   "cell_type": "code",
   "execution_count": 4,
   "metadata": {},
   "outputs": [
    {
     "name": "stdout",
     "output_type": "stream",
     "text": [
      "Attempting to write bytes using os.fdopen...\n",
      "Bytes written: 6\n"
     ]
    }
   ],
   "source": [
    "import sys\n",
    "import os\n",
    "import io\n",
    "\n",
    "def write_bytes_to_stdout():\n",
    "    \"\"\"\n",
    "    Writes raw bytes to standard output (sys.stdout).\n",
    "    Handles environments where sys.stdout.buffer is not available.\n",
    "    \"\"\"\n",
    "    # Bytes to write\n",
    "    data = b'Hello\\n'\n",
    "\n",
    "    # Attempt 1: Use sys.stdout.buffer if available\n",
    "    if hasattr(sys.stdout, 'buffer'):\n",
    "        try:\n",
    "            print(\"Attempting to write bytes using sys.stdout.buffer...\")\n",
    "            bytes_written = sys.stdout.buffer.write(data)\n",
    "            sys.stdout.buffer.flush()  # Ensure the data is written\n",
    "            print(f\"Bytes written: {bytes_written}\")\n",
    "            return\n",
    "        except Exception as e:\n",
    "            print(f\"Error writing bytes using sys.stdout.buffer: {e}\")\n",
    "\n",
    "    # Attempt 2: Use os.fdopen to create a binary stream\n",
    "    try:\n",
    "        print(\"Attempting to write bytes using os.fdopen...\")\n",
    "        binary_stdout = os.fdopen(sys.stdout.fileno(), 'wb', closefd=False)\n",
    "        bytes_written = binary_stdout.write(data)\n",
    "        binary_stdout.flush()  # Ensure the data is written\n",
    "        print(f\"Bytes written: {bytes_written}\")\n",
    "        return\n",
    "    except Exception as e:\n",
    "        print(f\"Error writing bytes using os.fdopen: {e}\")\n",
    "\n",
    "    # Attempt 3: Fallback to writing to a file if stdout is not available\n",
    "    try:\n",
    "        print(\"Attempting to write bytes to a file (fallback)...\")\n",
    "        with open('output.bin', 'wb') as f:\n",
    "            bytes_written = f.write(data)\n",
    "        print(f\"Bytes written to file 'output.bin': {bytes_written}\")\n",
    "    except Exception as e:\n",
    "        print(f\"Error writing bytes to file: {e}\")\n",
    "\n",
    "if __name__ == \"__main__\":\n",
    "    write_bytes_to_stdout()"
   ]
  },
  {
   "cell_type": "code",
   "execution_count": 5,
   "metadata": {},
   "outputs": [
    {
     "name": "stdout",
     "output_type": "stream",
     "text": [
      "b'This is an example file.\\nIt contains some text for demonstration purposes.\\n'\n"
     ]
    }
   ],
   "source": [
    "with open('/home/tourist/diy/LearnPy/data/example.txt', 'r') as text_file:\n",
    "    binary_data = text_file.buffer.read()\n",
    "    print(binary_data)"
   ]
  }
 ],
 "metadata": {
  "kernelspec": {
   "display_name": "py-env",
   "language": "python",
   "name": "python3"
  },
  "language_info": {
   "codemirror_mode": {
    "name": "ipython",
    "version": 3
   },
   "file_extension": ".py",
   "mimetype": "text/x-python",
   "name": "python",
   "nbconvert_exporter": "python",
   "pygments_lexer": "ipython3",
   "version": "3.11.11"
  }
 },
 "nbformat": 4,
 "nbformat_minor": 2
}
