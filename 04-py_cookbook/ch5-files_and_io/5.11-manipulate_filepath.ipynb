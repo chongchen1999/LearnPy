{
 "cells": [
  {
   "cell_type": "code",
   "execution_count": 1,
   "metadata": {},
   "outputs": [
    {
     "data": {
      "text/plain": [
       "'data.csv'"
      ]
     },
     "execution_count": 1,
     "metadata": {},
     "output_type": "execute_result"
    }
   ],
   "source": [
    "import os\n",
    "os.path.basename('/Users/beazley/Data/data.csv')"
   ]
  },
  {
   "cell_type": "code",
   "execution_count": 2,
   "metadata": {},
   "outputs": [
    {
     "data": {
      "text/plain": [
       "'/Users/beazley/Data'"
      ]
     },
     "execution_count": 2,
     "metadata": {},
     "output_type": "execute_result"
    }
   ],
   "source": [
    "os.path.dirname('/Users/beazley/Data/data.csv')"
   ]
  },
  {
   "cell_type": "code",
   "execution_count": 3,
   "metadata": {},
   "outputs": [
    {
     "data": {
      "text/plain": [
       "'tmp/data/data.csv'"
      ]
     },
     "execution_count": 3,
     "metadata": {},
     "output_type": "execute_result"
    }
   ],
   "source": [
    "os.path.join('tmp', 'data', 'data.csv')"
   ]
  },
  {
   "cell_type": "code",
   "execution_count": 4,
   "metadata": {},
   "outputs": [
    {
     "data": {
      "text/plain": [
       "'/home/tourist/Data/data.csv'"
      ]
     },
     "execution_count": 4,
     "metadata": {},
     "output_type": "execute_result"
    }
   ],
   "source": [
    "os.path.expanduser('~/Data/data.csv')"
   ]
  },
  {
   "cell_type": "code",
   "execution_count": 5,
   "metadata": {},
   "outputs": [
    {
     "data": {
      "text/plain": [
       "('/Users/beazley/Data/data', '.csv')"
      ]
     },
     "execution_count": 5,
     "metadata": {},
     "output_type": "execute_result"
    }
   ],
   "source": [
    "os.path.splitext('/Users/beazley/Data/data.csv')"
   ]
  },
  {
   "cell_type": "code",
   "execution_count": 6,
   "metadata": {},
   "outputs": [
    {
     "data": {
      "text/plain": [
       "'/home/tourist/diy/LearnPy/04-py_cookbook/ch5-files_and_io/data.csv'"
      ]
     },
     "execution_count": 6,
     "metadata": {},
     "output_type": "execute_result"
    }
   ],
   "source": [
    "os.path.abspath('data.csv')"
   ]
  },
  {
   "cell_type": "code",
   "execution_count": 7,
   "metadata": {},
   "outputs": [
    {
     "data": {
      "text/plain": [
       "False"
      ]
     },
     "execution_count": 7,
     "metadata": {},
     "output_type": "execute_result"
    }
   ],
   "source": [
    "os.path.exists('/Users/beazley/Data/data.csv')"
   ]
  },
  {
   "cell_type": "code",
   "execution_count": 8,
   "metadata": {},
   "outputs": [
    {
     "data": {
      "text/plain": [
       "False"
      ]
     },
     "execution_count": 8,
     "metadata": {},
     "output_type": "execute_result"
    }
   ],
   "source": [
    "os.path.isfile('/Users/beazley/Data/data.csv')"
   ]
  },
  {
   "cell_type": "code",
   "execution_count": 9,
   "metadata": {},
   "outputs": [
    {
     "data": {
      "text/plain": [
       "False"
      ]
     },
     "execution_count": 9,
     "metadata": {},
     "output_type": "execute_result"
    }
   ],
   "source": [
    "os.path.isdir('/Users/beazley/Data')"
   ]
  },
  {
   "cell_type": "code",
   "execution_count": 11,
   "metadata": {},
   "outputs": [
    {
     "data": {
      "text/plain": [
       "102"
      ]
     },
     "execution_count": 11,
     "metadata": {},
     "output_type": "execute_result"
    }
   ],
   "source": [
    "os.path.getsize('/home/tourist/diy/LearnPy/data/output_concatenated.txt')"
   ]
  },
  {
   "cell_type": "code",
   "execution_count": 12,
   "metadata": {},
   "outputs": [
    {
     "data": {
      "text/plain": [
       "'/Users/beazley/Data/data.csv'"
      ]
     },
     "execution_count": 12,
     "metadata": {},
     "output_type": "execute_result"
    }
   ],
   "source": [
    "os.path.normpath('/Users/beazley/Data//./data.csv')"
   ]
  },
  {
   "cell_type": "code",
   "execution_count": 13,
   "metadata": {},
   "outputs": [
    {
     "name": "stdout",
     "output_type": "stream",
     "text": [
      "Expanded Path: /home/tourist/Data/data.csv\n",
      "Absolute Path: /home/tourist/Data/data.csv\n",
      "Directory: /home/tourist/Data\n",
      "Filename: data.csv\n",
      "Root: data, Extension: .csv\n",
      "New Path: /home/tourist/Data/backup/data.csv\n",
      "Path Exists: False\n",
      "Is File: False\n",
      "Is Directory: False\n"
     ]
    }
   ],
   "source": [
    "import os\n",
    "\n",
    "# Example path\n",
    "path = '~/Data/data.csv'\n",
    "\n",
    "# Expand user's home directory\n",
    "expanded_path = os.path.expanduser(path)\n",
    "print(f\"Expanded Path: {expanded_path}\")\n",
    "\n",
    "# Get the absolute path\n",
    "absolute_path = os.path.abspath(expanded_path)\n",
    "print(f\"Absolute Path: {absolute_path}\")\n",
    "\n",
    "# Get the directory name\n",
    "directory = os.path.dirname(absolute_path)\n",
    "print(f\"Directory: {directory}\")\n",
    "\n",
    "# Get the base filename\n",
    "filename = os.path.basename(absolute_path)\n",
    "print(f\"Filename: {filename}\")\n",
    "\n",
    "# Split the file extension\n",
    "root, ext = os.path.splitext(filename)\n",
    "print(f\"Root: {root}, Extension: {ext}\")\n",
    "\n",
    "# Join path components\n",
    "new_path = os.path.join(directory, 'backup', filename)\n",
    "print(f\"New Path: {new_path}\")\n",
    "\n",
    "# Check if the path exists\n",
    "exists = os.path.exists(absolute_path)\n",
    "print(f\"Path Exists: {exists}\")\n",
    "\n",
    "# Check if it's a file\n",
    "is_file = os.path.isfile(absolute_path)\n",
    "print(f\"Is File: {is_file}\")\n",
    "\n",
    "# Check if it's a directory\n",
    "is_dir = os.path.isdir(directory)\n",
    "print(f\"Is Directory: {is_dir}\")"
   ]
  }
 ],
 "metadata": {
  "kernelspec": {
   "display_name": "py-env",
   "language": "python",
   "name": "python3"
  },
  "language_info": {
   "codemirror_mode": {
    "name": "ipython",
    "version": 3
   },
   "file_extension": ".py",
   "mimetype": "text/x-python",
   "name": "python",
   "nbconvert_exporter": "python",
   "pygments_lexer": "ipython3",
   "version": "3.11.11"
  }
 },
 "nbformat": 4,
 "nbformat_minor": 2
}
