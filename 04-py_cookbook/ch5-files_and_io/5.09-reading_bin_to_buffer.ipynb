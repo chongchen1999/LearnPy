{
 "cells": [
  {
   "cell_type": "code",
   "execution_count": 3,
   "metadata": {},
   "outputs": [
    {
     "name": "stdout",
     "output_type": "stream",
     "text": [
      "bytearray(b'Hello World')\n",
      "bytearray(b'Hallo World')\n"
     ]
    }
   ],
   "source": [
    "import os.path\n",
    "\n",
    "def read_into_buffer(filename):\n",
    "    # Create a bytearray with the size of the file\n",
    "    buf = bytearray(os.path.getsize(filename))\n",
    "    with open(filename, 'rb') as f:\n",
    "        f.readinto(buf)  # Read data directly into the buffer\n",
    "    return buf\n",
    "\n",
    "folder_path = '/home/tourist/diy/LearnPy/data/'\n",
    "\n",
    "# Example usage\n",
    "# Write a sample file\n",
    "with open(folder_path + 'sample.bin', 'wb') as f:\n",
    "    f.write(b'Hello World')\n",
    "\n",
    "# Read the file into a buffer\n",
    "buf = read_into_buffer(folder_path + 'sample.bin')\n",
    "print(buf)  # Output: bytearray(b'Hello World')\n",
    "\n",
    "# Modify the buffer in-place\n",
    "buf[0:5] = b'Hallo'\n",
    "print(buf)  # Output: bytearray(b'Hallo World')\n",
    "\n",
    "# Write the modified buffer to a new file\n",
    "with open(folder_path + 'newsample.bin', 'wb') as f:\n",
    "    f.write(buf)"
   ]
  },
  {
   "cell_type": "code",
   "execution_count": 4,
   "metadata": {},
   "outputs": [
    {
     "name": "stdout",
     "output_type": "stream",
     "text": [
      "bytearray(b'Hallo WORLD')\n"
     ]
    }
   ],
   "source": [
    "# Create a memoryview of the buffer\n",
    "m1 = memoryview(buf)\n",
    "\n",
    "# Slice the memoryview (no copying occurs)\n",
    "m2 = m1[-5:]\n",
    "\n",
    "# Modify the slice\n",
    "m2[:] = b'WORLD'\n",
    "\n",
    "# The original buffer is modified\n",
    "print(buf)  # Output: bytearray(b'Hello WORLD')"
   ]
  },
  {
   "cell_type": "code",
   "execution_count": 6,
   "metadata": {},
   "outputs": [],
   "source": [
    "record_size = 32  # Size of each record\n",
    "buf = bytearray(record_size)\n",
    "\n",
    "with open(folder_path + 'somefile', 'rb') as f:\n",
    "    while True:\n",
    "        n = f.readinto(buf)  # Read into the buffer\n",
    "        if n < record_size:\n",
    "            break  # End of file or incomplete record\n",
    "        # Process the contents of buf\n",
    "        print(buf)"
   ]
  }
 ],
 "metadata": {
  "kernelspec": {
   "display_name": "py-env",
   "language": "python",
   "name": "python3"
  },
  "language_info": {
   "codemirror_mode": {
    "name": "ipython",
    "version": 3
   },
   "file_extension": ".py",
   "mimetype": "text/x-python",
   "name": "python",
   "nbconvert_exporter": "python",
   "pygments_lexer": "ipython3",
   "version": "3.11.11"
  }
 },
 "nbformat": 4,
 "nbformat_minor": 2
}
