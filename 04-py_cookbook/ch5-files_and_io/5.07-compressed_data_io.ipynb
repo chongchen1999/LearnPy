{
 "cells": [
  {
   "cell_type": "code",
   "execution_count": 4,
   "metadata": {},
   "outputs": [],
   "source": [
    "# Create a text file\n",
    "with open('/home/tourist/diy/LearnPy/data/example.txt', 'wt') as f:\n",
    "    f.write(\"This is an example file.\\nIt contains some text for demonstration purposes.\\n\")"
   ]
  },
  {
   "cell_type": "code",
   "execution_count": 5,
   "metadata": {},
   "outputs": [],
   "source": [
    "import gzip\n",
    "import shutil\n",
    "\n",
    "# Compress the file\n",
    "with open('/home/tourist/diy/LearnPy/data/example.txt', 'rb') as f_in:\n",
    "    with gzip.open('/home/tourist/diy/LearnPy/data/example.txt.gz', 'wb') as f_out:\n",
    "        shutil.copyfileobj(f_in, f_out)"
   ]
  },
  {
   "cell_type": "code",
   "execution_count": 7,
   "metadata": {},
   "outputs": [
    {
     "name": "stdout",
     "output_type": "stream",
     "text": [
      "Content of the compressed file:\n",
      "This is an example file.\n",
      "It contains some text for demonstration purposes.\n",
      "\n"
     ]
    }
   ],
   "source": [
    "# Read the compressed file\n",
    "with gzip.open('/home/tourist/diy/LearnPy/data/example.txt.gz', 'rt') as f:\n",
    "    compressed_content = f.read()\n",
    "    print(\"Content of the compressed file:\")\n",
    "    print(compressed_content)"
   ]
  },
  {
   "cell_type": "code",
   "execution_count": 9,
   "metadata": {},
   "outputs": [
    {
     "name": "stdout",
     "output_type": "stream",
     "text": [
      "Content of the decompressed file:\n",
      "This is an example file.\n",
      "It contains some text for demonstration purposes.\n",
      "\n"
     ]
    }
   ],
   "source": [
    "# Decompress the file\n",
    "with gzip.open('/home/tourist/diy/LearnPy/data/example.txt.gz', 'rb') as f_in:\n",
    "    with open('example_decompressed.txt', 'wb') as f_out:\n",
    "        shutil.copyfileobj(f_in, f_out)\n",
    "\n",
    "# Verify the decompressed file\n",
    "with open('example_decompressed.txt', 'rt') as f:\n",
    "    decompressed_content = f.read()\n",
    "    print(\"Content of the decompressed file:\")\n",
    "    print(decompressed_content)"
   ]
  }
 ],
 "metadata": {
  "kernelspec": {
   "display_name": "py-env",
   "language": "python",
   "name": "python3"
  },
  "language_info": {
   "codemirror_mode": {
    "name": "ipython",
    "version": 3
   },
   "file_extension": ".py",
   "mimetype": "text/x-python",
   "name": "python",
   "nbconvert_exporter": "python",
   "pygments_lexer": "ipython3",
   "version": "3.11.11"
  }
 },
 "nbformat": 4,
 "nbformat_minor": 2
}
