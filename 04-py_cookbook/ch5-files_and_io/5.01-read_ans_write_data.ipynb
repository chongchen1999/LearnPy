{
 "cells": [
  {
   "cell_type": "code",
   "execution_count": 1,
   "metadata": {},
   "outputs": [
    {
     "data": {
      "text/plain": [
       "'This is the first line of the file.\\nHere is the second line of the file.\\nAnd this is the third line of the file.\\nThe file can have as much text as you want.\\nYou can test reading it in chunks using Python.\\n'"
      ]
     },
     "execution_count": 1,
     "metadata": {},
     "output_type": "execute_result"
    }
   ],
   "source": [
    "with open('/home/tourist/diy/LearnPy/data/data.txt', 'rt') as f:\n",
    "    data = f.read()  # Read the entire file as a single string\n",
    "data"
   ]
  },
  {
   "cell_type": "code",
   "execution_count": 2,
   "metadata": {},
   "outputs": [
    {
     "name": "stdout",
     "output_type": "stream",
     "text": [
      "This is the first line of the file.\n",
      "Here is the second line of the file.\n",
      "And this is the third line of the file.\n",
      "The file can have as much text as you want.\n",
      "You can test reading it in chunks using Python.\n"
     ]
    }
   ],
   "source": [
    "with open('/home/tourist/diy/LearnPy/data/data.txt', 'rt') as f:\n",
    "    for line in f:\n",
    "        # Process each line\n",
    "        print(line, end='')"
   ]
  },
  {
   "cell_type": "code",
   "execution_count": 5,
   "metadata": {},
   "outputs": [],
   "source": [
    "with open('/home/tourist/diy/LearnPy/data/somefile.txt', 'wt') as f:\n",
    "    f.write('Hello, world!\\n')\n",
    "    f.write('Another line\\n')"
   ]
  },
  {
   "cell_type": "code",
   "execution_count": 6,
   "metadata": {},
   "outputs": [],
   "source": [
    "with open('/home/tourist/diy/LearnPy/data/somefile.txt', 'at') as f:\n",
    "    f.write('Appending a new line\\n')"
   ]
  }
 ],
 "metadata": {
  "kernelspec": {
   "display_name": "py-env",
   "language": "python",
   "name": "python3"
  },
  "language_info": {
   "codemirror_mode": {
    "name": "ipython",
    "version": 3
   },
   "file_extension": ".py",
   "mimetype": "text/x-python",
   "name": "python",
   "nbconvert_exporter": "python",
   "pygments_lexer": "ipython3",
   "version": "3.11.11"
  }
 },
 "nbformat": 4,
 "nbformat_minor": 2
}
