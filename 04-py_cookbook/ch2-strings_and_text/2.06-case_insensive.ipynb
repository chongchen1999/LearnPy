{
 "cells": [
  {
   "cell_type": "code",
   "execution_count": 1,
   "metadata": {},
   "outputs": [
    {
     "name": "stdout",
     "output_type": "stream",
     "text": [
      "['PYTHON', 'python', 'Python']\n",
      "UPPER snake, lower snake, Mixed snake\n"
     ]
    }
   ],
   "source": [
    "import re\n",
    "\n",
    "text = 'UPPER PYTHON, lower python, Mixed Python'\n",
    "\n",
    "# Case-insensitive search\n",
    "matches = re.findall('python', text, flags=re.IGNORECASE)\n",
    "print(matches)  # Output: ['PYTHON', 'python', 'Python']\n",
    "\n",
    "# Case-insensitive replacement\n",
    "replaced_text = re.sub('python', 'snake', text, flags=re.IGNORECASE)\n",
    "print(replaced_text)  # Output: 'UPPER snake, lower snake, Mixed snake'"
   ]
  },
  {
   "cell_type": "code",
   "execution_count": 2,
   "metadata": {},
   "outputs": [
    {
     "name": "stdout",
     "output_type": "stream",
     "text": [
      "UPPER SNAKE, lower snake, Mixed Snake\n"
     ]
    }
   ],
   "source": [
    "def matchcase(word):\n",
    "    def replace(m):\n",
    "        text = m.group()\n",
    "        if text.isupper():\n",
    "            return word.upper()\n",
    "        elif text.islower():\n",
    "            return word.lower()\n",
    "        elif text[0].isupper():\n",
    "            return word.capitalize()\n",
    "        else:\n",
    "            return word\n",
    "    return replace\n",
    "\n",
    "# Example usage\n",
    "replaced_text = re.sub('python', matchcase('snake'), text, flags=re.IGNORECASE)\n",
    "print(replaced_text)  # Output: 'UPPER SNAKE, lower snake, Mixed Snake'"
   ]
  }
 ],
 "metadata": {
  "kernelspec": {
   "display_name": "py-env",
   "language": "python",
   "name": "python3"
  },
  "language_info": {
   "codemirror_mode": {
    "name": "ipython",
    "version": 3
   },
   "file_extension": ".py",
   "mimetype": "text/x-python",
   "name": "python",
   "nbconvert_exporter": "python",
   "pygments_lexer": "ipython3",
   "version": "3.11.11"
  }
 },
 "nbformat": 4,
 "nbformat_minor": 2
}
