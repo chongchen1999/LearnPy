{
 "cells": [
  {
   "cell_type": "code",
   "execution_count": 1,
   "metadata": {},
   "outputs": [
    {
     "name": "stdout",
     "output_type": "stream",
     "text": [
      "Guido has 37 messages.\n"
     ]
    }
   ],
   "source": [
    "# 1. Using str.format()\n",
    "name = \"Guido\"\n",
    "n = 37\n",
    "s = \"{name} has {n} messages.\".format(name=name, n=n)\n",
    "print(s)"
   ]
  },
  {
   "cell_type": "code",
   "execution_count": 2,
   "metadata": {},
   "outputs": [
    {
     "name": "stdout",
     "output_type": "stream",
     "text": [
      "Guido has 37 messages.\n"
     ]
    }
   ],
   "source": [
    "# 2. Using format_map() with vars()\n",
    "name = \"Guido\"\n",
    "n = 37\n",
    "s = \"{name} has {n} messages.\".format_map(vars())\n",
    "print(s)"
   ]
  },
  {
   "cell_type": "code",
   "execution_count": 3,
   "metadata": {},
   "outputs": [
    {
     "name": "stdout",
     "output_type": "stream",
     "text": [
      "Guido has 37 messages.\n"
     ]
    }
   ],
   "source": [
    "# 3. Using f-strings (Python 3.6+)\n",
    "name = \"Guido\"\n",
    "n = 37\n",
    "s = f\"{name} has {n} messages.\"\n",
    "print(s)"
   ]
  },
  {
   "cell_type": "code",
   "execution_count": 4,
   "metadata": {},
   "outputs": [
    {
     "name": "stdout",
     "output_type": "stream",
     "text": [
      "Guido has 37 messages.\n"
     ]
    }
   ],
   "source": [
    "# 4. Using %-formatting (Older Style)\n",
    "name = \"Guido\"\n",
    "n = 37\n",
    "s = \"%(name)s has %(n)d messages.\" % vars()\n",
    "print(s)"
   ]
  },
  {
   "cell_type": "code",
   "execution_count": 5,
   "metadata": {},
   "outputs": [
    {
     "name": "stdout",
     "output_type": "stream",
     "text": [
      "Guido has 37 messages.\n"
     ]
    }
   ],
   "source": [
    "# 5. Using Template Strings\n",
    "from string import Template\n",
    "\n",
    "name = \"Guido\"\n",
    "n = 37\n",
    "s = Template(\"$name has $n messages.\").substitute(vars())\n",
    "print(s)"
   ]
  },
  {
   "cell_type": "code",
   "execution_count": 7,
   "metadata": {},
   "outputs": [
    {
     "name": "stdout",
     "output_type": "stream",
     "text": [
      "Guido has {_n} messages.\n"
     ]
    }
   ],
   "source": [
    "# 6. Handling Missing Values with safesub\n",
    "class safesub(dict):\n",
    "    def __missing__(self, key):\n",
    "        return f\"{{{key}}}\"\n",
    "\n",
    "_name = \"Guido\"\n",
    "s = \"{_name} has {_n} messages.\".format_map(safesub(vars()))\n",
    "print(s)"
   ]
  },
  {
   "cell_type": "code",
   "execution_count": 8,
   "metadata": {},
   "outputs": [
    {
     "name": "stdout",
     "output_type": "stream",
     "text": [
      "Hello Guido\n",
      "You have 37 messages.\n",
      "Your favorite color is {color}\n"
     ]
    }
   ],
   "source": [
    "# 7. Using a Utility Function with Frame Hacking\n",
    "import sys\n",
    "\n",
    "class safesub(dict):\n",
    "    def __missing__(self, key):\n",
    "        return f\"{{{key}}}\"\n",
    "\n",
    "def sub(text):\n",
    "    return text.format_map(safesub(sys._getframe(1).f_locals))\n",
    "\n",
    "name = \"Guido\"\n",
    "n = 37\n",
    "print(sub(\"Hello {name}\"))\n",
    "print(sub(\"You have {n} messages.\"))\n",
    "print(sub(\"Your favorite color is {color}\"))"
   ]
  }
 ],
 "metadata": {
  "kernelspec": {
   "display_name": "py-env",
   "language": "python",
   "name": "python3"
  },
  "language_info": {
   "codemirror_mode": {
    "name": "ipython",
    "version": 3
   },
   "file_extension": ".py",
   "mimetype": "text/x-python",
   "name": "python",
   "nbconvert_exporter": "python",
   "pygments_lexer": "ipython3",
   "version": "3.11.11"
  }
 },
 "nbformat": 4,
 "nbformat_minor": 2
}
