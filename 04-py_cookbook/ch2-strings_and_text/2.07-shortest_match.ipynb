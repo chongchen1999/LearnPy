{
 "cells": [
  {
   "cell_type": "code",
   "execution_count": 8,
   "metadata": {},
   "outputs": [
    {
     "name": "stdout",
     "output_type": "stream",
     "text": [
      "['no.']\n",
      "['no.\" Phone says \"yes.']\n"
     ]
    }
   ],
   "source": [
    "import re\n",
    "\n",
    "# Greedy match example\n",
    "str_pat = re.compile(r\"\\\"(.*)\\\"\")\n",
    "text1 = \"Computer says \\\"no.\\\"\"\n",
    "text2 = \"Computer says \\\"no.\\\" Phone says \\\"yes.\\\"\"\n",
    "\n",
    "print(str_pat.findall(text1))  # Output: ['no.']\n",
    "print(str_pat.findall(text2))  # Output: ['no.\" Phone says \"yes.']"
   ]
  },
  {
   "cell_type": "code",
   "execution_count": 9,
   "metadata": {},
   "outputs": [
    {
     "name": "stdout",
     "output_type": "stream",
     "text": [
      "['no.', 'yes.']\n"
     ]
    }
   ],
   "source": [
    "# Non-greedy match example\n",
    "str_pat = re.compile(r'\\\"(.*?)\\\"')\n",
    "print(str_pat.findall(text2))  # Output: ['no.', 'yes.']"
   ]
  }
 ],
 "metadata": {
  "kernelspec": {
   "display_name": "py-env",
   "language": "python",
   "name": "python3"
  },
  "language_info": {
   "codemirror_mode": {
    "name": "ipython",
    "version": 3
   },
   "file_extension": ".py",
   "mimetype": "text/x-python",
   "name": "python",
   "nbconvert_exporter": "python",
   "pygments_lexer": "ipython3",
   "version": "3.11.11"
  }
 },
 "nbformat": 4,
 "nbformat_minor": 2
}
