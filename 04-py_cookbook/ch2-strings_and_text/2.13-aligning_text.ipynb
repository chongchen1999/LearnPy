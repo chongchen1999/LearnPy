{
 "cells": [
  {
   "cell_type": "code",
   "execution_count": 1,
   "metadata": {},
   "outputs": [
    {
     "name": "stdout",
     "output_type": "stream",
     "text": [
      "Hello World         \n",
      "         Hello World\n",
      "    Hello World     \n",
      "=========Hello World\n",
      "****Hello World*****\n"
     ]
    }
   ],
   "source": [
    "# Using String Methods:\n",
    "text = 'Hello World'\n",
    "\n",
    "# Left alignment\n",
    "print(text.ljust(20))        # Output: 'Hello World         '\n",
    "\n",
    "# Right alignment\n",
    "print(text.rjust(20))        # Output: '         Hello World'\n",
    "\n",
    "# Center alignment\n",
    "print(text.center(20))       # Output: '    Hello World     '\n",
    "\n",
    "# Using a fill character\n",
    "print(text.rjust(20, '='))   # Output: '=========Hello World'\n",
    "print(text.center(20, '*'))  # Output: '****Hello World*****'"
   ]
  },
  {
   "cell_type": "code",
   "execution_count": 2,
   "metadata": {},
   "outputs": [
    {
     "name": "stdout",
     "output_type": "stream",
     "text": [
      "         Hello World\n",
      "Hello World         \n",
      "    Hello World     \n",
      "=========Hello World\n",
      "****Hello World*****\n"
     ]
    }
   ],
   "source": [
    "# Using the format() Function:\n",
    "text = 'Hello World'\n",
    "\n",
    "# Right alignment\n",
    "print(format(text, '>20'))    # Output: '         Hello World'\n",
    "\n",
    "# Left alignment\n",
    "print(format(text, '<20'))    # Output: 'Hello World         '\n",
    "\n",
    "# Center alignment\n",
    "print(format(text, '^20'))    # Output: '    Hello World     '\n",
    "\n",
    "# Using a fill character\n",
    "print(format(text, '=>20s'))  # Output: '=========Hello World'\n",
    "print(format(text, '*^20s'))  # Output: '****Hello World*****'"
   ]
  }
 ],
 "metadata": {
  "kernelspec": {
   "display_name": "py-env",
   "language": "python",
   "name": "python3"
  },
  "language_info": {
   "codemirror_mode": {
    "name": "ipython",
    "version": 3
   },
   "file_extension": ".py",
   "mimetype": "text/x-python",
   "name": "python",
   "nbconvert_exporter": "python",
   "pygments_lexer": "ipython3",
   "version": "3.11.11"
  }
 },
 "nbformat": 4,
 "nbformat_minor": 2
}
