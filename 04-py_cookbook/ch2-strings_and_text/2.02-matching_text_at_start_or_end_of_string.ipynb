{
 "cells": [
  {
   "cell_type": "code",
   "execution_count": 1,
   "metadata": {},
   "outputs": [
    {
     "name": "stdout",
     "output_type": "stream",
     "text": [
      "True\n",
      "False\n",
      "True\n"
     ]
    }
   ],
   "source": [
    "filename = 'spam.txt'\n",
    "print(filename.endswith('.txt'))  # True\n",
    "print(filename.startswith('file:'))  # False\n",
    "\n",
    "url = 'http://www.python.org'\n",
    "print(url.startswith('http:'))  # True"
   ]
  },
  {
   "cell_type": "code",
   "execution_count": 5,
   "metadata": {},
   "outputs": [
    {
     "name": "stdout",
     "output_type": "stream",
     "text": [
      "['2.02-matching_text_at_start_or_end_of_string.ipynb', '2.01-splitting_strings.ipynb']\n",
      "['2.02-matching_text_at_start_or_end_of_string.ipynb', '2.01-splitting_strings.ipynb']\n",
      "False\n"
     ]
    }
   ],
   "source": [
    "import os\n",
    "\n",
    "filenames = os.listdir('.')\n",
    "print(filenames)  # ['Makefile', 'foo.c', 'bar.py', 'spam.c', 'spam.h']\n",
    "\n",
    "# Filter filenames ending with '.c' or '.h'\n",
    "filtered_names = [name for name in filenames if name.endswith(('.c', '.h', 'nb'))]\n",
    "print(filtered_names)  # ['foo.c', 'spam.c', 'spam.h']\n",
    "\n",
    "# Check if any filename ends with '.py'\n",
    "print(any(name.endswith('.py') for name in filenames))  # True"
   ]
  },
  {
   "cell_type": "code",
   "execution_count": 7,
   "metadata": {},
   "outputs": [
    {
     "name": "stdout",
     "output_type": "stream",
     "text": [
      "True\n"
     ]
    }
   ],
   "source": [
    "choices = ['http:', 'ftp:']\n",
    "url = 'http://www.python.org'\n",
    "\n",
    "# This will raise a TypeError\n",
    "# print(url.startswith(choices))\n",
    "\n",
    "# Correct way\n",
    "print(url.startswith(tuple(choices)))  # True"
   ]
  },
  {
   "cell_type": "code",
   "execution_count": 8,
   "metadata": {},
   "outputs": [
    {
     "name": "stdout",
     "output_type": "stream",
     "text": [
      "True\n",
      "True\n"
     ]
    }
   ],
   "source": [
    "filename = 'spam.txt'\n",
    "print(filename[-4:] == '.txt')  # True\n",
    "\n",
    "url = 'http://www.python.org'\n",
    "print(url[:5] == 'http:' or url[:6] == 'https:' or url[:4] == 'ftp:')  # True"
   ]
  },
  {
   "cell_type": "code",
   "execution_count": 10,
   "metadata": {},
   "outputs": [
    {
     "name": "stdout",
     "output_type": "stream",
     "text": [
      "http:\n"
     ]
    }
   ],
   "source": [
    "import re\n",
    "\n",
    "url = 'http://www.python.org'\n",
    "print(re.match('http:|https:|ftp:', url).group())  # <_sre.SRE_Match object at 0x101253098>"
   ]
  },
  {
   "cell_type": "code",
   "execution_count": null,
   "metadata": {},
   "outputs": [],
   "source": []
  }
 ],
 "metadata": {
  "kernelspec": {
   "display_name": "py-env",
   "language": "python",
   "name": "python3"
  },
  "language_info": {
   "codemirror_mode": {
    "name": "ipython",
    "version": 3
   },
   "file_extension": ".py",
   "mimetype": "text/x-python",
   "name": "python",
   "nbconvert_exporter": "python",
   "pygments_lexer": "ipython3",
   "version": "3.11.11"
  }
 },
 "nbformat": 4,
 "nbformat_minor": 2
}
