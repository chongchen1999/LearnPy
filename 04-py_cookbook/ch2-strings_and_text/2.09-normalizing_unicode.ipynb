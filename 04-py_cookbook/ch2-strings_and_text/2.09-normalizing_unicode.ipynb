{
 "cells": [
  {
   "cell_type": "code",
   "execution_count": 1,
   "metadata": {},
   "outputs": [
    {
     "name": "stdout",
     "output_type": "stream",
     "text": [
      "True\n",
      "'Spicy Jalape\\xf1o'\n",
      "True\n",
      "'Spicy Jalapen\\u0303o'\n"
     ]
    }
   ],
   "source": [
    "import unicodedata\n",
    "\n",
    "# Example strings with different representations of \"ñ\"\n",
    "s1 = 'Spicy Jalape\\u00f1o'  # Fully composed \"ñ\" (U+00F1)\n",
    "s2 = 'Spicy Jalapen\\u0303o'  # Latin \"n\" followed by combining tilde (U+0303)\n",
    "\n",
    "# Normalize to NFC (Normal Form Composed)\n",
    "t1 = unicodedata.normalize('NFC', s1)\n",
    "t2 = unicodedata.normalize('NFC', s2)\n",
    "\n",
    "print(t1 == t2)  # True\n",
    "print(ascii(t1))  # 'Spicy Jalape\\xf1o'\n",
    "\n",
    "# Normalize to NFD (Normal Form Decomposed)\n",
    "t3 = unicodedata.normalize('NFD', s1)\n",
    "t4 = unicodedata.normalize('NFD', s2)\n",
    "\n",
    "print(t3 == t4)  # True\n",
    "print(ascii(t3))  # 'Spicy Jalapen\\u0303o'"
   ]
  },
  {
   "cell_type": "code",
   "execution_count": 2,
   "metadata": {},
   "outputs": [
    {
     "name": "stdout",
     "output_type": "stream",
     "text": [
      "Spicy Jalapeno\n"
     ]
    }
   ],
   "source": [
    "t1 = unicodedata.normalize('NFD', s1)\n",
    "filtered_text = ''.join(c for c in t1 if not unicodedata.combining(c))\n",
    "print(filtered_text)  # 'Spicy Jalapeno'"
   ]
  }
 ],
 "metadata": {
  "kernelspec": {
   "display_name": "py-env",
   "language": "python",
   "name": "python3"
  },
  "language_info": {
   "codemirror_mode": {
    "name": "ipython",
    "version": 3
   },
   "file_extension": ".py",
   "mimetype": "text/x-python",
   "name": "python",
   "nbconvert_exporter": "python",
   "pygments_lexer": "ipython3",
   "version": "3.11.11"
  }
 },
 "nbformat": 4,
 "nbformat_minor": 2
}
