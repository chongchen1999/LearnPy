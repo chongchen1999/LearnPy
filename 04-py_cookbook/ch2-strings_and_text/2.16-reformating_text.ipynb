{
 "cells": [
  {
   "cell_type": "code",
   "execution_count": 3,
   "metadata": {},
   "outputs": [
    {
     "name": "stdout",
     "output_type": "stream",
     "text": [
      "Look into my eyes, look into my eyes, the eyes, the eyes, the eyes,\n",
      "not around the eyes, don't look around the eyes, look into my eyes,\n",
      "you're under.\n",
      "================================================================================\n",
      "Look into my eyes, look into my eyes,\n",
      "the eyes, the eyes, the eyes, not around\n",
      "the eyes, don't look around the eyes,\n",
      "look into my eyes, you're under.\n"
     ]
    }
   ],
   "source": [
    "# 1. Basic Text Wrapping\n",
    "import textwrap\n",
    "\n",
    "s = \"Look into my eyes, look into my eyes, the eyes, the eyes, \\\n",
    "the eyes, not around the eyes, don't look around the eyes, \\\n",
    "look into my eyes, you're under.\"\n",
    "\n",
    "# Wrap text to 70 columns\n",
    "print(textwrap.fill(s, 70))\n",
    "\n",
    "print(\"=\"*80)\n",
    "\n",
    "# Wrap text to 40 columns\n",
    "print(textwrap.fill(s, 40))"
   ]
  },
  {
   "cell_type": "code",
   "execution_count": 5,
   "metadata": {},
   "outputs": [
    {
     "name": "stdout",
     "output_type": "stream",
     "text": [
      "    Look into my eyes, look into my\n",
      "eyes, the eyes, the eyes, the eyes, not\n",
      "around the eyes, don't look around the\n",
      "eyes, look into my eyes, you're under.\n",
      "**********************************************************************\n",
      "Look into my eyes, look into my eyes,\n",
      "    the eyes, the eyes, the eyes, not\n",
      "    around the eyes, don't look around\n",
      "    the eyes, look into my eyes, you're\n",
      "    under.\n"
     ]
    }
   ],
   "source": [
    "# 2. Adding Indentation\n",
    "# Wrap text to 40 columns with initial indentation\n",
    "print(textwrap.fill(s, 40, initial_indent='    '))\n",
    "\n",
    "print(\"*\" * 70)\n",
    "\n",
    "# Wrap text to 40 columns with subsequent indentation\n",
    "print(textwrap.fill(s, 40, subsequent_indent='    '))"
   ]
  },
  {
   "cell_type": "code",
   "execution_count": 7,
   "metadata": {},
   "outputs": [
    {
     "name": "stdout",
     "output_type": "stream",
     "text": [
      "Look into my eyes, look into my eyes, the eyes, the eyes, the eyes, not around\n",
      "the eyes, don't look around the eyes, look into my eyes, you're under.\n"
     ]
    }
   ],
   "source": [
    "# 3. Getting Terminal Width\n",
    "import os\n",
    "\n",
    "# Get the number of columns in the terminal\n",
    "try:\n",
    "    terminal_width = os.get_terminal_size().columns\n",
    "except OSError:\n",
    "    terminal_width = 80\n",
    "\n",
    "# Wrap text to fit the terminal width\n",
    "print(textwrap.fill(s, terminal_width))"
   ]
  }
 ],
 "metadata": {
  "kernelspec": {
   "display_name": "py-env",
   "language": "python",
   "name": "python3"
  },
  "language_info": {
   "codemirror_mode": {
    "name": "ipython",
    "version": 3
   },
   "file_extension": ".py",
   "mimetype": "text/x-python",
   "name": "python",
   "nbconvert_exporter": "python",
   "pygments_lexer": "ipython3",
   "version": "3.11.11"
  }
 },
 "nbformat": 4,
 "nbformat_minor": 2
}
