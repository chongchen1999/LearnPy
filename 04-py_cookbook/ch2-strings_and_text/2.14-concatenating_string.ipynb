{
 "cells": [
  {
   "cell_type": "code",
   "execution_count": 1,
   "metadata": {},
   "outputs": [
    {
     "data": {
      "text/plain": [
       "'IsChicagoNotChicago?'"
      ]
     },
     "execution_count": 1,
     "metadata": {},
     "output_type": "execute_result"
    }
   ],
   "source": [
    "# 1. Using join() Method:\n",
    "parts = ['Is', 'Chicago', 'Not', 'Chicago?']\n",
    "' '.join(parts)  # 'Is Chicago Not Chicago?'\n",
    "','.join(parts)  # 'Is,Chicago,Not,Chicago?'\n",
    "''.join(parts)   # 'IsChicagoNotChicago?'"
   ]
  },
  {
   "cell_type": "code",
   "execution_count": 4,
   "metadata": {},
   "outputs": [
    {
     "name": "stdout",
     "output_type": "stream",
     "text": [
      "Is Chicago 140394972239472\n",
      "Not Chicago? 140394972234608\n",
      "Is Chicago Not Chicago? 140394972468032\n"
     ]
    }
   ],
   "source": [
    "# 2. Using + Operator:\n",
    "a = 'Is Chicago'\n",
    "b = 'Not Chicago?'\n",
    "c = a + ' ' + b  # 'Is Chicago Not Chicago?'\n",
    "\n",
    "print(a, id(a))\n",
    "print(b, id(b))\n",
    "print(c, id(c))\n"
   ]
  },
  {
   "cell_type": "code",
   "execution_count": 5,
   "metadata": {},
   "outputs": [
    {
     "name": "stdout",
     "output_type": "stream",
     "text": [
      "Is Chicago Not Chicago?\n",
      "Is Chicago Not Chicago?\n"
     ]
    }
   ],
   "source": [
    "# 3. String Formatting:\n",
    "print('{} {}'.format(a, b))  # 'Is Chicago Not Chicago?'\n",
    "print(a + ' ' + b)           # 'Is Chicago Not Chicago?'"
   ]
  },
  {
   "cell_type": "code",
   "execution_count": 6,
   "metadata": {},
   "outputs": [
    {
     "data": {
      "text/plain": [
       "'HelloWorld'"
      ]
     },
     "execution_count": 6,
     "metadata": {},
     "output_type": "execute_result"
    }
   ],
   "source": [
    "# 4. Adjacent String Literals:\n",
    "a = 'Hello' 'World'\n",
    "a  # 'HelloWorld'"
   ]
  },
  {
   "cell_type": "code",
   "execution_count": 8,
   "metadata": {},
   "outputs": [
    {
     "data": {
      "text/plain": [
       "'IsChicagoNotChicago?'"
      ]
     },
     "execution_count": 8,
     "metadata": {},
     "output_type": "execute_result"
    }
   ],
   "source": [
    "#Performance Considerations:\n",
    "# prefer join than +\n",
    "s = ''\n",
    "for p in parts:\n",
    "    s += p  # Inefficient\n",
    "s"
   ]
  },
  {
   "cell_type": "code",
   "execution_count": 9,
   "metadata": {},
   "outputs": [
    {
     "data": {
      "text/plain": [
       "'ACME,50,91.1'"
      ]
     },
     "execution_count": 9,
     "metadata": {},
     "output_type": "execute_result"
    }
   ],
   "source": [
    "# Generator Expressions:\n",
    "data = ['ACME', 50, 91.1]\n",
    "','.join(str(d) for d in data)  # 'ACME,50,91.1'"
   ]
  },
  {
   "cell_type": "code",
   "execution_count": 10,
   "metadata": {},
   "outputs": [
    {
     "name": "stdout",
     "output_type": "stream",
     "text": [
      "HelloWorld:Not Chicago?:Is Chicago Not Chicago?\n",
      "HelloWorld:Not Chicago?:Is Chicago Not Chicago?\n",
      "HelloWorld:Not Chicago?:Is Chicago Not Chicago?\n"
     ]
    }
   ],
   "source": [
    "# Avoid Unnecessary Concatenation:\n",
    "print(a + ':' + b + ':' + c)  # Ugly\n",
    "print(':'.join([a, b, c]))    # Still ugly\n",
    "print(a, b, c, sep=':')       # Better"
   ]
  },
  {
   "cell_type": "code",
   "execution_count": 13,
   "metadata": {},
   "outputs": [
    {
     "name": "stdout",
     "output_type": "stream",
     "text": [
      "Data written to /home/tourist/diy/LearnPy/data/output_concatenated.txt using concatenation.\n",
      "Data written to /home/tourist/diy/LearnPy/data/output_separate.txt without concatenation.\n"
     ]
    }
   ],
   "source": [
    "# File: io_and_concatenation.py\n",
    "\n",
    "def write_with_concatenation(filename, chunks):\n",
    "    \"\"\"\n",
    "    Writes chunks to a file after concatenating them into a single string.\n",
    "    This is efficient for small chunks but can be problematic for large ones.\n",
    "    \"\"\"\n",
    "    with open(filename, 'w') as f:\n",
    "        combined = ''.join(chunks)  # Concatenate all chunks\n",
    "        f.write(combined)           # Write the combined string to the file\n",
    "\n",
    "def write_without_concatenation(filename, chunks):\n",
    "    \"\"\"\n",
    "    Writes chunks to a file one at a time.\n",
    "    This is more efficient for large chunks as it avoids creating a large temporary string.\n",
    "    \"\"\"\n",
    "    with open(filename, 'w') as f:\n",
    "        for chunk in chunks:\n",
    "            f.write(chunk)  # Write each chunk separately\n",
    "\n",
    "def generate_chunks():\n",
    "    \"\"\"\n",
    "    A generator function that yields small strings (chunks).\n",
    "    \"\"\"\n",
    "    yield \"This is the first chunk.\\n\"\n",
    "    yield \"This is the second chunk.\\n\"\n",
    "    yield \"This is the third chunk.\\n\"\n",
    "    yield \"This is the fourth chunk.\\n\"\n",
    "\n",
    "\n",
    "# Define the filename\n",
    "filename_concatenated = \"/home/tourist/diy/LearnPy/data/output_concatenated.txt\"\n",
    "filename_separate = \"/home/tourist/diy/LearnPy/data/output_separate.txt\"\n",
    "\n",
    "# Generate chunks of data\n",
    "chunks = list(generate_chunks())\n",
    "\n",
    "# Write using concatenation\n",
    "write_with_concatenation(filename_concatenated, chunks)\n",
    "print(f\"Data written to {filename_concatenated} using concatenation.\")\n",
    "\n",
    "# Write without concatenation\n",
    "write_without_concatenation(filename_separate, chunks)\n",
    "print(f\"Data written to {filename_separate} without concatenation.\")"
   ]
  }
 ],
 "metadata": {
  "kernelspec": {
   "display_name": "py-env",
   "language": "python",
   "name": "python3"
  },
  "language_info": {
   "codemirror_mode": {
    "name": "ipython",
    "version": 3
   },
   "file_extension": ".py",
   "mimetype": "text/x-python",
   "name": "python",
   "nbconvert_exporter": "python",
   "pygments_lexer": "ipython3",
   "version": "3.11.11"
  }
 },
 "nbformat": 4,
 "nbformat_minor": 2
}
