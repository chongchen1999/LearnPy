{
 "cells": [
  {
   "cell_type": "code",
   "execution_count": 1,
   "metadata": {},
   "outputs": [
    {
     "name": "stdout",
     "output_type": "stream",
     "text": [
      "True\n",
      "True\n"
     ]
    }
   ],
   "source": [
    "from fnmatch import fnmatch\n",
    "\n",
    "# Matching filenames\n",
    "print(fnmatch('foo.txt', '*.txt'))  # True\n",
    "print(fnmatch('Dat45.csv', 'Dat[0-9]*'))  # True"
   ]
  },
  {
   "cell_type": "code",
   "execution_count": 2,
   "metadata": {},
   "outputs": [
    {
     "name": "stdout",
     "output_type": "stream",
     "text": [
      "False\n"
     ]
    }
   ],
   "source": [
    "from fnmatch import fnmatchcase\n",
    "\n",
    "# Case-sensitive matching\n",
    "print(fnmatchcase('foo.txt', '*.TXT'))  # False"
   ]
  },
  {
   "cell_type": "code",
   "execution_count": 3,
   "metadata": {},
   "outputs": [
    {
     "name": "stdout",
     "output_type": "stream",
     "text": [
      "['Dat1.csv', 'Dat2.csv']\n"
     ]
    }
   ],
   "source": [
    "names = ['Dat1.csv', 'Dat2.csv', 'config.ini', 'foo.py']\n",
    "matched_files = [name for name in names if fnmatch(name, 'Dat*.csv')]\n",
    "print(matched_files)  # Output: ['Dat1.csv', 'Dat2.csv']"
   ]
  },
  {
   "cell_type": "code",
   "execution_count": 4,
   "metadata": {},
   "outputs": [
    {
     "name": "stdout",
     "output_type": "stream",
     "text": [
      "['5412 N CLARK ST', '1060 W ADDISON ST', '2122 N CLARK ST']\n",
      "['5412 N CLARK ST']\n"
     ]
    }
   ],
   "source": [
    "addresses = [\n",
    "    '5412 N CLARK ST',\n",
    "    '1060 W ADDISON ST',\n",
    "    '1039 W GRANVILLE AVE',\n",
    "    '2122 N CLARK ST',\n",
    "    '4802 N BROADWAY',\n",
    "]\n",
    "\n",
    "# Find addresses ending with 'ST'\n",
    "st_addresses = [addr for addr in addresses if fnmatchcase(addr, '* ST')]\n",
    "print(st_addresses)  # Output: ['5412 N CLARK ST', '1060 W ADDISON ST', '2122 N CLARK ST']\n",
    "\n",
    "# Find addresses matching a specific pattern\n",
    "clark_addresses = [addr for addr in addresses if fnmatchcase(addr, '54[0-9][0-9] *CLARK*')]\n",
    "print(clark_addresses)  # Output: ['5412 N CLARK ST']"
   ]
  }
 ],
 "metadata": {
  "kernelspec": {
   "display_name": "py-env",
   "language": "python",
   "name": "python3"
  },
  "language_info": {
   "codemirror_mode": {
    "name": "ipython",
    "version": 3
   },
   "file_extension": ".py",
   "mimetype": "text/x-python",
   "name": "python",
   "nbconvert_exporter": "python",
   "pygments_lexer": "ipython3",
   "version": "3.11.11"
  }
 },
 "nbformat": 4,
 "nbformat_minor": 2
}
