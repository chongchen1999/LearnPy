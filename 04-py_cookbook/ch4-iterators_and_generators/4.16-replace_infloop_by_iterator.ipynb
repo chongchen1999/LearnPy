{
 "cells": [
  {
   "cell_type": "code",
   "execution_count": 3,
   "metadata": {},
   "outputs": [
    {
     "name": "stdout",
     "output_type": "stream",
     "text": [
      "This is the first line of the file.\n",
      "Here is the second line of the file.\n",
      "And this is the third line of the file.\n",
      "The file can have as much text as you want.\n",
      "You can test reading it in chunks using Python.\n",
      "\n"
     ]
    }
   ],
   "source": [
    "# Traditional while loop approach\n",
    "def process_data():\n",
    "    with open('/home/tourist/diy/LearnPy/data/data.txt', 'r') as file:\n",
    "        while True:\n",
    "            chunk = file.read(1024)  # Read data in 1024-byte chunks\n",
    "            if not chunk:           # Stop when chunk is empty (EOF)\n",
    "                break\n",
    "            print(chunk)            # Process the chunk (e.g., print it)\n",
    "\n",
    "process_data()\n"
   ]
  },
  {
   "cell_type": "code",
   "execution_count": 4,
   "metadata": {},
   "outputs": [
    {
     "name": "stdout",
     "output_type": "stream",
     "text": [
      "This is the first line of the file.\n",
      "Here is the second line of the file.\n",
      "And this is the third line of the file.\n",
      "The file can have as much text as you want.\n",
      "You can test reading it in chunks using Python.\n",
      "\n"
     ]
    }
   ],
   "source": [
    "# Using iter() with a sentinel value\n",
    "def process_data():\n",
    "    with open('/home/tourist/diy/LearnPy/data/data.txt', 'r') as file:\n",
    "        for chunk in iter(lambda: file.read(1024), ''):  # '' is the sentinel value\n",
    "            print(chunk)  # Process the chunk (e.g., print it)\n",
    "\n",
    "process_data()\n"
   ]
  }
 ],
 "metadata": {
  "kernelspec": {
   "display_name": "py-env",
   "language": "python",
   "name": "python3"
  },
  "language_info": {
   "codemirror_mode": {
    "name": "ipython",
    "version": 3
   },
   "file_extension": ".py",
   "mimetype": "text/x-python",
   "name": "python",
   "nbconvert_exporter": "python",
   "pygments_lexer": "ipython3",
   "version": "3.11.11"
  }
 },
 "nbformat": 4,
 "nbformat_minor": 2
}
