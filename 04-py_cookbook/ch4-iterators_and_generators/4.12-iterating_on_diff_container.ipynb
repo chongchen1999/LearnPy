{
 "cells": [
  {
   "cell_type": "code",
   "execution_count": 1,
   "metadata": {},
   "outputs": [
    {
     "name": "stdout",
     "output_type": "stream",
     "text": [
      "1\n",
      "2\n",
      "3\n",
      "4\n",
      "x\n",
      "y\n",
      "z\n",
      "5\n",
      "6\n",
      "7\n"
     ]
    }
   ],
   "source": [
    "from itertools import chain\n",
    "\n",
    "# Define some containers\n",
    "a = [1, 2, 3, 4]\n",
    "b = ['x', 'y', 'z']\n",
    "c = {5, 6, 7}\n",
    "\n",
    "# Iterate over all elements as if they were in a single container\n",
    "for item in chain(a, b, c):\n",
    "    print(item)"
   ]
  },
  {
   "cell_type": "code",
   "execution_count": 2,
   "metadata": {},
   "outputs": [
    {
     "name": "stdout",
     "output_type": "stream",
     "text": [
      "Processing: item3\n",
      "Processing: item1\n",
      "Processing: item2\n",
      "Processing: item5\n",
      "Processing: item4\n"
     ]
    }
   ],
   "source": [
    "active_items = {'item1', 'item2', 'item3'}\n",
    "inactive_items = {'item4', 'item5'}\n",
    "\n",
    "# Process all items using chain()\n",
    "for item in chain(active_items, inactive_items):\n",
    "    print(f\"Processing: {item}\")"
   ]
  }
 ],
 "metadata": {
  "kernelspec": {
   "display_name": "py-env",
   "language": "python",
   "name": "python3"
  },
  "language_info": {
   "codemirror_mode": {
    "name": "ipython",
    "version": 3
   },
   "file_extension": ".py",
   "mimetype": "text/x-python",
   "name": "python",
   "nbconvert_exporter": "python",
   "pygments_lexer": "ipython3",
   "version": "3.11.11"
  }
 },
 "nbformat": 4,
 "nbformat_minor": 2
}
