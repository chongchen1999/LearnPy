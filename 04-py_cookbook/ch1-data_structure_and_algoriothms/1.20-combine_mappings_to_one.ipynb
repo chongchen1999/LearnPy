{
 "cells": [
  {
   "cell_type": "code",
   "execution_count": 14,
   "metadata": {},
   "outputs": [
    {
     "data": {
      "text/plain": [
       "ChainMap({'x': 1, 'z': 3}, {'y': 2, 'z': 4})"
      ]
     },
     "execution_count": 14,
     "metadata": {},
     "output_type": "execute_result"
    }
   ],
   "source": [
    "from collections import ChainMap\n",
    "\n",
    "a = {'x': 1, 'z': 3}\n",
    "b = {'y': 2, 'z': 4}\n",
    "\n",
    "c = ChainMap(a, b)\n",
    "c"
   ]
  },
  {
   "cell_type": "code",
   "execution_count": 15,
   "metadata": {},
   "outputs": [
    {
     "name": "stdout",
     "output_type": "stream",
     "text": [
      "1\n",
      "2\n",
      "3\n"
     ]
    }
   ],
   "source": [
    "print(c['x'])  # Outputs 1 (from a)\n",
    "print(c['y'])  # Outputs 2 (from b)\n",
    "print(c['z'])  # Outputs 3 (from a)"
   ]
  },
  {
   "cell_type": "code",
   "execution_count": 25,
   "metadata": {},
   "outputs": [
    {
     "data": {
      "text/plain": [
       "ChainMap({'w': 40, 'z': 10}, {'y': 2, 'z': 4})"
      ]
     },
     "execution_count": 25,
     "metadata": {},
     "output_type": "execute_result"
    }
   ],
   "source": [
    "c['z'] = 10  # This updates dictionary 'a'\n",
    "c['w'] = 40  # This adds to dictionary 'a'\n",
    "c"
   ]
  },
  {
   "cell_type": "code",
   "execution_count": 26,
   "metadata": {},
   "outputs": [
    {
     "data": {
      "text/plain": [
       "ChainMap({'w': 40}, {'y': 2, 'z': 4})"
      ]
     },
     "execution_count": 26,
     "metadata": {},
     "output_type": "execute_result"
    }
   ],
   "source": [
    "del c['z']   # This deletes from dictionary 'a'\n",
    "c"
   ]
  },
  {
   "cell_type": "code",
   "execution_count": 29,
   "metadata": {},
   "outputs": [
    {
     "data": {
      "text/plain": [
       "ChainMap({'w': 40}, {'y': 2, 'z': 4})"
      ]
     },
     "execution_count": 29,
     "metadata": {},
     "output_type": "execute_result"
    }
   ],
   "source": [
    "c"
   ]
  },
  {
   "cell_type": "code",
   "execution_count": 28,
   "metadata": {},
   "outputs": [
    {
     "name": "stdout",
     "output_type": "stream",
     "text": [
      "ChainMap({'x': 1})\n",
      "ChainMap({'x': 2}, {'x': 1})\n",
      "ChainMap({'x': 3}, {'x': 2}, {'x': 1})\n",
      "ChainMap({'x': 2}, {'x': 1})\n",
      "2\n",
      "ChainMap({'x': 1})\n",
      "1\n"
     ]
    }
   ],
   "source": [
    "values = ChainMap()\n",
    "values['x'] = 1\n",
    "print(values)  # ChainMap({'x': 1})\n",
    "\n",
    "# Add a new mapping\n",
    "values = values.new_child()\n",
    "values['x'] = 2\n",
    "print(values)  # ChainMap({'x': 2}, {'x': 1})\n",
    "\n",
    "# Add another new mapping\n",
    "values = values.new_child()\n",
    "values['x'] = 3\n",
    "print(values)  # ChainMap({'x': 3}, {'x': 2}, {'x': 1})\n",
    "\n",
    "# Discard last mapping\n",
    "values = values.parents\n",
    "print(values)  # ChainMap({'x': 2}, {'x': 1})\n",
    "print(values['x'])  # Outputs 2\n",
    "\n",
    "# Discard last mapping again\n",
    "values = values.parents\n",
    "print(values)  # ChainMap({'x': 1})\n",
    "print(values['x'])  # Outputs 1"
   ]
  },
  {
   "cell_type": "code",
   "execution_count": 11,
   "metadata": {},
   "outputs": [
    {
     "name": "stdout",
     "output_type": "stream",
     "text": [
      "True\n",
      "1\n",
      "2\n",
      "3\n",
      "{'x': 1, 'z': 3}\n",
      "{'y': 2, 'z': 4}\n",
      "{'y': 2, 'z': 3, 'x': 1}\n"
     ]
    }
   ],
   "source": [
    "a = {'x': 1, 'z': 3}\n",
    "b = {'y': 2, 'z': 4}\n",
    "\n",
    "merged = dict(b)\n",
    "print(merged == b)\n",
    "\n",
    "merged.update(a)\n",
    "\n",
    "print(merged['x'])  # Outputs 1\n",
    "print(merged['y'])  # Outputs 2\n",
    "print(merged['z'])  # Outputs 3\n",
    "print(a)\n",
    "print(b)\n",
    "print(merged)"
   ]
  },
  {
   "cell_type": "code",
   "execution_count": 12,
   "metadata": {},
   "outputs": [
    {
     "name": "stdout",
     "output_type": "stream",
     "text": [
      "1\n",
      "{'x': 13, 'z': 3}\n",
      "{'y': 2, 'z': 4}\n",
      "{'y': 2, 'z': 3, 'x': 1}\n"
     ]
    }
   ],
   "source": [
    "a['x'] = 13\n",
    "print(merged['x'])  # Still outputs 1\n",
    "print(a)\n",
    "print(b)\n",
    "print(merged)"
   ]
  },
  {
   "cell_type": "code",
   "execution_count": 13,
   "metadata": {},
   "outputs": [
    {
     "name": "stdout",
     "output_type": "stream",
     "text": [
      "1\n",
      "42\n"
     ]
    }
   ],
   "source": [
    "a = {'x': 1, 'z': 3}\n",
    "b = {'y': 2, 'z': 4}\n",
    "\n",
    "merged = ChainMap(a, b)\n",
    "print(merged['x'])  # Outputs 1\n",
    "\n",
    "a['x'] = 42\n",
    "print(merged['x'])  # Outputs 42"
   ]
  }
 ],
 "metadata": {
  "kernelspec": {
   "display_name": "py-env",
   "language": "python",
   "name": "python3"
  },
  "language_info": {
   "codemirror_mode": {
    "name": "ipython",
    "version": 3
   },
   "file_extension": ".py",
   "mimetype": "text/x-python",
   "name": "python",
   "nbconvert_exporter": "python",
   "pygments_lexer": "ipython3",
   "version": "3.11.11"
  }
 },
 "nbformat": 4,
 "nbformat_minor": 2
}
